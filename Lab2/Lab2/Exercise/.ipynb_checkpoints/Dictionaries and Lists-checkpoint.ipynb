{
 "cells": [
  {
   "cell_type": "markdown",
   "metadata": {},
   "source": [
    "## Lab-2 Exercise - Dictionaries and Lists"
   ]
  },
  {
   "cell_type": "code",
   "execution_count": 14,
   "metadata": {
    "collapsed": true
   },
   "outputs": [],
   "source": [
    "from collections import defaultdict\n",
    "import os"
   ]
  },
  {
   "cell_type": "code",
   "execution_count": 37,
   "metadata": {
    "collapsed": true
   },
   "outputs": [],
   "source": [
    "def file_to_list(file_name):\n",
    "    f = open(file_name,'r')\n",
    "    line = f.read()\n",
    "    f.close()\n",
    "    words = line.split()\n",
    "    return words"
   ]
  },
  {
   "cell_type": "code",
   "execution_count": 5,
   "metadata": {
    "collapsed": true
   },
   "outputs": [],
   "source": [
    "def make_dictionary(list_of_words):\n",
    "    dict_words = {}\n",
    "    for word in list_of_words:\n",
    "        if dict_words.get(word) == None:\n",
    "            dict_words[word] = 0\n",
    "        else:\n",
    "            dict_words[word] += 1\n",
    "    return dict_words"
   ]
  },
  {
   "cell_type": "markdown",
   "metadata": {},
   "source": [
    "### Task 1\n",
    "In this task you have to convert two files named **chap1.txt** and **chap2.txt** to dictionary. Then you have to combine these two dictionary to form one unified diicctionary using the function: ```combine_dict(list_of_dictionaries)```. The function accepts a list of dictionaries and returns one unified dictionary.\n",
    "\n",
    "**Note :** For this task you will use default ``` defaultdict ``` from module ```collections```. For your convinience it is imported. "
   ]
  },
  {
   "cell_type": "code",
   "execution_count": 6,
   "metadata": {},
   "outputs": [],
   "source": [
    "def combine_dict(list_of_dictionaries):\n",
    "    dict1 = list_of_dictionaries[0]\n",
    "    for item in list_of_dictionaries[1].iteritems():\n",
    "        if dict1.get(item[0]) == None:\n",
    "            dict1[item[0]] = item[1]\n",
    "        else:\n",
    "            dict1[item[0]] += item[1]\n",
    "    return dict1\n",
    "dictionaries = combine_dict([make_dictionary(file_to_list('chap1.txt')),make_dictionary(file_to_list('chap2.txt'))])"
   ]
  },
  {
   "cell_type": "markdown",
   "metadata": {},
   "source": [
    "### Task 2\n",
    "Implement the following function, that sorts a dictionary, one the basis of keys / values in assending / decending order and returns the resulting sorted list of tuples of the form (k,v).\n"
   ]
  },
  {
   "cell_type": "code",
   "execution_count": 7,
   "metadata": {
    "collapsed": true
   },
   "outputs": [],
   "source": [
    "def sort_dictionary(dictionary, on_keys = True, assending = True):\n",
    "    tuple_sorted = list()\n",
    "    if on_keys and assending:\n",
    "        for key in sorted(dictionary.keys()):\n",
    "             tuple_sorted.append((key,dictionary[key]))\n",
    "    elif on_keys and not assending:\n",
    "        for key in sorted(dictionary.keys(),reverse=True):\n",
    "            tuple_sorted.append((key,dictionary[key]))\n",
    "    elif not on_keys and assending:\n",
    "        for key,value in sorted(dictionary.iteritems(), key = lambda (k,v): (v,k)):\n",
    "            tuple_sorted.append((key,value))\n",
    "    else:\n",
    "        for key,value in sorted(dictionary.iteritems(), key = lambda (k,v): (v,k),reverse=True):\n",
    "            tuple_sorted.append((key,value))\n",
    "    return tuple_sorted\n",
    "sort_dictionary(dictionaries);"
   ]
  },
  {
   "cell_type": "markdown",
   "metadata": {},
   "source": [
    "#### Question : Why we did not return sorted dictionary instead of list of tuples"
   ]
  },
  {
   "cell_type": "markdown",
   "metadata": {
    "collapsed": true
   },
   "source": [
    "#### Because dictionary internal implementation changes order"
   ]
  },
  {
   "cell_type": "markdown",
   "metadata": {},
   "source": [
    "### Task 3 \n",
    "You are provided with a folder ```names```. The flder contains text files correspoing to years from *1880* to *2014*. These files contain popularity of different names in each year. Each line in these files contains :\n",
    "    - Name\n",
    "    - Gender (M / F)\n",
    "    - Count (Number of newborns given that name)\n",
    "   \n",
    "We will represent this information using dictionaries in multiple forms.\n",
    "\n",
    "#### Tesk 3.1 \n",
    "Implement the following function and read all the files and return a dictionary of the form : ``` year -> List of tuple (name, gender, count)```"
   ]
  },
  {
   "cell_type": "code",
   "execution_count": 228,
   "metadata": {},
   "outputs": [],
   "source": [
    "def files_to_dict1(folder_name):\n",
    "    file_name = \"\"\n",
    "    dict1 = defaultdict()\n",
    "    for itr in range(1880,2015):\n",
    "        dict1[itr]=[]\n",
    "        tuple_list=()\n",
    "        file_name = folder_name+'/'+'yob'+str(itr)+'.txt'\n",
    "        words = file_to_list(file_name)\n",
    "        for line in words:\n",
    "            word = line.split(',')\n",
    "            dict1[itr].append(word)\n",
    "    return dict1\n",
    "files_to_dict1('names');"
   ]
  },
  {
   "cell_type": "markdown",
   "metadata": {},
   "source": [
    "#### Tesk 3.2\n",
    "Implement the following function and read all the files and return a dictionary of the form : ``` ( name, gender ) -> list of (years, counts)```"
   ]
  },
  {
   "cell_type": "code",
   "execution_count": 24,
   "metadata": {},
   "outputs": [],
   "source": [
    "def files_to_dict2(folder_name):\n",
    "    file_name=\"\"\n",
    "    dict1= defaultdict()\n",
    "    for itr in range(1880,2015):\n",
    "        file_name = folder_name+'/'+'yob'+str(itr)+'.txt'\n",
    "        words = file_to_list(file_name)\n",
    "        for line in words:\n",
    "            word = line.split(',')\n",
    "            keyOfDict1 = (word[0],word[1])\n",
    "            if dict1.get(keyOfDict1) == None:\n",
    "                dict1[keyOfDict1]=[]\n",
    "                ValueOfDict1 = []\n",
    "                ValueOfDict1.append((str(itr),word[2]))\n",
    "                dict1[keyOfDict1].append(ValueOfDict1)\n",
    "            else:\n",
    "                ValueOfDict1 = []\n",
    "                ValueOfDict1.append((str(itr),word[2]))\n",
    "                dict1[keyOfDict1].append(ValueOfDict1)\n",
    "            \n",
    "    return dict1\n",
    "files_to_dict2('names');"
   ]
  },
  {
   "cell_type": "markdown",
   "metadata": {},
   "source": [
    "#### Tesk 3.3\n",
    "Implement the following function and read all the files and return a dictionary of the form : ``` name -> total count over the years ```"
   ]
  },
  {
   "cell_type": "code",
   "execution_count": 30,
   "metadata": {},
   "outputs": [],
   "source": [
    "def files_to_dict3(folder_name):\n",
    "    file_name=\"\"\n",
    "    dict1= defaultdict()\n",
    "    for itr in range(1880,2015):\n",
    "        file_name = folder_name+'/'+'yob'+str(itr)+'.txt'\n",
    "        words = file_to_list(file_name)\n",
    "        for line in words:\n",
    "            word = line.split(',')\n",
    "            if dict1.get(word[0]) == None:\n",
    "                dict1[word[0]] = 0\n",
    "                dict1[word[0]] += int(word[2])\n",
    "            else:\n",
    "                dict1[word[0]] += int(word[2])\n",
    "    return dict1\n",
    "files_to_dict3('names');"
   ]
  },
  {
   "cell_type": "markdown",
   "metadata": {},
   "source": [
    "#### Tesk 3.4\n",
    "Implement the following function and read all the files and return a nested dictionary of the form :\n",
    "\n",
    "``` name -> dictionary of the form : year -> count ```"
   ]
  },
  {
   "cell_type": "code",
   "execution_count": 152,
   "metadata": {},
   "outputs": [],
   "source": [
    "def defaultValue():\n",
    "    return 0\n",
    "def files_to_dict4(folder_name):\n",
    "    file_name=\"\"\n",
    "    dict1= defaultdict(defaultValue)\n",
    "    for itr in range(1880,2015):\n",
    "        file_name = folder_name+'/'+'yob'+str(itr)+'.txt'\n",
    "        words = file_to_list(file_name)\n",
    "        for line in words:\n",
    "            word = line.split(',')\n",
    "            if dict1.get(word[0]) == None:\n",
    "                dict1[word[0]] = {}\n",
    "                dict2 = {}\n",
    "                dict2[itr] = 0\n",
    "                dict2[itr] += int(word[2])\n",
    "                dict1[word[0]] = dict2\n",
    "            else:\n",
    "                internaldict = dict1[word[0]].iteritems()\n",
    "                same_gender = False\n",
    "                for item in internaldict:\n",
    "                    if  itr == item[0]:\n",
    "                        dict1[word[0]][itr] += int(word[2])\n",
    "                        same_gender = True\n",
    "                        break\n",
    "                if not same_gender:\n",
    "                    dict2 = {}\n",
    "                    dict2[itr] = 0\n",
    "                    dict2[itr] += int(word[2])\n",
    "                    dict1[word[0]].update(dict2)\n",
    "    return dict1\n",
    "resDict = files_to_dict4('names');"
   ]
  },
  {
   "cell_type": "markdown",
   "metadata": {},
   "source": [
    "#### Task 3.5\n",
    "Implement the fololowing functions to answer the following questions using the dictionaries made in the tasks *3.1 - 3.4*\n",
    "- Given a name, return the list of tuples of the form (year, count). *List should be sorted on the basis of year / counts*\n",
    "- Given a year, return the list of **top n** names sorted by counts.\n",
    "- Given a name, return the sorted list of probabilities of this name in different years."
   ]
  },
  {
   "cell_type": "code",
   "execution_count": 159,
   "metadata": {},
   "outputs": [
    {
     "name": "stdout",
     "output_type": "stream",
     "text": [
      "[(1899, 1852), (1901, 1887), (1903, 1940), (1979, 1960), (1983, 1976), (1897, 2009), (1986, 2017), (1984, 2049), (1978, 2058), (1891, 2071), (1985, 2077), (1980, 2092), (1988, 2094), (1982, 2095), (1904, 2100), (1987, 2104), (1975, 2112), (1906, 2135), (1905, 2145), (1977, 2148), (1976, 2153), (1898, 2161), (1902, 2168), (1893, 2186), (1989, 2190), (1896, 2197), (1981, 2209), (1907, 2217), (1895, 2236), (1887, 2238), (1990, 2272), (1991, 2272), (1894, 2295), (1889, 2304), (1908, 2310), (1992, 2348), (1881, 2352), (1974, 2354), (1890, 2368), (1973, 2383), (1883, 2395), (1886, 2418), (1994, 2420), (1885, 2425), (1909, 2438), (1972, 2449), (1880, 2455), (1892, 2476), (1884, 2485), (1993, 2497), (1995, 2537), (1996, 2560), (1882, 2596), (1888, 2621), (1900, 2631), (1997, 2648), (1998, 2791), (1999, 2920), (1910, 2927), (1971, 2966), (1969, 3082), (2000, 3123), (1968, 3155), (1970, 3156), (1911, 3197), (2001, 3198), (2002, 3326), (1967, 3358), (2003, 3468), (1966, 3611), (1965, 3822), (2004, 3923), (1964, 4152), (2005, 4186), (1963, 4215), (1962, 4377), (1961, 4662), (2006, 4671), (1960, 5006), (1959, 5099), (2007, 5115), (1958, 5175), (1912, 5674), (2008, 5783), (1957, 5786), (2009, 5900), (1956, 5989), (1955, 6234), (2010, 6398), (1913, 6427), (1954, 6437), (1936, 6501), (1939, 6604), (1938, 6613), (1945, 6648), (1953, 6697), (1937, 6739), (1933, 6779), (1934, 6797), (1940, 6874), (1935, 6914), (1950, 7003), (1952, 7010), (1944, 7020), (1951, 7148), (1949, 7215), (1941, 7224), (2011, 7229), (1946, 7352), (1948, 7473), (1932, 7532), (1942, 7624), (1943, 7672), (1947, 7853), (1931, 7881), (2012, 8071), (1914, 8169), (1929, 8670), (1930, 8687), (2013, 8856), (2014, 9359), (1928, 9405), (1927, 9964), (1926, 10101), (1915, 10211), (1919, 10710), (1925, 10730), (1916, 10737), (1917, 10777), (1923, 11148), (1922, 11286), (1924, 11291), (1920, 11370), (1918, 11441), (1921, 11509)]\n"
     ]
    }
   ],
   "source": [
    "def accurance_list(dictionary, name, sorted_by_year = True):\n",
    "    list_of_data = []\n",
    "    itemsItr = dictionary[name].iteritems()\n",
    "    for itr in itemsItr:\n",
    "        list_of_data.append(itr)\n",
    "    if not sorted_by_year:\n",
    "        return sorted(list_of_data, key= lambda x:x[1])\n",
    "    return list_of_data\n",
    "print accurance_list(resDict,'Henry',False)"
   ]
  },
  {
   "cell_type": "code",
   "execution_count": 187,
   "metadata": {},
   "outputs": [
    {
     "data": {
      "text/plain": [
       "[('Emma', '20799'),\n",
       " ('Olivia', '19674'),\n",
       " ('Noah', '19144'),\n",
       " ('Sophia', '18490'),\n",
       " ('Liam', '18342'),\n",
       " ('Mason', '17092'),\n",
       " ('Isabella', '16950'),\n",
       " ('Jacob', '16712'),\n",
       " ('William', '16687'),\n",
       " ('Ethan', '15619'),\n",
       " ('Ava', '15586'),\n",
       " ('Michael', '15323'),\n",
       " ('Alexander', '15293'),\n",
       " ('James', '14301'),\n",
       " ('Daniel', '13829'),\n",
       " ('Elijah', '13694'),\n",
       " ('Benjamin', '13687'),\n",
       " ('Logan', '13579'),\n",
       " ('Mia', '13442'),\n",
       " ('Aiden', '13296')]"
      ]
     },
     "execution_count": 187,
     "metadata": {},
     "output_type": "execute_result"
    }
   ],
   "source": [
    "def top_n(dictionary, year, n=10):\n",
    "    if dictionary.get(year) == None:\n",
    "        return 'Error year not found'\n",
    "    top_names = [ (x,z) for x,y,z in dictionary.get(year)]\n",
    "    top_names.sort(key = lambda x: int(x[1]),reverse = True)\n",
    "    return top_names[:n]\n",
    "top_n(files_to_dict1('names'),2014,20)"
   ]
  },
  {
   "cell_type": "code",
   "execution_count": 232,
   "metadata": {},
   "outputs": [
    {
     "data": {
      "text/plain": [
       "[(1880, 0.05058321123352956),\n",
       " (1881, 0.04923247277654005),\n",
       " (1882, 0.04780745641800595),\n",
       " (1883, 0.04653714475318107),\n",
       " (1884, 0.04511582690983536),\n",
       " (1885, 0.0437935956542449),\n",
       " (1886, 0.04265966039382433),\n",
       " (1887, 0.0414923890174747),\n",
       " (1888, 0.04014740413234174),\n",
       " (1889, 0.039001752567800904),\n",
       " (1890, 0.03790489951298291),\n",
       " (1891, 0.036919037950344326),\n",
       " (1892, 0.036011868749473146),\n",
       " (1893, 0.03507475490820631),\n",
       " (1894, 0.03422279458711278),\n",
       " (1895, 0.033427475586114),\n",
       " (1896, 0.032661767983338766),\n",
       " (1897, 0.031948960785704084),\n",
       " (1898, 0.031244387113629313),\n",
       " (1899, 0.030646158857945638),\n",
       " (1900, 0.03004625340774279),\n",
       " (1901, 0.029537648414125345),\n",
       " (1902, 0.029057629705203036),\n",
       " (1903, 0.028608070499951968),\n",
       " (1904, 0.028187915361049292),\n",
       " (1905, 0.02773226014980147),\n",
       " (1906, 0.02733226079996575),\n",
       " (1907, 0.026943860191842497),\n",
       " (1908, 0.026566022865123905),\n",
       " (1909, 0.026191844119636994),\n",
       " (1910, 0.025841907074930257),\n",
       " (1911, 0.025588766532128226),\n",
       " (1912, 0.025592782984205427),\n",
       " (1913, 0.025677171435521947),\n",
       " (1914, 0.02586591292777609),\n",
       " (1915, 0.025965284605886152),\n",
       " (1916, 0.026039787590623184),\n",
       " (1917, 0.026099760147758583),\n",
       " (1918, 0.026172847359770022),\n",
       " (1919, 0.026173495416752034),\n",
       " (1920, 0.02615323398669017),\n",
       " (1921, 0.026118074938861348),\n",
       " (1922, 0.026094752750596552),\n",
       " (1923, 0.026071637949438446),\n",
       " (1924, 0.026040561173932882),\n",
       " (1925, 0.025995414318024813),\n",
       " (1926, 0.025952620094794567),\n",
       " (1927, 0.025897458180793465),\n",
       " (1928, 0.025830746942301978),\n",
       " (1929, 0.02577189672654287),\n",
       " (1930, 0.025708514996821488),\n",
       " (1931, 0.025627888455720914),\n",
       " (1932, 0.025553311281112847),\n",
       " (1933, 0.025490572908421837),\n",
       " (1934, 0.02540737614982083),\n",
       " (1935, 0.02533660422980809),\n",
       " (1936, 0.02527837277759555),\n",
       " (1937, 0.02522046016711532),\n",
       " (1938, 0.02516239046564513),\n",
       " (1939, 0.025119420466898704),\n",
       " (1940, 0.025098185958792922),\n",
       " (1941, 0.025071043257261748),\n",
       " (1942, 0.02506361450414578),\n",
       " (1943, 0.025065568867499173),\n",
       " (1944, 0.025078638368928683),\n",
       " (1945, 0.025096301054309034),\n",
       " (1946, 0.025111128070973175),\n",
       " (1947, 0.025114454093636124),\n",
       " (1948, 0.025097191140053147),\n",
       " (1949, 0.02505494287645279),\n",
       " (1950, 0.024992563948086032),\n",
       " (1951, 0.0249125932136598),\n",
       " (1952, 0.02482597210777691),\n",
       " (1953, 0.02470515532368133),\n",
       " (1954, 0.024574257605334666),\n",
       " (1955, 0.024435460246203935),\n",
       " (1956, 0.024290530965881487),\n",
       " (1957, 0.02412545933949625),\n",
       " (1958, 0.023959720245708246),\n",
       " (1959, 0.02380309567382635),\n",
       " (1960, 0.023653794932940272),\n",
       " (1961, 0.023542850462607255),\n",
       " (1962, 0.02344458767640898),\n",
       " (1963, 0.023364540075527827),\n",
       " (1964, 0.02332502440089884),\n",
       " (1965, 0.023254807272250076),\n",
       " (1966, 0.023168263212536535),\n",
       " (1967, 0.023075336179776456),\n",
       " (1968, 0.022984131008012915),\n",
       " (1969, 0.02287058974617458),\n",
       " (1970, 0.022742988027202468),\n",
       " (1971, 0.022602308781766486),\n",
       " (1972, 0.0224553846304367),\n",
       " (1973, 0.02230649826770895),\n",
       " (1974, 0.02215146328407839),\n",
       " (1975, 0.02198986467461817),\n",
       " (1976, 0.021825575703798537),\n",
       " (1977, 0.021651997500811607),\n",
       " (1978, 0.02148313991701799),\n",
       " (1979, 0.02131063730205848),\n",
       " (1980, 0.021130859421446418),\n",
       " (1981, 0.020953321343590434),\n",
       " (1982, 0.020776033160650513),\n",
       " (1983, 0.020601581151553527),\n",
       " (1984, 0.020427553422611277),\n",
       " (1985, 0.020246595548485638),\n",
       " (1986, 0.020066423452169163),\n",
       " (1987, 0.019884582387253394),\n",
       " (1988, 0.019700063753656936),\n",
       " (1989, 0.019510647153937213),\n",
       " (1990, 0.01931518970787486),\n",
       " (1991, 0.019125008428458365),\n",
       " (1992, 0.01893843664468227),\n",
       " (1993, 0.018757743941409454),\n",
       " (1994, 0.018582787599767867),\n",
       " (1995, 0.018413001456653613),\n",
       " (1996, 0.018244793411172574),\n",
       " (1997, 0.018079544113188278),\n",
       " (1998, 0.01791239069803493),\n",
       " (1999, 0.017747720521413393),\n",
       " (2000, 0.01758101265253634),\n",
       " (2001, 0.017416682256263697),\n",
       " (2002, 0.017251783828340736),\n",
       " (2003, 0.017086630166410828),\n",
       " (2004, 0.016922106423361085),\n",
       " (2005, 0.016758040306136302),\n",
       " (2006, 0.016590009632787527),\n",
       " (2007, 0.01642164877090093),\n",
       " (2008, 0.01625751240836554),\n",
       " (2009, 0.01609923353489985),\n",
       " (2010, 0.015949253652683966),\n",
       " (2011, 0.01580306076488414),\n",
       " (2012, 0.015658938129637978),\n",
       " (2013, 0.01551903912917267),\n",
       " (2014, 0.015379959347868207)]"
      ]
     },
     "execution_count": 232,
     "metadata": {},
     "output_type": "execute_result"
    }
   ],
   "source": [
    "def prob(dictionary, name):\n",
    "    probability_list = []\n",
    "    total_count_names = 0\n",
    "    same_count_name = 0\n",
    "    for items in dictionary.iteritems():\n",
    "        year = items[0]\n",
    "        lenOfList = len(items[1])\n",
    "        for itr in items[1]:\n",
    "            if name != itr[0]:\n",
    "                total_count_names += int(itr[2])\n",
    "            else:\n",
    "                same_count_name += int(itr[2])\n",
    "        probability_list.append((year,float(same_count_name)/total_count_names))\n",
    "    return probability_list\n",
    "prob(files_to_dict1('names'),'John')"
   ]
  },
  {
   "cell_type": "markdown",
   "metadata": {
    "collapsed": true
   },
   "source": [
    "#### Get Creative and play with these dictionaries to find usefull insights"
   ]
  },
  {
   "cell_type": "code",
   "execution_count": 249,
   "metadata": {},
   "outputs": [
    {
     "name": "stdout",
     "output_type": "stream",
     "text": [
      "[('ITC', [80, 12, 123, 12]), ('Inovation', [12, 12, 123]), ('Science', [80, 1, 2, 3]), ('German', [12, 21, 12, 12, 12])]\n"
     ]
    }
   ],
   "source": [
    "dictCourse ={'ITC':[80,12,123,12],'Science':[80,1,2,3],'German':[12,21,12,12,12],'Inovation':[12,12,123]}\n",
    "print sorted(dictCourse.iteritems(),key = lambda x : sum(x[1])/len(x[1]),reverse=True);"
   ]
  },
  {
   "cell_type": "code",
   "execution_count": null,
   "metadata": {
    "collapsed": true
   },
   "outputs": [],
   "source": []
  }
 ],
 "metadata": {
  "kernelspec": {
   "display_name": "Python 2",
   "language": "python",
   "name": "python2"
  },
  "language_info": {
   "codemirror_mode": {
    "name": "ipython",
    "version": 2
   },
   "file_extension": ".py",
   "mimetype": "text/x-python",
   "name": "python",
   "nbconvert_exporter": "python",
   "pygments_lexer": "ipython2",
   "version": "2.7.14"
  }
 },
 "nbformat": 4,
 "nbformat_minor": 1
}
