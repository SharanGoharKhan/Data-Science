{
 "cells": [
  {
   "cell_type": "markdown",
   "metadata": {},
   "source": [
    "### Numpy Exercise\n",
    "In this exercise, we will be working with a dataset with the information of baseball players. Here is the code to read the dataset and convert it into lists."
   ]
  },
  {
   "cell_type": "code",
   "execution_count": 1,
   "metadata": {},
   "outputs": [
    {
     "name": "stdout",
     "output_type": "stream",
     "text": [
      "Populating the interactive namespace from numpy and matplotlib\n"
     ]
    }
   ],
   "source": [
    "%pylab inline"
   ]
  },
  {
   "cell_type": "code",
   "execution_count": 2,
   "metadata": {
    "collapsed": true
   },
   "outputs": [],
   "source": [
    "import pandas as pd"
   ]
  },
  {
   "cell_type": "code",
   "execution_count": 4,
   "metadata": {},
   "outputs": [],
   "source": [
    "bbdata=pd.read_csv('baseball.csv')\n",
    "\n",
    "height=list(bbdata['height'])\n",
    "weight=list(bbdata['weights'])"
   ]
  },
  {
   "cell_type": "code",
   "execution_count": 5,
   "metadata": {},
   "outputs": [
    {
     "data": {
      "text/plain": [
       "<matplotlib.collections.PathCollection at 0x7fd5011e1f90>"
      ]
     },
     "execution_count": 5,
     "metadata": {},
     "output_type": "execute_result"
    },
    {
     "data": {
      "image/png": "[encoded data removed]",
      "text/plain": [
       "<matplotlib.figure.Figure at 0x7fd5012a7950>"
      ]
     },
     "metadata": {},
     "output_type": "display_data"
    }
   ],
   "source": [
    "plt.scatter(height,weight)"
   ]
  },
  {
   "cell_type": "markdown",
   "metadata": {},
   "source": [
    "### Real Work begins\n",
    "We have height and weidths as lists now, you task is to convert them into numpy arrays and then acheive the following insights.\n",
    "The units are height in inches, weight in Kgs"
   ]
  },
  {
   "cell_type": "code",
   "execution_count": 11,
   "metadata": {},
   "outputs": [
    {
     "name": "stdout",
     "output_type": "stream",
     "text": [
      "[74 74 72 ..., 75 75 73]\n",
      "[ 81.    96.75  94.5  ...,  92.25  85.5   87.75]\n"
     ]
    }
   ],
   "source": [
    "# height is available as a regular list\n",
    "\n",
    "# Import numpy\n",
    "import numpy as np\n",
    "from numpy import random\n",
    "# Create a Numpy array from height: np_height\n",
    "np_height = np.array(height)\n",
    "\n",
    "# Print out np_height\n",
    "print np_height\n",
    "\n",
    "\n",
    "# Create array from weight with correct units: np_weight_kg \n",
    "np_weight_kg = np.array(weight) *.45\n",
    "\n",
    "# print the array np_weight_kg\n",
    "print np_weight_kg"
   ]
  },
  {
   "cell_type": "markdown",
   "metadata": {},
   "source": [
    "* 1 meter = 39.3701 inches"
   ]
  },
  {
   "cell_type": "code",
   "execution_count": 12,
   "metadata": {},
   "outputs": [
    {
     "name": "stdout",
     "output_type": "stream",
     "text": [
      "[ 1.89736  1.89736  1.84608 ...,  1.923    1.923    1.87172]\n"
     ]
    }
   ],
   "source": [
    "# Convert np_height to meters: np_height_m\n",
    "np_height_m = np_height * .02564\n",
    "\n",
    "# Print np_height_m\n",
    "print np_height_m\n"
   ]
  },
  {
   "cell_type": "markdown",
   "metadata": {},
   "source": [
    "- BMI=weight(kg)/(height (in m)**2)"
   ]
  },
  {
   "cell_type": "code",
   "execution_count": 13,
   "metadata": {},
   "outputs": [
    {
     "name": "stdout",
     "output_type": "stream",
     "text": [
      "[ 22.50015644  26.87518686  27.72878076 ...,  24.94639567  23.12104965\n",
      "  25.0475564 ]\n"
     ]
    }
   ],
   "source": [
    "# Calculate the BMI: bmi\n",
    "bmi = np_weight_kg/(np_height_m ** 2)\n",
    "\n",
    "# Print out bmi\n",
    "print bmi"
   ]
  },
  {
   "cell_type": "markdown",
   "metadata": {},
   "source": [
    "Create a boolean Numpy array: the element of the array should be True if the corresponding baseball player's BMI is below 21. You can use the < operator for this. Name the array light.\n",
    "Print the array light.\n",
    "Print out a Numpy array with the BMIs of all baseball players whose BMI is below 21. Use light inside square brackets to do a selection on the bmi array.\n"
   ]
  },
  {
   "cell_type": "code",
   "execution_count": 16,
   "metadata": {},
   "outputs": [
    {
     "name": "stdout",
     "output_type": "stream",
     "text": [
      "[False False False ..., False False False]\n"
     ]
    },
    {
     "name": "stderr",
     "output_type": "stream",
     "text": [
      "/home/sharan/anaconda2/lib/python2.7/site-packages/ipykernel_launcher.py:1: RuntimeWarning: invalid value encountered in less\n",
      "  \"\"\"Entry point for launching an IPython kernel.\n"
     ]
    },
    {
     "data": {
      "text/plain": [
       "array([ 20.00013906,  20.00013906,  20.14643509,  20.14643509,\n",
       "        19.80627197,  20.55184115,  19.80627197,  20.55184115,\n",
       "        20.83895277,  20.55184115,  20.14643509,  20.6251434 ,\n",
       "        19.62654901,  20.68725495,  20.83895277,  20.7389773 ,\n",
       "        18.98359866,  20.14643509,  20.83895277,  20.68725495,\n",
       "        20.36812416,  20.6251434 ])"
      ]
     },
     "execution_count": 16,
     "metadata": {},
     "output_type": "execute_result"
    }
   ],
   "source": [
    "light = bmi < 21\n",
    "print light\n",
    "bmi[light]"
   ]
  },
  {
   "cell_type": "code",
   "execution_count": 17,
   "metadata": {},
   "outputs": [
    {
     "name": "stdout",
     "output_type": "stream",
     "text": [
      "[[ 180.    78.4]\n",
      " [ 215.   102.7]\n",
      " [ 210.    98.5]\n",
      " [ 188.    75.2]]\n",
      "(4, 2)\n"
     ]
    }
   ],
   "source": [
    "# Create baseball, a list of lists\n",
    "baseball = [[180, 78.4],\n",
    "            [215, 102.7],\n",
    "            [210, 98.5],\n",
    "            [188, 75.2]]\n",
    "\n",
    "# Import numpy\n",
    "import numpy as np\n",
    "# Create a 2D Numpy array from baseball: np_baseball\n",
    "np_baseball = np.array(baseball)\n",
    "\n",
    "# Print out the type of np_baseball\n",
    "print np_baseball\n",
    "\n",
    "# Print out the shape of np_baseball\n",
    "print np_baseball.shape"
   ]
  },
  {
   "cell_type": "code",
   "execution_count": 21,
   "metadata": {},
   "outputs": [
    {
     "name": "stdout",
     "output_type": "stream",
     "text": [
      "[[  74.   74.   72. ...,   75.   75.   73.]\n",
      " [ 180.  215.  210. ...,  205.  190.  195.]]\n"
     ]
    }
   ],
   "source": [
    "# Create a 2D Numpy array named np_baseball from the lists of weight and height\n",
    "np_baseball = np.array([height,weight])\n",
    "\n",
    "# Print out the shape of np_baseball\n",
    "print np_baseball\n"
   ]
  },
  {
   "cell_type": "markdown",
   "metadata": {},
   "source": [
    "- If you want to convert the units of height and weight. As a first step, create a Numpy array with two values: 0.0254, 0.453592. Name this array conversion.\n",
    "Multiply np_baseball with conversion and print out the result."
   ]
  },
  {
   "cell_type": "code",
   "execution_count": 29,
   "metadata": {},
   "outputs": [
    {
     "name": "stdout",
     "output_type": "stream",
     "text": [
      "[[  0.04774184   0.04774184   0.04645152 ...,   0.048387     0.048387\n",
      "    0.04709668]\n",
      " [ 37.03422644  44.23532603  43.20659752 ...,  42.17786901  39.09168347\n",
      "   40.12041198]]\n"
     ]
    }
   ],
   "source": [
    "conversion_scale = np.array([[.0254],[0.453592]])\n",
    "np_baseball = np_baseball * conversion_scale\n",
    "# Print out the shape of np_baseball\n",
    "print np_baseball"
   ]
  },
  {
   "cell_type": "markdown",
   "metadata": {},
   "source": [
    "### Now it's time for some statistics"
   ]
  },
  {
   "cell_type": "code",
   "execution_count": 48,
   "metadata": {},
   "outputs": [
    {
     "name": "stdout",
     "output_type": "stream",
     "text": [
      "73.6972920696\n",
      "74.0\n",
      "74.0\n",
      "2.30470304162\n",
      "[ nan]\n"
     ]
    }
   ],
   "source": [
    "# Print out the mean of np_height\n",
    "print np_height.mean()\n",
    "\n",
    "# Print out the median of np_height\n",
    "print np.median(np_height)\n",
    "\n",
    "# Print median height. Replace 'None'\n",
    "print np.median(height)\n",
    "# Print out the standard deviation on height. Replace 'None'\n",
    "print np.std(height)\n",
    "# Print out correlation between first and second column. Replace 'None'\n",
    "print np.correlate(height,weight)"
   ]
  },
  {
   "cell_type": "code",
   "execution_count": 50,
   "metadata": {},
   "outputs": [
    {
     "name": "stdout",
     "output_type": "stream",
     "text": [
      "928\n"
     ]
    }
   ],
   "source": [
    "# Print the index of player with maximum height\n",
    "print np.argmax(height)"
   ]
  },
  {
   "cell_type": "code",
   "execution_count": 51,
   "metadata": {},
   "outputs": [
    {
     "name": "stdout",
     "output_type": "stream",
     "text": [
      "[6 6 6 ..., 6 6 6]\n"
     ]
    }
   ],
   "source": [
    "#Replace all the players height greater than 6 Feet with 6 Feet\n",
    "np_height[np_height > 6] = 6\n",
    "print np_height"
   ]
  },
  {
   "cell_type": "code",
   "execution_count": 54,
   "metadata": {},
   "outputs": [
    {
     "name": "stdout",
     "output_type": "stream",
     "text": [
      "999\n"
     ]
    },
    {
     "name": "stderr",
     "output_type": "stream",
     "text": [
      "/home/sharan/anaconda2/lib/python2.7/site-packages/ipykernel_launcher.py:2: RuntimeWarning: invalid value encountered in greater\n",
      "  \n"
     ]
    }
   ],
   "source": [
    "#Count number of players with weight greater than 75 kg..\n",
    "print len(np_weight_kg[np_weight_kg > 75])"
   ]
  },
  {
   "cell_type": "code",
   "execution_count": 57,
   "metadata": {},
   "outputs": [
    {
     "data": {
      "text/plain": [
       "array([67, 67, 68, ..., 82, 82, 83])"
      ]
     },
     "execution_count": 57,
     "metadata": {},
     "output_type": "execute_result"
    }
   ],
   "source": [
    "# Sort the height, and get the sorting index as well\n",
    "np.sort(height)"
   ]
  },
  {
   "cell_type": "code",
   "execution_count": 59,
   "metadata": {},
   "outputs": [
    {
     "name": "stdout",
     "output_type": "stream",
     "text": [
      "(3, 2)\n"
     ]
    }
   ],
   "source": [
    "#Reshape the 2 x Number of Players array to Number of Players x 2\n",
    "player = np.array([[1,2,3],[4,5,6]])\n",
    "print player.reshape(3,2)"
   ]
  },
  {
   "cell_type": "code",
   "execution_count": 143,
   "metadata": {},
   "outputs": [
    {
     "data": {
      "image/png": "[encoded data removed]",
      "text/plain": [
       "<matplotlib.figure.Figure at 0x7fd4f933a450>"
      ]
     },
     "metadata": {},
     "output_type": "display_data"
    }
   ],
   "source": [
    "#Generate Scatter Plot, See plt.scatter, use height as one axis and weight as second axis\n",
    "baseballplt = plt.scatter(height,weight)"
   ]
  },
  {
   "cell_type": "code",
   "execution_count": 158,
   "metadata": {},
   "outputs": [
    {
     "name": "stdout",
     "output_type": "stream",
     "text": [
      "[  71.  200.]\n"
     ]
    }
   ],
   "source": [
    "#Now choose a random player, and project player height and weight to this random player, you can plot\n",
    "# the vector using plt.arrow function\n",
    "random_number = int(np.random.rand(1) * len(bbdata))\n",
    "np_players = np.array([height,weight])\n",
    "np_random_player = np_players.T[random_number]\n",
    "print np_random_player"
   ]
  },
  {
   "cell_type": "code",
   "execution_count": 165,
   "metadata": {},
   "outputs": [
    {
     "name": "stdout",
     "output_type": "stream",
     "text": [
      "212.228650281\n",
      "[[ 15704.92012078  15704.92012078  15280.46282022 ...,  15917.14877106\n",
      "   15917.14877106  15492.6914705 ]\n",
      " [ 38201.15705054  45629.15981037  44568.01655896 ...,  43506.87330756\n",
      "   40323.44355335  41384.58680475]]\n"
     ]
    }
   ],
   "source": [
    "# Remember before projecting convert the player vector to unit norm...\n",
    "np_random_player_norm = np.linalg.norm(np_random_player)\n",
    "np_random_player_unit = np_random_player/np_random_player_norm\n",
    "np_projection = np.dot(np_random_player_unit,np_random_player)\n",
    "print np_projection\n",
    "mult_unit = np_players*np_projection\n",
    "print mult_unit"
   ]
  },
  {
   "cell_type": "code",
   "execution_count": null,
   "metadata": {
    "collapsed": true
   },
   "outputs": [],
   "source": [
    "# Create an orthogonal vector to the choosen vector"
   ]
  },
  {
   "cell_type": "code",
   "execution_count": null,
   "metadata": {
    "collapsed": true
   },
   "outputs": [],
   "source": [
    "# Project all the players to orthogonal vector..."
   ]
  },
  {
   "cell_type": "code",
   "execution_count": null,
   "metadata": {
    "collapsed": true
   },
   "outputs": [],
   "source": [
    "# BackProject the found components of the player to original domain..."
   ]
  },
  {
   "cell_type": "markdown",
   "metadata": {},
   "source": [
    "#### Advanced Operations"
   ]
  },
  {
   "cell_type": "markdown",
   "metadata": {},
   "source": [
    "1. Construct an array from the list: [1,2,3]\n",
    "2. Cast it into floats\n",
    "3. Create an array of int ranging from 0-10 \n",
    "4. Create an array containing 7 evenly spaced numbers between 0 and 23\n",
    "5. Create an array with shape (2,5,1,5,2,1) containing only the number 5\n",
    "6. Eliminate all length-1 dimensions. See the function squeeze.\n",
    "7. Reshape the resulting array from shape (2,5,3,2) to only 2D\n",
    "8. Calculate the mean, std, var, max, min, of an array with shape (3,3,12,3) containing floats drawn\n",
    "from a normal distribution with mean 21 and sigma 4.5. see the np.random.normal.\n",
    "9. Do the same but not on all elements but only on the 2nd dimension. \n",
    "10. Transform the array such that it is only 1d. See the function Flatten or ravel\n",
    "11. Remove all values smaller 15 and larger 26.\n",
    "12. Clip all values smaller 15 and larger 26 to NaN. See the function Clip\n",
    "13. Calculate the sum of the resulting array. It should not be NaN!.\n",
    "14. Convert the NaN’s to 0.0. See Where\n",
    "15. Save the array and load it again."
   ]
  },
  {
   "cell_type": "code",
   "execution_count": 127,
   "metadata": {},
   "outputs": [
    {
     "name": "stdout",
     "output_type": "stream",
     "text": [
      "[ 19.77553273  18.7357518   17.34582689  20.21768064  24.18839894\n",
      "  23.02395856  15.35836695  20.08550942   0.          24.80400726   0.\n",
      "  21.56575077  18.75997702  17.44580802   0.           0.           0.\n",
      "  20.42039876  20.51133406  21.67084879  19.43768337  18.79245566\n",
      "  21.70077802   0.          25.89252921  24.27555445  18.51697304\n",
      "  15.78656126  22.68795638  18.04268513  19.28102659  21.2978626\n",
      "  17.20102705   0.          25.93154737   0.          24.68782344\n",
      "  23.83916333  18.28242653   0.           0.          20.66104214   0.\n",
      "  15.34936066  24.4911711   23.32764737   0.          22.81318706   0.\n",
      "  20.54093705  17.71977565  16.54685419  22.43860454   0.          21.86811144\n",
      "  25.65777074   0.          20.79055386  20.37076963   0.          19.1065691\n",
      "  19.78173456  25.95895753  21.33245849  22.07459081  18.32157449\n",
      "  16.84998217  22.40804691   0.          20.10020435  21.67813946\n",
      "  17.38468221   0.          17.87478593  24.37279975  25.86070322\n",
      "  20.61519426   0.           0.          21.41522552  18.65629838\n",
      "  16.69966479  16.58866393   0.          25.32189908   0.          23.18307172\n",
      "   0.          22.38045245  22.46494812  16.49568077  19.8860847\n",
      "  20.14656786  15.39158088  20.07869385  17.56995559  25.85912874\n",
      "  19.44453694  24.33650503  18.18029071  20.02367822  17.58959124\n",
      "  20.0379031   23.90426484  15.61493763   0.          20.35387477\n",
      "  25.96965285  18.20151547   0.          15.1531672   20.38342445\n",
      "  21.83820913  22.06936706   0.          17.58585221  18.73933883\n",
      "  21.32457844  22.62364528  20.22094885  21.9732283    0.          18.61570553\n",
      "  19.37061452   0.          24.91768564  16.30777316  17.51667698\n",
      "  23.69629442  20.31487279  16.95369544  25.4770074   20.07345906\n",
      "  18.01311202  21.39828769  19.05176376  25.69047942  22.51849747\n",
      "  21.41063845  24.02391498  21.27477596  16.81910551  23.88037141\n",
      "  22.38160191   0.          19.74239956  22.24733801  23.35866169   0.\n",
      "  16.14552142  23.24321732  19.12914097  22.17603051  18.87268143\n",
      "  24.88683047  19.34624372  18.24287173   0.          24.69701559\n",
      "  23.59493224  21.61439416  24.01950128   0.          23.11403931\n",
      "  24.94608755  19.64212695  16.89421256   0.          19.13120643\n",
      "  23.41223871  25.51920887  19.06263955  19.0624019   23.64985808\n",
      "  18.25141452   0.          18.44936119  18.80060772   0.          16.77379346\n",
      "  16.31216626  16.67585815  19.10087041  25.22170058  17.59666897\n",
      "  15.84254381  21.82960618  18.44493763  21.23140066  24.80661598\n",
      "  18.88644746  25.89094297   0.          18.26673781  17.64056411   0.\n",
      "  15.91948896  19.86646425  22.2723513   16.35140277  15.28011308   0.\n",
      "  21.36256962  16.50065935  20.69180013  21.88451042  23.63720464\n",
      "  19.9729883   24.05914012  25.11802506   0.          16.30202627\n",
      "  20.67316699  15.95069395  23.69250082  25.34714078  21.2457337\n",
      "  21.41876627  23.75081615  24.33912324  15.42651662   0.          17.39289028\n",
      "  15.32411353   0.           0.           0.           0.          19.29964287\n",
      "  17.86379336  22.20111108   0.           0.          17.19343819\n",
      "  18.85742956  25.02385961  17.13321523  22.21456587   0.          17.27081625\n",
      "  16.91884709   0.          22.85681026  16.93252577  22.84224911   0.\n",
      "  22.99120307  25.52751818  23.01013195   0.          18.79235723\n",
      "  17.2876797   20.13319873  22.99197847   0.           0.          16.63843553\n",
      "  18.86841609  18.95691842  25.33873868  25.24719723  24.62928762\n",
      "  24.26006445  19.75305796  19.64930265   0.           0.          18.50156553\n",
      "  16.83551824   0.          16.64528922  19.68115023  21.77018414\n",
      "  21.71339988  24.34139529   0.          18.04423264   0.          15.65822403\n",
      "  18.95195145  16.82720927  19.84691895  20.90973759  17.68797754\n",
      "  22.57069745  19.13740735  15.73486923   0.           0.          19.53692488\n",
      "   0.          16.13327614   0.           0.          16.39948076   0.           0.\n",
      "   0.          18.55987332  19.24795581   0.          24.43720153\n",
      "  24.51828466   0.          24.53545096  16.86145099  22.05615158\n",
      "  15.8110855   21.40001481  22.07430135  24.73640643  21.49081885   0.\n",
      "  23.27719585  24.56014306  16.23970784  17.3576047   22.52747357\n",
      "  17.9903775    0.           0.           0.           0.          23.77193118]\n"
     ]
    }
   ],
   "source": [
    "#1\n",
    "one = np.array([1,2,3])\n",
    "#2\n",
    "two = one.astype(float)\n",
    "#3\n",
    "three = np.arange(11)\n",
    "#4\n",
    "four = np.linspace(0,23,7)\n",
    "#5\n",
    "five = np.full((2,5,1,5,2,1),5)\n",
    "#6\n",
    "six =  np.squeeze(five)\n",
    "#7\n",
    "seven = six.reshape(50,2)\n",
    "#8\n",
    "eight = np.random.normal(21,4.5,(3,3,12,3))\n",
    "eight_mean = np.mean(eight)\n",
    "eight_std = np.std(eight)\n",
    "eight_var = np.var(eight)\n",
    "eight_max = np.max(eight)\n",
    "eight_min = np.min(eight)\n",
    "#9\n",
    "nine_mean = np.mean(eight[1])\n",
    "nine_std = np.std(eight[1])\n",
    "nine_var = np.var(eight[1])\n",
    "nine_max = np.max(eight[1])\n",
    "nine_min = np.min(eight[1])\n",
    "#10\n",
    "ten = eight.flatten()\n",
    "#11\n",
    "mask = (ten > 15) * (ten < 26)\n",
    "eleven = ten[mask]\n",
    "#12\n",
    "twelve = np.clip(ten,15,26)\n",
    "mask1 = (twelve == 15) + (twelve == 26)\n",
    "twelve[mask1] = numpy.nan\n",
    "#13\n",
    "thirteen = np.nansum(twelve)\n",
    "#14\n",
    "twelve[np.where(np.isnan(twelve))] = 0\n",
    "#15\n",
    "np.save(\"fifteen.npy\", twelve)\n",
    "fifteen = np.load(\"fifteen.npy\")\n",
    "print fifteen\n"
   ]
  },
  {
   "cell_type": "code",
   "execution_count": null,
   "metadata": {
    "collapsed": true
   },
   "outputs": [],
   "source": []
  }
 ],
 "metadata": {
  "kernelspec": {
   "display_name": "Python 2",
   "language": "python",
   "name": "python2"
  },
  "language_info": {
   "codemirror_mode": {
    "name": "ipython",
    "version": 2
   },
   "file_extension": ".py",
   "mimetype": "text/x-python",
   "name": "python",
   "nbconvert_exporter": "python",
   "pygments_lexer": "ipython2",
   "version": "2.7.14"
  }
 },
 "nbformat": 4,
 "nbformat_minor": 1
}
