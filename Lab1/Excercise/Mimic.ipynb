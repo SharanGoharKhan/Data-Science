{
 "cells": [
  {
   "cell_type": "markdown",
   "metadata": {},
   "source": [
    "# Mimic exercise\n",
    "\n",
    "Build a \"mimic\" dict that maps each word that appears in the file to a list of all the words that immediately follow that word in the file.\n",
    "\n",
    "The list of words can be in any order and should include duplicates. So for example the key \"and\" might have the list [\"then\", \"best\", \"then\", \"after\", ...] listing all the words which came after \"and\" in the text. We'll say that the empty string is what comes before the first word in the file.\n",
    "\n",
    "With the mimic dict, it's fairly easy to emit random text that mimics the original. Print a word, then look up what words might come next and pick one at random as the next work.\n",
    "\n",
    "Use the empty string as the first word to prime things. If we ever get stuck with a word that is not in the dict, go back to the empty string to keep things moving.\n",
    "\n",
    "\n",
    "**Note**: The standard python module 'random' includes a random.choice(list) method which picks a random element from a non-empty list.\n",
    "\n",
    "For fun, feed your program to itself as input. Could work on getting it to put in linebreaks around 70 columns, so the output looks better."
   ]
  },
  {
   "cell_type": "code",
   "execution_count": 1,
   "metadata": {
    "collapsed": true
   },
   "outputs": [],
   "source": [
    "import random\n",
    "import sys\n",
    "from collections import defaultdict"
   ]
  },
  {
   "cell_type": "code",
   "execution_count": 34,
   "metadata": {},
   "outputs": [],
   "source": [
    "def mimic_dict(filename):\n",
    "    \"\"\"Returns mimic dict mapping each word to list of words which follow it.\"\"\"\n",
    "    # +++your code here+++\n",
    "    f = open(filename,'ru')\n",
    "    line = f.read()\n",
    "    f.close()\n",
    "    words = line.split()\n",
    "    dictionaryWords = {}\n",
    "    for index,value in enumerate(words[:-1]):\n",
    "        if dictionaryWords.get(value) == None:\n",
    "            dictionaryWords[value]=[]\n",
    "            dictionaryWords[value].append(words[index+1])\n",
    "        else:\n",
    "            dictionaryWords[value].append(words[index+1])\n",
    "    return (dictionaryWords,words)\n",
    "        \n",
    "            "
   ]
  },
  {
   "cell_type": "code",
   "execution_count": 35,
   "metadata": {},
   "outputs": [],
   "source": [
    "def print_mimic(mimic_dict, word):\n",
    "    \"\"\"Given mimic dict and start word, prints 200 random words.\"\"\"\n",
    "    # +++your code here+++\n",
    "    if mimic_dict.get(word) == None:\n",
    "        return None\n",
    "    else:\n",
    "        return random.choice(mimic_dict[word])\n",
    "    "
   ]
  },
  {
   "cell_type": "code",
   "execution_count": 39,
   "metadata": {},
   "outputs": [],
   "source": [
    "def driver(filename):\n",
    "    wordDictionary,words = mimic_dict(filename)\n",
    "    textRand=\"\"\n",
    "    for word in words[:200]:\n",
    "        textRand+=\" \"\n",
    "        if print_mimic(wordDictionary,word) == None:\n",
    "            textRand += word\n",
    "        else:\n",
    "            textRand += print_mimic(wordDictionary,word)\n",
    "    print textRand"
   ]
  },
  {
   "cell_type": "code",
   "execution_count": 41,
   "metadata": {},
   "outputs": [
    {
     "name": "stdout",
     "output_type": "stream",
     "text": [
      "CPU times: user 12 µs, sys: 4 µs, total: 16 µs\n",
      "Wall time: 29.1 µs\n",
      " first in the of RIGHT IN the Lewis Carroll THE FENDER, FULCRUM EDITION 3.0 CHAPTER XII used the White Alice to as to the it slowly, of escape, between a hand, of treacle,' unjust with quietly, adding, cheated else them, once in fig?' she kept read over a executioner her that was close but no something grown harm hung twice, in their and how a the other: going sight tree. said it an pictures of three So you tucked not in a life, children. (as well as it went `If Mabel! song, tureen! is out best a civil voice there's whether it words of knot, quite bit would go of the thing of that the and in the same when a spread large Rabbit noticed great eyes appeared, out to the `What was a yet,' it deeply sensation a nor less not recognised of does, stingy turn-up at a the Caterpillar. you speak you! thistle was if be `Oh dear! How dear, Do am do so (when she stood Alice, can a it out to have rather it looked to put done at the so I once.' opportunity to muttering difficulties, to away!' but the she Footman blew TOOK A\n"
     ]
    }
   ],
   "source": [
    "%time\n",
    "driver('alice.txt')"
   ]
  }
 ],
 "metadata": {
  "anaconda-cloud": {},
  "kernelspec": {
   "display_name": "Python 2",
   "language": "python",
   "name": "python2"
  },
  "language_info": {
   "codemirror_mode": {
    "name": "ipython",
    "version": 2
   },
   "file_extension": ".py",
   "mimetype": "text/x-python",
   "name": "python",
   "nbconvert_exporter": "python",
   "pygments_lexer": "ipython2",
   "version": "2.7.14"
  }
 },
 "nbformat": 4,
 "nbformat_minor": 1
}
