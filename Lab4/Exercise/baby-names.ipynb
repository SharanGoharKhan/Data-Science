{
 "cells": [
  {
   "cell_type": "markdown",
   "metadata": {},
   "source": [
    "# Lab-4 (Regular Expressions and Pandas)\n",
    "\n",
    "Here your goal is to extract data from multiple html files and then build dictionaries based pandas dataframe."
   ]
  },
  {
   "cell_type": "markdown",
   "metadata": {},
   "source": [
    "Your first main goal is to define the extract_names() function below.\n",
    "\n",
    "For writing regex, it's nice to include a copy of the target\n",
    "text for inspiration.\n",
    "\n",
    "Here's what the html looks like in the baby.html files:\n",
    "...\n",
    "<h3 align=\"center\">Popularity in 1990</h3>\n",
    "....\n",
    "<tr align=\"right\"><td>1</td><td>Michael</td><td>Jessica</td>\n",
    "<tr align=\"right\"><td>2</td><td>Christopher</td><td>Ashley</td>\n",
    "<tr align=\"right\"><td>3</td><td>Matthew</td><td>Brittany</td>\n",
    "...\n",
    "\n",
    "However before writing the complete function here are some suggested mile-stones.\n",
    "\n",
    "Suggested milestones for incremental development:\n",
    " -Extract the year and print it\n",
    " -Extract the names and rank numbers and just print them\n",
    " -Get the names data into a dict and print it\n",
    " -Build the [year, 'name rank', ... ] list and print it\n",
    "\n",
    "\n"
   ]
  },
  {
   "cell_type": "code",
   "execution_count": 12,
   "metadata": {},
   "outputs": [
    {
     "name": "stdout",
     "output_type": "stream",
     "text": [
      "Populating the interactive namespace from numpy and matplotlib\n"
     ]
    },
    {
     "name": "stderr",
     "output_type": "stream",
     "text": [
      "/home/sharan/anaconda2/lib/python2.7/site-packages/IPython/core/magics/pylab.py:161: UserWarning: pylab import has clobbered these variables: ['f']\n",
      "`%matplotlib` prevents importing * from pylab and numpy\n",
      "  \"\\n`%matplotlib` prevents importing * from pylab and numpy\"\n"
     ]
    }
   ],
   "source": [
    "%pylab inline\n",
    "import numpy as np\n",
    "import bs4 #this is beautiful soup\n",
    "import re # regular expressions\n",
    "import pandas as pd"
   ]
  },
  {
   "cell_type": "code",
   "execution_count": 2,
   "metadata": {},
   "outputs": [],
   "source": [
    "def extract_names(filename,csv_string):\n",
    "    \"\"\"\n",
    "      Given a file name for baby.html, returns a list starting with the year string\n",
    "      followed by the name-rank strings in alphabetical order.\n",
    "      ['2006', 'Aaliyah 91', Aaron 57', 'Abagail 895', ' ...]\n",
    "    \"\"\"\n",
    "    # +++your code here+++\n",
    "    with open(filename) as f:\n",
    "        source = f.read()\n",
    "    soup = bs4.BeautifulSoup(source,\"lxml\")\n",
    "    ## show how to find all a tags\n",
    "    root_node = soup.html\n",
    "    body = soup.body\n",
    "    table = body.findAll('table')\n",
    "    table_of_names = table[2]\n",
    "    table_data_row = table_of_names.findAll('tr')\n",
    "    list_of_popularity=[]\n",
    "    input_field = body.find('input')\n",
    "    list_of_popularity.append(str(input_field['value']))\n",
    "    for rows in table_data_row:\n",
    "        test = \"\"\n",
    "        if rows('align'== 'right'): \n",
    "            table_data = rows.findAll('td')\n",
    "            for data_td in table_data:\n",
    "                test += \"\".join(str(data_td.contents[0]))\n",
    "                test +=\" \"\n",
    "            if len(test.split()) == 3:\n",
    "                tmp_split = test.split()\n",
    "                tmp_male = tmp_split[1]+\" \"+tmp_split[0]\n",
    "                tmp_female = tmp_split[2]+\" \"+tmp_split[0]\n",
    "                list_of_popularity.append(tmp_male)\n",
    "                list_of_popularity.append(tmp_female)\n",
    "                csv_string+=str(input_field['value'])\n",
    "                csv_string+=\",\"+tmp_split[1]\n",
    "                csv_string+=\",\"+tmp_split[0]\n",
    "                csv_string+=\",\"+\"M\"\n",
    "                csv_string+=\"\\n\"\n",
    "                csv_string+=(str(input_field['value']))\n",
    "                csv_string+=','+tmp_split[2]\n",
    "                csv_string+=','+tmp_split[0]\n",
    "                csv_string+=','+\"F\"\n",
    "                csv_string+=\"\\n\"\n",
    "    return (sorted(list_of_popularity),csv_string)"
   ]
  },
  {
   "cell_type": "code",
   "execution_count": 3,
   "metadata": {
    "collapsed": true,
    "scrolled": true
   },
   "outputs": [],
   "source": [
    "import re\n"
   ]
  },
  {
   "cell_type": "code",
   "execution_count": 4,
   "metadata": {
    "collapsed": true
   },
   "outputs": [],
   "source": [
    "import tools as t # tools is my written python file for included utils...\n",
    "from collections import defaultdict # you might find defaultdict(list) as a good starting point"
   ]
  },
  {
   "cell_type": "code",
   "execution_count": 5,
   "metadata": {
    "collapsed": true
   },
   "outputs": [],
   "source": [
    "#Get list of files\n",
    "listfiles=t.get_files('./data/','html',True)"
   ]
  },
  {
   "cell_type": "code",
   "execution_count": 6,
   "metadata": {},
   "outputs": [
    {
     "name": "stdout",
     "output_type": "stream",
     "text": [
      "['./data/baby1990.html', './data/baby1992.html', './data/baby1994.html', './data/baby1996.html', './data/baby1998.html', './data/baby2000.html', './data/baby2002.html', './data/baby2004.html', './data/baby2006.html', './data/baby2008.html']\n"
     ]
    }
   ],
   "source": [
    "print listfiles"
   ]
  },
  {
   "cell_type": "code",
   "execution_count": 54,
   "metadata": {},
   "outputs": [],
   "source": [
    "# For each filename, get the names, then either print the text output\n",
    "# or write it to a \n",
    "\n",
    "#Your Code goes here...\n",
    "list_of_years = []\n",
    "f = open('csvfile5.csv','w')\n",
    "csv_string = \"Year,Name,Rank,Gender\\n\"\n",
    "f.write(csv_string)\n",
    "csv_string=\"\"\n",
    "for filename in listfiles:\n",
    "    list_of_names,resultant_csv = extract_names(filename,csv_string)\n",
    "    list_of_years.append(list_of_names)\n",
    "    f.write(resultant_csv)\n",
    "f.close()\n"
   ]
  },
  {
   "cell_type": "markdown",
   "metadata": {},
   "source": [
    "Now using Pandas, answer following questions by writing code\n",
    " - The most popular male and female name in your birth year\n",
    " - The number of people born with name 'Matthew' in the same year.\n",
    " - A plot of the number of instances of name 'Matthew' over time.\n",
    " - A plot of the number of the total boy names and the number of girls names each year.\n",
    " - A plot showing the fraction of male and female babies given a name similar to Lesley. By similar I mean the name starts with ‘lesl’ (make sure you make the name lowercase).\n",
    " - Plot the rank of a name across the years, i.e. we wanted to know how popular a name has been across the years."
   ]
  },
  {
   "cell_type": "code",
   "execution_count": 80,
   "metadata": {},
   "outputs": [
    {
     "data": {
      "text/plain": [
       "[<matplotlib.lines.Line2D at 0x7f45eadaba10>]"
      ]
     },
     "execution_count": 80,
     "metadata": {},
     "output_type": "execute_result"
    },
    {
     "data": {
      "image/png": "[encoded data removed]",
      "text/plain": [
       "<matplotlib.figure.Figure at 0x7f45eab23690>"
      ]
     },
     "metadata": {},
     "output_type": "display_data"
    },
    {
     "data": {
      "image/png": "[encoded data removed]",
      "text/plain": [
       "<matplotlib.figure.Figure at 0x7f45eb489c90>"
      ]
     },
     "metadata": {},
     "output_type": "display_data"
    },
    {
     "data": {
      "image/png": "[encoded data removed]",
      "text/plain": [
       "<matplotlib.figure.Figure at 0x7f45eae97f50>"
      ]
     },
     "metadata": {},
     "output_type": "display_data"
    }
   ],
   "source": [
    "df = pd.read_csv('./csvfile5.csv')\n",
    "#1\n",
    "df[(df.Year == 1992) & (df.Rank == 1)]\n",
    "#2\n",
    "df[(df.Name == 'Matthew')]\n",
    "#3\n",
    "figure1, axes1 = plt.subplots()\n",
    "axes1.plot(df.Year.unique(), df[df.Name == 'Matthew'].Rank)\n",
    "#4\n",
    "male_count = []\n",
    "female_count = []\n",
    "for year in df.Year.unique():\n",
    "    male_count.append(df[(df.Year==year) & (df.Gender == 'M')].count()[0])\n",
    "    female_count.append(df[(df.Year==year) & (df.Gender == 'F')].count()[0])\n",
    "figure2, axes2 = plt.subplots(1,2,figsize=(10,4))\n",
    "axes2[0].bar(df.Year.unique(),male_count)\n",
    "axes2[0].set_xlabel(\"Years\")\n",
    "axes2[0].set_ylabel(\"Male Count\")\n",
    "axes2[1].bar(df.Year.unique(),female_count,color='r')\n",
    "axes2[1].set_xlabel(\"Years\")\n",
    "axes2[1].set_ylabel(\"Female Count\")\n",
    "#6\n",
    "df[(df.Name == 'Lesly')]\n",
    "#7\n",
    "figure3, axes3 = plt.subplots()\n",
    "axes3.plot(df[df.Name == 'Lesly'].Year,df[df.Name == 'Lesly'].Rank)"
   ]
  },
  {
   "cell_type": "code",
   "execution_count": null,
   "metadata": {
    "collapsed": true
   },
   "outputs": [],
   "source": []
  }
 ],
 "metadata": {
  "kernelspec": {
   "display_name": "Python 2",
   "language": "python",
   "name": "python2"
  },
  "language_info": {
   "codemirror_mode": {
    "name": "ipython",
    "version": 2
   },
   "file_extension": ".py",
   "mimetype": "text/x-python",
   "name": "python",
   "nbconvert_exporter": "python",
   "pygments_lexer": "ipython2",
   "version": "2.7.14"
  }
 },
 "nbformat": 4,
 "nbformat_minor": 1
}
