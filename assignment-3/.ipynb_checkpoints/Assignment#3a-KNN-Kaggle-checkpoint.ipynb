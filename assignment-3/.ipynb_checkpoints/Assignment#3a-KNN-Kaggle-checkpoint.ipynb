{
 "cells": [
  {
   "cell_type": "markdown",
   "metadata": {
    "slideshow": {
     "slide_type": "slide"
    }
   },
   "source": [
    "# Assignment No 3a\n",
    "### *Written By: Sibt ul Hussain*\n",
    "----\n",
    "## Goal\n",
    "\n",
    "Your goal in this part of assigment is to test your KNN Classifier on a kaggle competition. \n",
    "\n",
    "- The first competition is [Otto Group Product Classification Challenge](http://www.kaggle.com/c/otto-group-product-classification-challenge), here the goal is to place the given object in its right category (prize for winning this competition is US $10,000).\n",
    "\n",
    "For the fun part your can also test your code for the [digit classification](http://www.kaggle.com/c/digit-recognizer).\n",
    "\n",
    "\n",
    "**Note** Please note that you are allowed to use only those libraries which we have discussed in the class, i.e. numpy, scipy, pandas.\n",
    "\n",
    "## Submission Instructions\n",
    "You are required to submit the original notebook file on the Slate (with .ipynb extension), with complete set of outputs. Students failing to do so will get zero marks. \n",
    "\n",
    "*Please read each step carefully and understand it fully before proceeding with code writing*\n",
    "\n",
    "## Plagiarism\n",
    "Any form of plagiarism will not be tolerated and result in 0 marks.\n",
    "\n",
    "#### HelpFul Functions\n",
    "You might find following functions to be extremely helpful\n",
    " - **[argpartition] (http://docs.scipy.org/doc/numpy/reference/generated/numpy.argpartition.html)** uses introselect algorithm to perform an indirect partition along the given axis. This can lead to O(n) complexity instead of O(nlogn). Remember indexing start from 0.\n",
    " - **[itemfreq]()** a function that returns a 2-D array of item frequencies.\n",
    "\n"
   ]
  },
  {
   "cell_type": "code",
   "execution_count": 1,
   "metadata": {
    "slideshow": {
     "slide_type": "slide"
    }
   },
   "outputs": [
    {
     "name": "stdout",
     "output_type": "stream",
     "text": [
      "Populating the interactive namespace from numpy and matplotlib\n"
     ]
    }
   ],
   "source": [
    "%pylab inline\n",
    "import scipy.stats\n",
    "from collections import defaultdict\n",
    "plt.style.use('ggplot')\n",
    "matplotlib.rcParams['figure.figsize'] = (10.0, 8.0)\n",
    "%load_ext autoreload \n",
    "%autoreload 2\n",
    "import numpy as np"
   ]
  },
  {
   "cell_type": "code",
   "execution_count": 2,
   "metadata": {
    "collapsed": true,
    "slideshow": {
     "slide_type": "slide"
    }
   },
   "outputs": [],
   "source": [
    "# TODO: You have to implement the following class\n",
    "## Your code goes here...\n",
    "\n",
    "class KNearestNeighbor:\n",
    "    ''' Implements the KNearest Neigbours For Classification... '''\n",
    "    def __init__(self, k, scalefeatures=False):        \n",
    "        self.k=k\n",
    "        self.scalefeatures=scalefeatures\n",
    "        \n",
    "        #pass    \n",
    "    \n",
    "    def compute_distances_two_loops(self, X):\n",
    "        \"\"\"\n",
    "        Compute the distance between each test point in X and each training point\n",
    "        in self.X_train using a nested loop over both the training data and the \n",
    "        test data.\n",
    "\n",
    "        Input:\n",
    "        X - An num_test x dimension array where each row is a test point.\n",
    "\n",
    "        Output:\n",
    "        dists - A num_test x num_train array where dists[i, j] is the distance\n",
    "                between the ith test point and the jth training point.\n",
    "        \"\"\"\n",
    "        num_test = X.shape[0]\n",
    "        num_train = self.X_train.shape[0]\n",
    "        dists = np.zeros((num_test, num_train))\n",
    "        for i in xrange(num_test):\n",
    "            for j in xrange(num_train):\n",
    "                #####################################################################\n",
    "                # TODO:                                                             #\n",
    "                # Compute the l2 distance between the ith test point and the jth    #\n",
    "                # training point, and store the result in dists[i, j]               #\n",
    "                #####################################################################\n",
    "                # YOUR CODE HERE\n",
    "                dists[i,j] = math.sqrt(sum([(x-y)**2 for x,y in zip(X[i],self.X_train[j])]))\n",
    "                #####################################################################\n",
    "                #                       END OF YOUR CODE                            #\n",
    "                #####################################################################\n",
    "        return dists\n",
    "\n",
    "    def compute_distances_one_loop(self, X):\n",
    "        \"\"\"\n",
    "        Compute the distance between each test point in X and each training point\n",
    "        in self.X_train using a single loop over the test data.\n",
    "\n",
    "        Input / Output: Same as compute_distances_two_loops\n",
    "        \"\"\"\n",
    "        num_test = X.shape[0]\n",
    "        num_train = self.X_train.shape[0]\n",
    "        dists = np.zeros((num_test, num_train))\n",
    "        X  = np.array(X)\n",
    "        self.X_train = np.array(self.X_train)\n",
    "        for i in xrange(num_test):\n",
    "            #######################################################################\n",
    "            # TODO:                                                               #\n",
    "            # Compute the l2 distance between the ith test point and all training #\n",
    "            # points, and store the result in dists[i, :].                        #\n",
    "            #######################################################################\n",
    "            # YOUR CODE HERE\n",
    "            X_tiled = np.tile(X[i],(num_train,1))\n",
    "            dists[i,:]=np.sqrt(np.sum(np.square(X_tiled-self.X_train),axis=1))\n",
    "            #######################################################################\n",
    "            #                         END OF YOUR CODE                            #\n",
    "            #######################################################################\n",
    "        return dists\n",
    "        \n",
    "\n",
    "    def compute_distances_no_loops(self, X):\n",
    "        \"\"\"\n",
    "        Compute the distance between each test point in X and each training point\n",
    "        in self.X_train using no explicit loops.\n",
    "\n",
    "        Input / Output: Same as compute_distances_two_loops\n",
    "        \"\"\"\n",
    "        num_test = X.shape[0]\n",
    "        num_train = self.X_train.shape[0]\n",
    "        dists = np.zeros((num_test, num_train)) \n",
    "        #########################################################################\n",
    "        # TODO:                                                                 #\n",
    "        # Compute the l2 distance between all test points and all training      #\n",
    "        # points without using any explicit loops, and store the result in      #\n",
    "        # dists.                                                                #\n",
    "        # HINT: Try to formulate the l2 distance using matrix multiplication    #\n",
    "        #       and two broadcast sums.   \n",
    "        # Look at the np.tile function as well                                  #\n",
    "        #########################################################################\n",
    "        # YOUR CODE HERE\n",
    "        test_sum_square = np.sum(np.square(X),axis=1);\n",
    "        train_sum_square = np.sum(np.square(self.X_train),axis=1);\n",
    "        mul = np.dot(X,self.X_train.T);\n",
    "        dists = np.sqrt(test_sum_square[:,np.newaxis]+train_sum_square-2*mul)\n",
    "        #########################################################################\n",
    "        #                         END OF YOUR CODE                              #\n",
    "        #########################################################################\n",
    "        return dists\n",
    "    \n",
    "    def scale_features(self,X):\n",
    "        \"\"\"\n",
    "            Normalize each feature to lie in the range [0 ,1]\n",
    "\n",
    "            Input:\n",
    "            ------\n",
    "\n",
    "                X= M x d dimensional data matrix\n",
    "\n",
    "            Returns:\n",
    "            --------\n",
    "\n",
    "                normalized X\n",
    "        \"\"\"\n",
    "        # we will store these values compute on training set to use during testing \n",
    "        self.xmin= np.min(X,axis=0)\n",
    "        self.xmax= np.max(X,axis=0)\n",
    "\n",
    "        return (X-self.xmin)/(self.xmax-self.xmin)\n",
    "    \n",
    "    def train(self, X, Y):\n",
    "        ''' Train K Nearest Neighbour classifier using the given \n",
    "            X [m x d] data matrix and Y labels matrix\n",
    "            \n",
    "            Input:\n",
    "            ------\n",
    "            X: [m x d] a data matrix of m d-dimensional examples.\n",
    "            Y: [m x 1] a label vector.\n",
    "            \n",
    "            Returns:\n",
    "            -----------\n",
    "            Nothing\n",
    "            '''\n",
    "\n",
    "        nexamples,nfeatures=X.shape\n",
    "        \n",
    "        if self.scalefeatures:\n",
    "            X=self.scale_features(X)\n",
    "        \n",
    "        # YOUR CODE HERE\n",
    "\n",
    "        #Your code goes here...\n",
    "        #define self.X_train to store the training data...\n",
    "        self.X_train = X\n",
    "        self.Y_train = Y        \n",
    "    \n",
    "    def predict(self, X, methodtype='noloops'):\n",
    "        \n",
    "        \"\"\"\n",
    "        Test the trained K-Nearset Neighoubr classifier result on the given examples X\n",
    "        \n",
    "                   \n",
    "            Input:\n",
    "            ------\n",
    "            X: [m x d] a matrix of m  d-dimensional test examples.\n",
    "            methodtype: which method to use for calculating distances.\n",
    "               noloops: without using any loop\n",
    "               oneloop: using one loop\n",
    "               twoloops: using two nested loops...\n",
    "               \n",
    "            Returns:\n",
    "            -----------\n",
    "                pclass: the predicted class for the given set of examples, i.e. to which it belongs\n",
    "        \"\"\"\n",
    "        \n",
    "        num_test = X.shape[0]\n",
    "        \n",
    "        if self.scalefeatures:\n",
    "            X=(X-self.xmin)/(self.xmax-self.xmin)\n",
    "        \n",
    "        y_pred = np.zeros(num_test, dtype = self.Y_train.dtype)\n",
    "        \n",
    "        # defining a function variable so that you will only need to call compute_distance...\n",
    "        if methodtype == 'noloops':\n",
    "            compute_distance = self.compute_distances_no_loops\n",
    "        elif methodtype == 'oneloop':\n",
    "            compute_distance = self.compute_distances_one_loop\n",
    "        else:\n",
    "            compute_distance = self.compute_distances_two_loops\n",
    "        #your code goes here...\n",
    "        \n",
    "        dists=compute_distance(X)\n",
    "        \n",
    "        # YOUR CODE HERE\n",
    "        pclasses = []\n",
    "        for i in range(np.shape(dists)[0]):\n",
    "            idx_dist = np.argsort(dists[i])[:self.k]\n",
    "            nearest_classes = np.take(self.Y_train,idx_dist)\n",
    "            freq_cl = scipy.stats.itemfreq(nearest_classes)\n",
    "            max_freq = 0\n",
    "            class_selected = ''\n",
    "            for item in freq_cl:\n",
    "                if item[1] > max_freq:\n",
    "                    max_freq = item[1]\n",
    "                    class_selected = item[0]\n",
    "            pclasses.append(class_selected)\n",
    "        return pclasses"
   ]
  },
  {
   "cell_type": "code",
   "execution_count": 3,
   "metadata": {
    "collapsed": true
   },
   "outputs": [],
   "source": [
    "#convert predicted classes to a matrix...\n",
    "def class_2_matrix(Y, nclasses):\n",
    "    '''\n",
    "    converts a vector of length m to a matrix of m x nclasses (required for computing log-loss and kaggle format),\n",
    "    Inputs:\n",
    "    ----------\n",
    "    \n",
    "        Y: a vector of length m \n",
    "        nclasses: number of classes in the dataset\n",
    "    \n",
    "    Retuns:\n",
    "    ----------\n",
    "        a binary matrix of size m X nclasses, with all columns of i_th example\n",
    "        set to zero except the one to which the class belongs (or predicted to belong).\n",
    "    \n",
    "    '''\n",
    "    bin_matrix = np.zeros((len(Y),nclasses))\n",
    "    for y in enumerate(Y):\n",
    "        ind_row = y[0]\n",
    "        ind_col = int(y[1][-1])-1\n",
    "        bin_matrix[ind_row][ind_col] = 1\n",
    "    return bin_matrix"
   ]
  },
  {
   "cell_type": "code",
   "execution_count": 4,
   "metadata": {
    "collapsed": true
   },
   "outputs": [],
   "source": [
    "def logloss(plabels,olabels):\n",
    "    '''\n",
    "        computes the logloss from the predicted labels and original labels vectors...\n",
    "        \n",
    "\n",
    "            logloss=−1N∑i=1N∑j=1Myi,jlog(pi,j)\n",
    "            \n",
    "        Input:\n",
    "        ---------\n",
    "        \n",
    "            plabels: predicted labels\n",
    "            olabels: original lables\n",
    "        \n",
    "        Returns:\n",
    "        --------\n",
    "            logloss: logistic loss for the given set of examples...\n",
    "        \n",
    "    '''\n",
    "    nclasses=len(np.unique(olabels))\n",
    "    \n",
    "    olabels=class_2_matrix(olabels,nclasses)\n",
    "    plabels=class_2_matrix(plabels,nclasses)\n",
    "    \n",
    "    epsilon = 1e-15\n",
    "    import scipy as sp\n",
    "    plabels = sp.maximum(epsilon, plabels) # clip the plabels\n",
    "    plabels = sp.minimum(1-epsilon, plabels)\n",
    "    logloss=-1.0/len(Ytest)*np.sum(np.log(plabels)*olabels)\n",
    "    \n",
    "    return logloss"
   ]
  },
  {
   "cell_type": "code",
   "execution_count": 5,
   "metadata": {
    "collapsed": true,
    "slideshow": {
     "slide_type": "-"
    }
   },
   "outputs": [],
   "source": [
    "import pandas as pd\n",
    "import tools as t # set of tools for plotting, data splitting, etc.."
   ]
  },
  {
   "cell_type": "markdown",
   "metadata": {},
   "source": [
    "## Otto Group Product Classification Challenge"
   ]
  },
  {
   "cell_type": "code",
   "execution_count": 6,
   "metadata": {
    "slideshow": {
     "slide_type": "slide"
    }
   },
   "outputs": [
    {
     "name": "stdout",
     "output_type": "stream",
     "text": [
      "                 id       feat_1        feat_2        feat_3        feat_4  \\\n",
      "count  61878.000000  61878.00000  61878.000000  61878.000000  61878.000000   \n",
      "mean   30939.500000      0.38668      0.263066      0.901467      0.779081   \n",
      "std    17862.784315      1.52533      1.252073      2.934818      2.788005   \n",
      "min        1.000000      0.00000      0.000000      0.000000      0.000000   \n",
      "25%    15470.250000      0.00000      0.000000      0.000000      0.000000   \n",
      "50%    30939.500000      0.00000      0.000000      0.000000      0.000000   \n",
      "75%    46408.750000      0.00000      0.000000      0.000000      0.000000   \n",
      "max    61878.000000     61.00000     51.000000     64.000000     70.000000   \n",
      "\n",
      "             feat_5        feat_6        feat_7        feat_8        feat_9  \\\n",
      "count  61878.000000  61878.000000  61878.000000  61878.000000  61878.000000   \n",
      "mean       0.071043      0.025696      0.193704      0.662433      1.011296   \n",
      "std        0.438902      0.215333      1.030102      2.255770      3.474822   \n",
      "min        0.000000      0.000000      0.000000      0.000000      0.000000   \n",
      "25%        0.000000      0.000000      0.000000      0.000000      0.000000   \n",
      "50%        0.000000      0.000000      0.000000      0.000000      0.000000   \n",
      "75%        0.000000      0.000000      0.000000      1.000000      0.000000   \n",
      "max       19.000000     10.000000     38.000000     76.000000     43.000000   \n",
      "\n",
      "           ...            feat_84       feat_85       feat_86       feat_87  \\\n",
      "count      ...       61878.000000  61878.000000  61878.000000  61878.000000   \n",
      "mean       ...           0.070752      0.532306      1.128576      0.393549   \n",
      "std        ...           1.151460      1.900438      2.681554      1.575455   \n",
      "min        ...           0.000000      0.000000      0.000000      0.000000   \n",
      "25%        ...           0.000000      0.000000      0.000000      0.000000   \n",
      "50%        ...           0.000000      0.000000      0.000000      0.000000   \n",
      "75%        ...           0.000000      0.000000      1.000000      0.000000   \n",
      "max        ...          76.000000     55.000000     65.000000     67.000000   \n",
      "\n",
      "            feat_88       feat_89       feat_90       feat_91       feat_92  \\\n",
      "count  61878.000000  61878.000000  61878.000000  61878.000000  61878.000000   \n",
      "mean       0.874915      0.457772      0.812421      0.264941      0.380119   \n",
      "std        2.115466      1.527385      4.597804      2.045646      0.982385   \n",
      "min        0.000000      0.000000      0.000000      0.000000      0.000000   \n",
      "25%        0.000000      0.000000      0.000000      0.000000      0.000000   \n",
      "50%        0.000000      0.000000      0.000000      0.000000      0.000000   \n",
      "75%        1.000000      0.000000      0.000000      0.000000      0.000000   \n",
      "max       30.000000     61.000000    130.000000     52.000000     19.000000   \n",
      "\n",
      "            feat_93  \n",
      "count  61878.000000  \n",
      "mean       0.126135  \n",
      "std        1.201720  \n",
      "min        0.000000  \n",
      "25%        0.000000  \n",
      "50%        0.000000  \n",
      "75%        0.000000  \n",
      "max       87.000000  \n",
      "\n",
      "[8 rows x 94 columns]\n",
      "Index([u'id', u'feat_1', u'feat_2', u'feat_3', u'feat_4', u'feat_5', u'feat_6',\n",
      "       u'feat_7', u'feat_8', u'feat_9', u'feat_10', u'feat_11', u'feat_12',\n",
      "       u'feat_13', u'feat_14', u'feat_15', u'feat_16', u'feat_17', u'feat_18',\n",
      "       u'feat_19', u'feat_20', u'feat_21', u'feat_22', u'feat_23', u'feat_24',\n",
      "       u'feat_25', u'feat_26', u'feat_27', u'feat_28', u'feat_29', u'feat_30',\n",
      "       u'feat_31', u'feat_32', u'feat_33', u'feat_34', u'feat_35', u'feat_36',\n",
      "       u'feat_37', u'feat_38', u'feat_39', u'feat_40', u'feat_41', u'feat_42',\n",
      "       u'feat_43', u'feat_44', u'feat_45', u'feat_46', u'feat_47', u'feat_48',\n",
      "       u'feat_49', u'feat_50', u'feat_51', u'feat_52', u'feat_53', u'feat_54',\n",
      "       u'feat_55', u'feat_56', u'feat_57', u'feat_58', u'feat_59', u'feat_60',\n",
      "       u'feat_61', u'feat_62', u'feat_63', u'feat_64', u'feat_65', u'feat_66',\n",
      "       u'feat_67', u'feat_68', u'feat_69', u'feat_70', u'feat_71', u'feat_72',\n",
      "       u'feat_73', u'feat_74', u'feat_75', u'feat_76', u'feat_77', u'feat_78',\n",
      "       u'feat_79', u'feat_80', u'feat_81', u'feat_82', u'feat_83', u'feat_84',\n",
      "       u'feat_85', u'feat_86', u'feat_87', u'feat_88', u'feat_89', u'feat_90',\n",
      "       u'feat_91', u'feat_92', u'feat_93', u'target'],\n",
      "      dtype='object')\n"
     ]
    }
   ],
   "source": [
    "#Download the dataset and use it\n",
    "#load the data set\n",
    "data=pd.read_csv('./train.csv')\n",
    "print data.describe()\n",
    "print data.columns"
   ]
  },
  {
   "cell_type": "code",
   "execution_count": 7,
   "metadata": {
    "collapsed": true
   },
   "outputs": [],
   "source": [
    "Y=data['target']"
   ]
  },
  {
   "cell_type": "code",
   "execution_count": 8,
   "metadata": {},
   "outputs": [
    {
     "data": {
      "text/plain": [
       "Text(0.5,1,u'Frequency of different class examples')"
      ]
     },
     "execution_count": 8,
     "metadata": {},
     "output_type": "execute_result"
    },
    {
     "data": {
      "image/png": "[encoded data removed]",
      "text/plain": [
       "<matplotlib.figure.Figure at 0x7f79d7d66090>"
      ]
     },
     "metadata": {},
     "output_type": "display_data"
    }
   ],
   "source": [
    "#Seeing is beleaving, so lets start...\n",
    "#Lets first plot the frequency of each class...\n",
    "freq=scipy.stats.itemfreq(Y)# Get frequency of each class....\n",
    "plt.bar(np.arange(1,len(freq[:,1])+1),freq[:,1],width=0.35)\n",
    "plt.xlabel('Classes')\n",
    "plt.ylabel('Frequency')\n",
    "plt.title('Frequency of different class examples')"
   ]
  },
  {
   "cell_type": "markdown",
   "metadata": {},
   "source": [
    "## Problem with Accuracy as evaluation Metric\n",
    "Accuracy as evaluation metric works well when we have same number of examples for different classes, but for the datasets with imbalanced number of examples for each class accuracy is not preferred. For example consider you have dataset with 100 examples (95 from class-1 and 5 from class-2). Now having accuracy of 95% can mean correct classification of all the examples of class-1 with all examples of class-2 being miss-classified, which is not acceptable. So remember to never use the accuracy as evaluation metric for dataset with different number of examples for each class."
   ]
  },
  {
   "cell_type": "code",
   "execution_count": 9,
   "metadata": {},
   "outputs": [
    {
     "name": "stdout",
     "output_type": "stream",
     "text": [
      "(61878, 93)\n",
      "['Class_1' 'Class_1' 'Class_1' ..., 'Class_9' 'Class_9' 'Class_9'] (61878,) 9\n"
     ]
    },
    {
     "name": "stderr",
     "output_type": "stream",
     "text": [
      "/home/sharan/anaconda2/lib/python2.7/site-packages/ipykernel_launcher.py:2: DeprecationWarning: \n",
      ".ix is deprecated. Please use\n",
      ".loc for label based indexing or\n",
      ".iloc for positional indexing\n",
      "\n",
      "See the documentation here:\n",
      "http://pandas.pydata.org/pandas-docs/stable/indexing.html#ix-indexer-is-deprecated\n",
      "  \n"
     ]
    }
   ],
   "source": [
    "# Get your data in matrix\n",
    "X=np.asarray(data.ix[:,1:-1].dropna(),dtype=np.float16)\n",
    "print X.shape\n",
    "Y=np.asarray(data.ix[:,-1])\n",
    "print Y, Y.shape, len(np.unique(Y)) # so we have 9 classes..."
   ]
  },
  {
   "cell_type": "code",
   "execution_count": 10,
   "metadata": {
    "slideshow": {
     "slide_type": "-"
    }
   },
   "outputs": [
    {
     "name": "stdout",
     "output_type": "stream",
     "text": [
      " Training Data Set Dimensions= (43315, 93) Training True Class labels dimensions (43315,)\n",
      " Test Data Set Dimensions= (18563, 93) Test True Class labels dimensions (18563,)\n"
     ]
    }
   ],
   "source": [
    "# Split your data into training and test-set... \n",
    "# see the documentation of split_data in tools for further information...\n",
    "Xtrain,Ytrain,Xtest,Ytest=t.split_data(X,Y)\n",
    "\n",
    "print \" Training Data Set Dimensions=\", Xtrain.shape, \"Training True Class labels dimensions\", Ytrain.shape   \n",
    "print \" Test Data Set Dimensions=\", Xtest.shape, \"Test True Class labels dimensions\", Ytest.shape   "
   ]
  },
  {
   "cell_type": "code",
   "execution_count": 11,
   "metadata": {
    "collapsed": true,
    "slideshow": {
     "slide_type": "slide"
    }
   },
   "outputs": [],
   "source": [
    "# Lets train a Decision Tree Classifier on Petal Length and Width\n",
    "feat=[0,1]\n",
    "knn=KNearestNeighbor(3) # train a 3-nearest neighbour classifier...\n",
    "knn.train(Xtrain[:,feat],Ytrain)"
   ]
  },
  {
   "cell_type": "code",
   "execution_count": 12,
   "metadata": {
    "collapsed": true
   },
   "outputs": [],
   "source": [
    "def write_in_kaggle_format(filename,ids,pclasses,nclasses=9):\n",
    "    '''\n",
    "        write the result in kaggle required format...\n",
    "        \n",
    "        Input:\n",
    "        ----------\n",
    "            filename: name of file\n",
    "            ids: an array of ids of the examples\n",
    "            pclasses: predicted classes of each example...\n",
    "            \n",
    "        \n",
    "        Returns:\n",
    "        ----------\n",
    "            Nothing.\n",
    "        \n",
    "    '''\n",
    "    \n",
    "    #write the result in the kaggle's required format\n",
    "    pclasses=class_2_matrix(pclasses,nclasses)\n",
    "    \n",
    "    dic=defaultdict(list) #build dictionary...\n",
    "    dic['id']=ids\n",
    "    for i in range(pclasses.shape[1]):\n",
    "        dic['Class_'+str(i+1)]=pclasses[:,i]\n",
    "    output = pd.DataFrame(dic,columns=['id','Class_1','Class_2', 'Class_3', 'Class_4', 'Class_5', 'Class_6', 'Class_7', 'Class_8', 'Class_9'])\n",
    "\n",
    "    # Use pandas to write the comma-separated output file\n",
    "    output.to_csv( filename, index=False, quoting=3 )"
   ]
  },
  {
   "cell_type": "markdown",
   "metadata": {
    "slideshow": {
     "slide_type": "slide"
    }
   },
   "source": [
    "Lets see how good we are doing...\n",
    "=================="
   ]
  },
  {
   "cell_type": "code",
   "execution_count": 13,
   "metadata": {
    "slideshow": {
     "slide_type": "slide"
    }
   },
   "outputs": [],
   "source": [
    "#Lets see how good we are doing, by finding the accuracy on the test set..\n",
    "#%debug\n",
    "\n",
    "def test_by_5000(Xtest,knn, subsetsize=5000):\n",
    "#lets split the test set into subsets of 5000 examples, to use our implementation without loops\n",
    "#     print Xtest.shape\n",
    "    pclasses = []\n",
    "    subset_test = np.array_split(Xtest,subsetsize)\n",
    "    for idx in range(len(subset_test)):\n",
    "        pclasses.extend(knn.predict(subset_test[idx],methodtype=\"noloops\"))\n",
    "    return pclasses"
   ]
  },
  {
   "cell_type": "markdown",
   "metadata": {},
   "source": [
    "# Feature Scaling (or Normalization)\n",
    "\n",
    "Since we are using Euclidean distance to find the nearest neighbours, which is (as we have seen in the lectures) is heavily influenced by differently scaled features (that features having different scales and ranges). So to make best of K Nearest Neigbhour classifier we will be needed to first scale each feature dimension. Now lets go and write code for the feature scaling in KNearestNeighbour..."
   ]
  },
  {
   "cell_type": "code",
   "execution_count": 52,
   "metadata": {},
   "outputs": [
    {
     "name": "stderr",
     "output_type": "stream",
     "text": [
      "/home/sharan/anaconda2/lib/python2.7/site-packages/ipykernel_launcher.py:92: RuntimeWarning: invalid value encountered in sqrt\n"
     ]
    },
    {
     "name": "stdout",
     "output_type": "stream",
     "text": [
      "25.6114990614\n"
     ]
    }
   ],
   "source": [
    "# Lets train a KNN Classifier on Normalized Petal Length and Width\n",
    "feat=[0,1]\n",
    "knn=KNearestNeighbor(3,scalefeatures=True) # train a 3-nearest neighbour classifier...\n",
    "\n",
    "knn.train(Xtrain[:,feat],Ytrain)\n",
    "#Lets test it on the set of unseen examples...\n",
    "pclasses=test_by_5000(Xtest[:,feat],knn)#knn.predict(Xtest[:,feat])\n",
    "\n",
    "print logloss(pclasses,Ytest)"
   ]
  },
  {
   "cell_type": "markdown",
   "metadata": {},
   "source": [
    "# Comment on the effect of feature scaling and normalization. \n",
    "\n",
    "What is the difference between the results of normalized features and non-normalized features. Why we are seeing the improvement (or decrease) in the accuracy."
   ]
  },
  {
   "cell_type": "code",
   "execution_count": null,
   "metadata": {
    "collapsed": true
   },
   "outputs": [],
   "source": []
  },
  {
   "cell_type": "markdown",
   "metadata": {},
   "source": [
    "# Lets Train on all features (can really bake your machine)...."
   ]
  },
  {
   "cell_type": "code",
   "execution_count": 53,
   "metadata": {},
   "outputs": [
    {
     "name": "stderr",
     "output_type": "stream",
     "text": [
      "/home/sharan/anaconda2/lib/python2.7/site-packages/ipykernel_launcher.py:90: RuntimeWarning: overflow encountered in square\n",
      "/home/sharan/anaconda2/lib/python2.7/site-packages/ipykernel_launcher.py:92: RuntimeWarning: invalid value encountered in sqrt\n",
      "/home/sharan/anaconda2/lib/python2.7/site-packages/ipykernel_launcher.py:92: RuntimeWarning: overflow encountered in multiply\n",
      "/home/sharan/anaconda2/lib/python2.7/site-packages/ipykernel_launcher.py:92: RuntimeWarning: invalid value encountered in subtract\n",
      "/home/sharan/anaconda2/lib/python2.7/site-packages/ipykernel_launcher.py:92: RuntimeWarning: overflow encountered in add\n",
      "/home/sharan/anaconda2/lib/python2.7/site-packages/ipykernel_launcher.py:89: RuntimeWarning: overflow encountered in square\n"
     ]
    },
    {
     "name": "stdout",
     "output_type": "stream",
     "text": [
      "LogLoss =  8.85099172066\n"
     ]
    }
   ],
   "source": [
    "# Lets train a KNN on all the features... will take around 1 hour\n",
    "feat=np.arange(Xtrain.shape[1])\n",
    "knn=KNearestNeighbor(100)# With K as a random guess...\n",
    "knn.train(Xtrain[:,feat],Ytrain)\n",
    "pclasses=test_by_5000(Xtest[:,feat],knn)\n",
    "#Lets see how good we are doing, by finding the logloss on the test set..\n",
    "print \"LogLoss = \", logloss(pclasses,Ytest)"
   ]
  },
  {
   "cell_type": "markdown",
   "metadata": {},
   "source": [
    "# Training on original training and kaggle test Set"
   ]
  },
  {
   "cell_type": "code",
   "execution_count": 88,
   "metadata": {},
   "outputs": [
    {
     "name": "stderr",
     "output_type": "stream",
     "text": [
      "/home/sharan/anaconda2/lib/python2.7/site-packages/ipykernel_launcher.py:3: DeprecationWarning: \n",
      ".ix is deprecated. Please use\n",
      ".loc for label based indexing or\n",
      ".iloc for positional indexing\n",
      "\n",
      "See the documentation here:\n",
      "http://pandas.pydata.org/pandas-docs/stable/indexing.html#ix-indexer-is-deprecated\n",
      "  This is separate from the ipykernel package so we can avoid doing imports until\n"
     ]
    }
   ],
   "source": [
    "datatest=pd.read_csv('./test.csv')\n",
    "ids=np.array(datatest['id'])\n",
    "Xtest=np.array(datatest.ix[:,1:].values,dtype=np.float32)"
   ]
  },
  {
   "cell_type": "code",
   "execution_count": 89,
   "metadata": {},
   "outputs": [
    {
     "name": "stdout",
     "output_type": "stream",
     "text": [
      "(43315, 93)\n",
      "(144368, 93)\n"
     ]
    }
   ],
   "source": [
    "print Xtrain.shape\n",
    "print Xtest.shape"
   ]
  },
  {
   "cell_type": "code",
   "execution_count": 65,
   "metadata": {},
   "outputs": [
    {
     "name": "stdout",
     "output_type": "stream",
     "text": [
      "[65 12 33 91 10 14 51  8 90 89]\n"
     ]
    },
    {
     "name": "stderr",
     "output_type": "stream",
     "text": [
      "/home/sharan/anaconda2/lib/python2.7/site-packages/ipykernel_launcher.py:92: RuntimeWarning: invalid value encountered in sqrt\n"
     ]
    },
    {
     "name": "stdout",
     "output_type": "stream",
     "text": [
      "LogLoss =  15.9120624753\n"
     ]
    }
   ],
   "source": [
    "#Lets train on 10 randomly selected features \n",
    "feat=np.arange(X.shape[1])\n",
    "np.random.shuffle(feat)#using only ten features X.shape[1])\n",
    "feat=feat[:10]\n",
    "print feat\n",
    "knn=KNearestNeighbor(100)# With K as a random guess...\n",
    "knn.train(X[:,feat],Y)\n",
    "pclasses=test_by_5000(Xtest[:, feat], knn, subsetsize=5000)\n",
    "#Lets see how good we are doing, by finding the logloss on the test set..\n",
    "# print \"LogLoss = \", logloss(pclasses,Ytest)"
   ]
  },
  {
   "cell_type": "code",
   "execution_count": 99,
   "metadata": {
    "collapsed": true
   },
   "outputs": [],
   "source": [
    "#Write in Kaggle Format...\n",
    "write_in_kaggle_format('kaggel-otto-5features-100-nn',ids,pclasses)"
   ]
  },
  {
   "cell_type": "markdown",
   "metadata": {},
   "source": [
    "#### Result On just 10 features"
   ]
  },
  {
   "cell_type": "code",
   "execution_count": 100,
   "metadata": {},
   "outputs": [
    {
     "data": {
      "image/png": "[encoded data removed]",
      "text/plain": [
       "<IPython.core.display.Image object>"
      ]
     },
     "execution_count": 100,
     "metadata": {},
     "output_type": "execute_result"
    }
   ],
   "source": [
    "from IPython.display import Image\n",
    "\n",
    "Image(\"./Image-1.png\") "
   ]
  },
  {
   "cell_type": "markdown",
   "metadata": {},
   "source": [
    "#### Your rank should be around 2500, still better than many with using a simple classifier and random settings."
   ]
  },
  {
   "cell_type": "code",
   "execution_count": 106,
   "metadata": {},
   "outputs": [
    {
     "name": "stderr",
     "output_type": "stream",
     "text": [
      "/home/sharan/anaconda2/lib/python2.7/site-packages/ipykernel_launcher.py:90: RuntimeWarning: overflow encountered in square\n",
      "/home/sharan/anaconda2/lib/python2.7/site-packages/ipykernel_launcher.py:92: RuntimeWarning: invalid value encountered in sqrt\n"
     ]
    },
    {
     "name": "stdout",
     "output_type": "stream",
     "text": [
      "Total time taken  1538.8390758\n"
     ]
    }
   ],
   "source": [
    "# Lets train a KNN on all the features...\n",
    "\n",
    "#Becareful it can take around 3 Hours on an i5 machine to complete this, you can use time.time() function to time your code.\n",
    "import time\n",
    "start = time.time()\n",
    "feat=np.arange(X.shape[1])\n",
    "knn=KNearestNeighbor(100)# With K as a random guess...\n",
    "knn.train(X[:,feat],Y)\n",
    "pclasses=test_by_5000(Xtest[:, feat], knn, subsetsize=5000)\n",
    "stop = time.time()\n",
    "print \"Total time taken \",stop-start"
   ]
  },
  {
   "cell_type": "code",
   "execution_count": 107,
   "metadata": {
    "collapsed": true
   },
   "outputs": [],
   "source": [
    "write_in_kaggle_format('kaggel-otto-Allfeatures-100-nn',ids,pclasses)"
   ]
  },
  {
   "cell_type": "code",
   "execution_count": 108,
   "metadata": {},
   "outputs": [
    {
     "data": {
      "image/png": "[encoded data removed]",
      "text/plain": [
       "<IPython.core.display.Image object>"
      ]
     },
     "execution_count": 108,
     "metadata": {},
     "output_type": "execute_result"
    }
   ],
   "source": [
    "from IPython.display import Image\n",
    "\n",
    "Image(\"./Image-2.png\") "
   ]
  },
  {
   "cell_type": "markdown",
   "metadata": {
    "slideshow": {
     "slide_type": "slide"
    }
   },
   "source": [
    "What can you conclude ?\n",
    "====================\n",
    "Please write your observation....\n",
    "\n"
   ]
  },
  {
   "cell_type": "code",
   "execution_count": null,
   "metadata": {
    "collapsed": true
   },
   "outputs": [],
   "source": []
  },
  {
   "cell_type": "markdown",
   "metadata": {},
   "source": [
    "# Cross-Validation [For Improving your Rank]\n",
    "\n",
    "Until now we have been splitting the dataset into a training and test set rather randomly and were reporting a rather artifical performance. Now we are going to test our system exhaustively by making use of k-fold [cross validation](http://en.wikipedia.org/wiki/Cross-validation_%28statistics%29). \n",
    "\n",
    "Now go and tune your hyper-parameters (K in this case) to opitmize the performance for only first two parameters.\n",
    "\n",
    "\n",
    "However here we will have to use a trick for better performance. We will train only a single classifier per fold with the maximum K value in the grid. Then we will simply decrease the value of K each time and see its impact. \n",
    "\n",
    "** Still you will require around 12 Hours to find the best paramaters, so be careful. **"
   ]
  },
  {
   "cell_type": "code",
   "execution_count": 14,
   "metadata": {},
   "outputs": [
    {
     "name": "stdout",
     "output_type": "stream",
     "text": [
      "Generating CV data for 9 classes\n"
     ]
    },
    {
     "name": "stderr",
     "output_type": "stream",
     "text": [
      "/home/sharan/anaconda2/lib/python2.7/site-packages/ipykernel_launcher.py:92: RuntimeWarning: invalid value encountered in sqrt\n"
     ]
    },
    {
     "name": "stdout",
     "output_type": "stream",
     "text": [
      "[Fold  0 ] log loss =  30.9273038429\n",
      "[Fold  1 ] log loss =  30.9273038429\n",
      "[Fold  2 ] log loss =  30.9273038429\n",
      "[Fold  3 ] log loss =  30.9273038429\n",
      "For K=  1 , Mean Log loss,  30.9273038429\n",
      "[Fold  0 ] log loss =  25.431018465\n",
      "[Fold  1 ] log loss =  25.431018465\n",
      "[Fold  2 ] log loss =  25.431018465\n",
      "[Fold  3 ] log loss =  25.431018465\n",
      "For K=  11 , Mean Log loss,  25.431018465\n",
      "[Fold  0 ] log loss =  25.4328790897\n",
      "[Fold  1 ] log loss =  25.4328790897\n",
      "[Fold  2 ] log loss =  25.4328790897\n",
      "[Fold  3 ] log loss =  25.4328790897\n",
      "For K=  21 , Mean Log loss,  25.4328790897\n",
      "[Fold  0 ] log loss =  25.4161334674\n",
      "[Fold  1 ] log loss =  25.4161334674\n",
      "[Fold  2 ] log loss =  25.4161334674\n",
      "[Fold  3 ] log loss =  25.4161334674\n",
      "For K=  31 , Mean Log loss,  25.4161334674\n",
      "[Fold  0 ] log loss =  25.2189072486\n",
      "[Fold  1 ] log loss =  25.2189072486\n",
      "[Fold  2 ] log loss =  25.2189072486\n",
      "[Fold  3 ] log loss =  25.2189072486\n",
      "For K=  41 , Mean Log loss,  25.2189072486\n",
      "[Fold  0 ] log loss =  25.2263497475\n",
      "[Fold  1 ] log loss =  25.2263497475\n",
      "[Fold  2 ] log loss =  25.2263497475\n",
      "[Fold  3 ] log loss =  25.2263497475\n",
      "For K=  51 , Mean Log loss,  25.2263497475\n",
      "[Fold  0 ] log loss =  25.185416004\n",
      "[Fold  1 ] log loss =  25.185416004\n",
      "[Fold  2 ] log loss =  25.185416004\n",
      "[Fold  3 ] log loss =  25.185416004\n",
      "For K=  61 , Mean Log loss,  25.185416004\n",
      "[Fold  0 ] log loss =  25.1314578875\n",
      "[Fold  1 ] log loss =  25.1314578875\n",
      "[Fold  2 ] log loss =  25.1314578875\n",
      "[Fold  3 ] log loss =  25.1314578875\n",
      "For K=  71 , Mean Log loss,  25.1314578875\n",
      "[Fold  0 ] log loss =  25.1742522557\n",
      "[Fold  1 ] log loss =  25.1742522557\n",
      "[Fold  2 ] log loss =  25.1742522557\n",
      "[Fold  3 ] log loss =  25.1742522557\n",
      "For K=  81 , Mean Log loss,  25.1742522557\n",
      "[Fold  0 ] log loss =  25.1612278828\n",
      "[Fold  1 ] log loss =  25.1612278828\n",
      "[Fold  2 ] log loss =  25.1612278828\n",
      "[Fold  3 ] log loss =  25.1612278828\n",
      "For K=  91 , Mean Log loss,  25.1612278828\n",
      "[Fold  0 ] log loss =  25.172391631\n",
      "[Fold  1 ] log loss =  25.172391631\n",
      "[Fold  2 ] log loss =  25.172391631\n",
      "[Fold  3 ] log loss =  25.172391631\n",
      "For K=  101 , Mean Log loss,  25.172391631\n",
      "[Fold  0 ] log loss =  25.1630885075\n",
      "[Fold  1 ] log loss =  25.1630885075\n",
      "[Fold  2 ] log loss =  25.1630885075\n",
      "[Fold  3 ] log loss =  25.1630885075\n",
      "For K=  111 , Mean Log loss,  25.1630885075\n",
      "[Fold  0 ] log loss =  25.1668097569\n",
      "[Fold  1 ] log loss =  25.1668097569\n",
      "[Fold  2 ] log loss =  25.1668097569\n",
      "[Fold  3 ] log loss =  25.1668097569\n",
      "For K=  121 , Mean Log loss,  25.1668097569\n",
      "[Fold  0 ] log loss =  25.1202941393\n",
      "[Fold  1 ] log loss =  25.1202941393\n",
      "[Fold  2 ] log loss =  25.1202941393\n",
      "[Fold  3 ] log loss =  25.1202941393\n",
      "For K=  131 , Mean Log loss,  25.1202941393\n",
      "[Fold  0 ] log loss =  25.1426216358\n",
      "[Fold  1 ] log loss =  25.1426216358\n",
      "[Fold  2 ] log loss =  25.1426216358\n",
      "[Fold  3 ] log loss =  25.1426216358\n",
      "For K=  141 , Mean Log loss,  25.1426216358\n",
      "[Fold  0 ] log loss =  25.1575066334\n",
      "[Fold  1 ] log loss =  25.1575066334\n",
      "[Fold  2 ] log loss =  25.1575066334\n",
      "[Fold  3 ] log loss =  25.1575066334\n",
      "For K=  151 , Mean Log loss,  25.1575066334\n",
      "[Fold  0 ] log loss =  25.1556460087\n",
      "[Fold  1 ] log loss =  25.1556460087\n",
      "[Fold  2 ] log loss =  25.1556460087\n",
      "[Fold  3 ] log loss =  25.1556460087\n",
      "For K=  161 , Mean Log loss,  25.1556460087\n",
      "[Fold  0 ] log loss =  25.1500641346\n",
      "[Fold  1 ] log loss =  25.1500641346\n",
      "[Fold  2 ] log loss =  25.1500641346\n",
      "[Fold  3 ] log loss =  25.1500641346\n",
      "For K=  171 , Mean Log loss,  25.1500641346\n",
      "[Fold  0 ] log loss =  25.1482035099\n",
      "[Fold  1 ] log loss =  25.1482035099\n",
      "[Fold  2 ] log loss =  25.1482035099\n",
      "[Fold  3 ] log loss =  25.1482035099\n",
      "For K=  181 , Mean Log loss,  25.1482035099\n",
      "[Fold  0 ] log loss =  25.1482035099\n",
      "[Fold  1 ] log loss =  25.1482035099\n",
      "[Fold  2 ] log loss =  25.1482035099\n",
      "[Fold  3 ] log loss =  25.1482035099\n",
      "For K=  191 , Mean Log loss,  25.1482035099\n",
      "Best value for the K= 131 and gives the following mean log loss= 25.1202941393\n",
      "Total time taken = 7480.69504595\n"
     ]
    }
   ],
   "source": [
    "# Now lets cross validate for best paramters, and test the result...\n",
    "# We will be training four different models on four different partitions of data set and \n",
    "# then will be reporting the mean logloss of the four classifiers.\n",
    "import time\n",
    "start = time.time()\n",
    "nfolds=4 # lets use four folds..\n",
    "folds=t.generate_folds(X,Y,nfolds)\n",
    "features=[0,1] # features to use for our system\n",
    "#now lets train and test on these folds...\n",
    "\n",
    "#Lets perform the grid search...\n",
    "ks=np.arange(1,200,10) # search the k in the range one to 20...\n",
    "foldacc=[]          \n",
    "# Your code goes here...\n",
    "dict_k = {}\n",
    "start = time.time()\n",
    "for ks_ in ks:\n",
    "    total_log_loss = 0.0\n",
    "    mean_log_loss = 0.0\n",
    "    for nfolds_ in range(nfolds):\n",
    "        X_train, Y_train, X_test, Y_test = folds[nfolds_]\n",
    "        feat=[0, 1]\n",
    "        knn=KNearestNeighbor(ks_,scalefeatures=True)\n",
    "        knn.train(Xtrain[:,feat],Ytrain)\n",
    "        pclasses=test_by_5000(Xtest[:,feat],knn)\n",
    "        log_loss = logloss(pclasses,Ytest)\n",
    "        total_log_loss+=log_loss\n",
    "        print \"[Fold \",nfolds_,\"] log loss = \",log_loss\n",
    "    mean_log_loss = total_log_loss/float(nfolds)\n",
    "    print \"For K= \",ks_,\", Mean Log loss, \",mean_log_loss\n",
    "    foldacc.append(mean_log_loss)\n",
    "    dict_k[ks_]=mean_log_loss\n",
    "bestk = min(dict_k, key=dict_k.get)\n",
    "end = time.time()\n",
    "print \"Best value for the K=\",bestk, \"and gives the following mean log loss=\",dict_k[bestk]\n",
    "print \"Total time taken =\",(end-start)"
   ]
  },
  {
   "cell_type": "markdown",
   "metadata": {},
   "source": [
    "# Retrain the classifier with best-k and see its accuracy on kaggle\n",
    "### Add the screenshow below"
   ]
  },
  {
   "cell_type": "code",
   "execution_count": 15,
   "metadata": {},
   "outputs": [
    {
     "name": "stdout",
     "output_type": "stream",
     "text": [
      "131\n"
     ]
    }
   ],
   "source": [
    "print bestk"
   ]
  },
  {
   "cell_type": "code",
   "execution_count": 25,
   "metadata": {
    "collapsed": true
   },
   "outputs": [],
   "source": [
    "# Lets train a KNN on all the features...\n",
    "\n",
    "#Becareful it can take around 3 Hours on an i5 machine to complete this, you can use time.time() function to time your code."
   ]
  },
  {
   "cell_type": "code",
   "execution_count": 26,
   "metadata": {},
   "outputs": [
    {
     "ename": "NameError",
     "evalue": "name 'pclasses' is not defined",
     "output_type": "error",
     "traceback": [
      "\u001b[0;31m---------------------------------------------------------------------------\u001b[0m",
      "\u001b[0;31mNameError\u001b[0m                                 Traceback (most recent call last)",
      "\u001b[0;32m<ipython-input-26-aa74cf6dca3c>\u001b[0m in \u001b[0;36m<module>\u001b[0;34m()\u001b[0m\n\u001b[0;32m----> 1\u001b[0;31m \u001b[0mwrite_in_kaggle_format\u001b[0m\u001b[0;34m(\u001b[0m\u001b[0;34m'kaggel-otto-Allfeatures-100-nn'\u001b[0m\u001b[0;34m,\u001b[0m\u001b[0mids\u001b[0m\u001b[0;34m,\u001b[0m\u001b[0mpclasses\u001b[0m\u001b[0;34m)\u001b[0m\u001b[0;34m\u001b[0m\u001b[0m\n\u001b[0m",
      "\u001b[0;31mNameError\u001b[0m: name 'pclasses' is not defined"
     ]
    }
   ],
   "source": [
    "write_in_kaggle_format('kaggel-otto-Allfeatures-100-nn',ids,pclasses)"
   ]
  },
  {
   "cell_type": "markdown",
   "metadata": {},
   "source": [
    "# Screenshot"
   ]
  },
  {
   "cell_type": "code",
   "execution_count": null,
   "metadata": {
    "collapsed": true
   },
   "outputs": [],
   "source": []
  }
 ],
 "metadata": {
  "kernelspec": {
   "display_name": "Python 2",
   "language": "python",
   "name": "python2"
  },
  "language_info": {
   "codemirror_mode": {
    "name": "ipython",
    "version": 2
   },
   "file_extension": ".py",
   "mimetype": "text/x-python",
   "name": "python",
   "nbconvert_exporter": "python",
   "pygments_lexer": "ipython2",
   "version": "2.7.14"
  }
 },
 "nbformat": 4,
 "nbformat_minor": 1
}
