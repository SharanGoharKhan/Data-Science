{
 "cells": [
  {
   "cell_type": "markdown",
   "metadata": {},
   "source": [
    "# Assignment No 3a\n",
    "### *Written By: Sibt ul Hussain*\n",
    "----\n",
    "## Goal\n",
    "\n",
    "Your goal in this assigment is to implement a KNN Classifier.\n",
    "\n",
    "**Note** Please note that you are allowed to use only those libraries which we have discussed in the class, i.e. numpy, scipy, pandas.\n",
    "\n",
    "\n",
    "## Submission Instructions\n",
    "You are required to submit the original notebook file on the Slate (with .ipynb extension), with complete set of outputs. Students failing to do so will get zero marks. \n",
    "\n",
    "**Please read each step carefully and understand it fully before proceeding with code writing**\n",
    "\n",
    "## Plagiarism\n",
    "Any form of plagiarism will not be tolerated and result in 0 marks.\n"
   ]
  },
  {
   "cell_type": "markdown",
   "metadata": {},
   "source": [
    "Lets suppose there are $m$ examples of size $d$, which are stored in a training matrix $D$ of size $m \\times d$. Now if we use Euclidean distance for the finding the best match for a given test example  $q_{d\\times1}$ how many multiplications and additions we will need to perform ?"
   ]
  },
  {
   "cell_type": "code",
   "execution_count": null,
   "metadata": {
    "collapsed": true
   },
   "outputs": [],
   "source": []
  },
  {
   "cell_type": "markdown",
   "metadata": {
    "slideshow": {
     "slide_type": "slide"
    }
   },
   "source": [
    "Here you will be implementing three versions of KNN classifiers, those are:\n",
    " 1. Using two nested loops, i.e. for a given example you will have to compute its L2 distance with all the training samples, thus you will need to implement it using two nested loops...**Please first complete the assignment using this method and then go for further optimizations mentioned in step 2 and 3**\n",
    " 2. Using one loop, i.e. you can get rid of one loop using the numpy vectorization (tiling the test example).\n",
    " 3. The number of multiplications and additions can be reduced a lot if we use an alternate definition of Euclidean distance, i.e. $$||x-y||^2=||x||^2+||y||^2-2x^Ty$$\n",
    "instead of using the traditional definition $$||x-y||^2=\\sum_i (x_i-y_i)^2$$ This definition will help you to implement a very fast version of KNN classifier without using any loop whatsoever. \n",
    "\n",
    "#### HelpFul Functions\n",
    "You might find following functions to be extremely helpful\n",
    " - **[argpartition] (http://docs.scipy.org/doc/numpy/reference/generated/numpy.argpartition.html)** uses introselect algorithm to perform an indirect partition along the given axis. This can lead to O(n) complexity instead of O(nlogn). Remember indexing start from 0.\n",
    " - **[itemfreq]()** a function that returns a 2-D array of item frequencies."
   ]
  },
  {
   "cell_type": "markdown",
   "metadata": {},
   "source": [
    "### K Nearest Neighbour Classifier\n",
    "\n",
    "Now in this assignment we will be implementing the K Nearest Neighbour Classifier for Continuous attributes.\n"
   ]
  },
  {
   "cell_type": "code",
   "execution_count": 174,
   "metadata": {
    "slideshow": {
     "slide_type": "slide"
    }
   },
   "outputs": [
    {
     "name": "stdout",
     "output_type": "stream",
     "text": [
      "Populating the interactive namespace from numpy and matplotlib\n",
      "The autoreload extension is already loaded. To reload it, use:\n",
      "  %reload_ext autoreload\n"
     ]
    }
   ],
   "source": [
    "%pylab inline\n",
    "import scipy.stats\n",
    "from collections import defaultdict\n",
    "plt.style.use('ggplot')\n",
    "matplotlib.rcParams['figure.figsize'] = (10.0, 8.0)\n",
    "%load_ext autoreload \n",
    "%autoreload 2\n",
    "import numpy as np"
   ]
  },
  {
   "cell_type": "code",
   "execution_count": 176,
   "metadata": {
    "deletable": false,
    "nbgrader": {
     "checksum": "1ff8812ec1ff65cd4ef9c7b119cb35b2",
     "grade": false,
     "grade_id": "class",
     "locked": false,
     "schema_version": 1,
     "solution": true
    },
    "slideshow": {
     "slide_type": "slide"
    }
   },
   "outputs": [],
   "source": [
    "# TODO: You have to implement the following class\n",
    "## Your code goes here...\n",
    "\n",
    "class KNearestNeighbor:\n",
    "    ''' Implements the KNearest Neigbours For Classification... '''\n",
    "    def __init__(self, k, scalefeatures=False):        \n",
    "        self.k=k\n",
    "        self.scalefeatures=scalefeatures\n",
    "        \n",
    "        #pass    \n",
    "    \n",
    "    def compute_distances_two_loops(self, X):\n",
    "        \"\"\"\n",
    "        Compute the distance between each test point in X and each training point\n",
    "        in self.X_train using a nested loop over both the training data and the \n",
    "        test data.\n",
    "\n",
    "        Input:\n",
    "        X - An num_test x dimension array where each row is a test point.\n",
    "\n",
    "        Output:\n",
    "        dists - A num_test x num_train array where dists[i, j] is the distance\n",
    "                between the ith test point and the jth training point.\n",
    "        \"\"\"\n",
    "        num_test = X.shape[0]\n",
    "        num_train = self.X_train.shape[0]\n",
    "        dists = np.zeros((num_test, num_train))\n",
    "        for i in xrange(num_test):\n",
    "            for j in xrange(num_train):\n",
    "                #####################################################################\n",
    "                # TODO:                                                             #\n",
    "                # Compute the l2 distance between the ith test point and the jth    #\n",
    "                # training point, and store the result in dists[i, j]               #\n",
    "                #####################################################################\n",
    "                # YOUR CODE HERE\n",
    "                dists[i,j] = math.sqrt(sum([(x-y)**2 for x,y in zip(X[i],self.X_train[j])]))\n",
    "                #####################################################################\n",
    "                #                       END OF YOUR CODE                            #\n",
    "                #####################################################################\n",
    "        return dists\n",
    "\n",
    "    def compute_distances_one_loop(self, X):\n",
    "        \"\"\"\n",
    "        Compute the distance between each test point in X and each training point\n",
    "        in self.X_train using a single loop over the test data.\n",
    "\n",
    "        Input / Output: Same as compute_distances_two_loops\n",
    "        \"\"\"\n",
    "        num_test = X.shape[0]\n",
    "        num_train = self.X_train.shape[0]\n",
    "        dists = np.zeros((num_test, num_train))\n",
    "        X  = np.array(X)\n",
    "        self.X_train = np.array(self.X_train)\n",
    "        for i in xrange(num_test):\n",
    "            #######################################################################\n",
    "            # TODO:                                                               #\n",
    "            # Compute the l2 distance between the ith test point and all training #\n",
    "            # points, and store the result in dists[i, :].                        #\n",
    "            #######################################################################\n",
    "            # YOUR CODE HERE\n",
    "            X_tiled = np.tile(X[i],(num_train,1))\n",
    "            dists[i,:]=np.sqrt(np.sum(np.square(X_tiled-self.X_train),axis=1))\n",
    "            #######################################################################\n",
    "            #                         END OF YOUR CODE                            #\n",
    "            #######################################################################\n",
    "        return dists\n",
    "        \n",
    "\n",
    "    def compute_distances_no_loops(self, X):\n",
    "        \"\"\"\n",
    "        Compute the distance between each test point in X and each training point\n",
    "        in self.X_train using no explicit loops.\n",
    "\n",
    "        Input / Output: Same as compute_distances_two_loops\n",
    "        \"\"\"\n",
    "        num_test = X.shape[0]\n",
    "        num_train = self.X_train.shape[0]\n",
    "        dists = np.zeros((num_test, num_train)) \n",
    "        #########################################################################\n",
    "        # TODO:                                                                 #\n",
    "        # Compute the l2 distance between all test points and all training      #\n",
    "        # points without using any explicit loops, and store the result in      #\n",
    "        # dists.                                                                #\n",
    "        # HINT: Try to formulate the l2 distance using matrix multiplication    #\n",
    "        #       and two broadcast sums.   \n",
    "        # Look at the np.tile function as well                                  #\n",
    "        #########################################################################\n",
    "        # YOUR CODE HERE\n",
    "        test_sum_square = np.sum(np.square(X),axis=1);\n",
    "        train_sum_square = np.sum(np.square(self.X_train),axis=1);\n",
    "        mul = np.dot(X,self.X_train.T);\n",
    "        dists = np.sqrt(test_sum_square[:,np.newaxis]+train_sum_square-2*mul)\n",
    "        #########################################################################\n",
    "        #                         END OF YOUR CODE                              #\n",
    "        #########################################################################\n",
    "        return dists\n",
    "    \n",
    "    def scale_features(self,X):\n",
    "        \"\"\"\n",
    "            Normalize each feature to lie in the range [0 ,1]\n",
    "\n",
    "            Input:\n",
    "            ------\n",
    "\n",
    "                X= M x d dimensional data matrix\n",
    "\n",
    "            Returns:\n",
    "            --------\n",
    "\n",
    "                normalized X\n",
    "        \"\"\"\n",
    "        # we will store these values compute on training set to use during testing \n",
    "        self.xmin= np.min(X,axis=0)\n",
    "        self.xmax= np.max(X,axis=0)\n",
    "\n",
    "        return (X-self.xmin)/(self.xmax-self.xmin)\n",
    "    \n",
    "    def train(self, X, Y):\n",
    "        ''' Train K Nearest Neighbour classifier using the given \n",
    "            X [m x d] data matrix and Y labels matrix\n",
    "            \n",
    "            Input:\n",
    "            ------\n",
    "            X: [m x d] a data matrix of m d-dimensional examples.\n",
    "            Y: [m x 1] a label vector.\n",
    "            \n",
    "            Returns:\n",
    "            -----------\n",
    "            Nothing\n",
    "            '''\n",
    "\n",
    "        nexamples,nfeatures=X.shape\n",
    "        \n",
    "        if self.scalefeatures:\n",
    "            X=self.scale_features(X)\n",
    "        \n",
    "        # YOUR CODE HERE\n",
    "\n",
    "        #Your code goes here...\n",
    "        #define self.X_train to store the training data...\n",
    "        self.X_train = X\n",
    "        self.Y_train = Y        \n",
    "    \n",
    "    def predict(self, X, methodtype='noloops'):\n",
    "        \n",
    "        \"\"\"\n",
    "        Test the trained K-Nearset Neighoubr classifier result on the given examples X\n",
    "        \n",
    "                   \n",
    "            Input:\n",
    "            ------\n",
    "            X: [m x d] a matrix of m  d-dimensional test examples.\n",
    "            methodtype: which method to use for calculating distances.\n",
    "               noloops: without using any loop\n",
    "               oneloop: using one loop\n",
    "               twoloops: using two nested loops...\n",
    "               \n",
    "            Returns:\n",
    "            -----------\n",
    "                pclass: the predicted class for the given set of examples, i.e. to which it belongs\n",
    "        \"\"\"\n",
    "        \n",
    "        num_test = X.shape[0]\n",
    "        \n",
    "        if self.scalefeatures:\n",
    "            X=(X-self.xmin)/(self.xmax-self.xmin)\n",
    "        \n",
    "        y_pred = np.zeros(num_test, dtype = self.Y_train.dtype)\n",
    "        \n",
    "        # defining a function variable so that you will only need to call compute_distance...\n",
    "        if methodtype == 'noloops':\n",
    "            compute_distance = self.compute_distances_no_loops\n",
    "        elif methodtype == 'oneloop':\n",
    "            compute_distance = self.compute_distances_one_loop\n",
    "        else:\n",
    "            compute_distance = self.compute_distances_two_loops\n",
    "        #your code goes here...\n",
    "        \n",
    "        dists=compute_distance(X)\n",
    "        \n",
    "        # YOUR CODE HERE\n",
    "        pclasses = []\n",
    "        for i in range(np.shape(dists)[0]):\n",
    "            idx_dist = np.argsort(dists[i])[:self.k]\n",
    "            nearest_classes = np.take(self.Y_train,idx_dist)\n",
    "            freq_cl = scipy.stats.itemfreq(nearest_classes)\n",
    "            max_freq = 0\n",
    "            class_selected = ''\n",
    "            for item in freq_cl:\n",
    "                if item[1] > max_freq:\n",
    "                    max_freq = item[1]\n",
    "                    class_selected = item[0]\n",
    "            pclasses.append(class_selected)\n",
    "        return pclasses"
   ]
  },
  {
   "cell_type": "code",
   "execution_count": 177,
   "metadata": {
    "collapsed": true,
    "slideshow": {
     "slide_type": "-"
    }
   },
   "outputs": [],
   "source": [
    "import pandas as pd\n",
    "import tools as t # set of tools for plotting, data splitting, etc.."
   ]
  },
  {
   "cell_type": "code",
   "execution_count": 178,
   "metadata": {
    "slideshow": {
     "slide_type": "slide"
    }
   },
   "outputs": [
    {
     "name": "stdout",
     "output_type": "stream",
     "text": [
      "       SepalLength  SepalWidth  PetalLength  PetalWidth\n",
      "count   150.000000  150.000000   150.000000  150.000000\n",
      "mean      5.843333    3.054000     3.758667    1.198667\n",
      "std       0.828066    0.433594     1.764420    0.763161\n",
      "min       4.300000    2.000000     1.000000    0.100000\n",
      "25%       5.100000    2.800000     1.600000    0.300000\n",
      "50%       5.800000    3.000000     4.350000    1.300000\n",
      "75%       6.400000    3.300000     5.100000    1.800000\n",
      "max       7.900000    4.400000     6.900000    2.500000\n"
     ]
    }
   ],
   "source": [
    "#load the data set\n",
    "data=pd.read_csv('./iris.data', header=None)\n",
    "data.columns=['SepalLength','SepalWidth','PetalLength','PetalWidth','Class']\n",
    "print data.describe()"
   ]
  },
  {
   "cell_type": "code",
   "execution_count": 179,
   "metadata": {
    "slideshow": {
     "slide_type": "slide"
    }
   },
   "outputs": [
    {
     "name": "stdout",
     "output_type": "stream",
     "text": [
      " Data Set Dimensions= (150, 4)  True Class labels dimensions (150,)\n"
     ]
    }
   ],
   "source": [
    "# Get your data in matrix\n",
    "X=np.asarray(data[['SepalLength','SepalWidth','PetalLength','PetalWidth']].dropna())\n",
    "Y=np.asarray(data['Class'].dropna())\n",
    "print \" Data Set Dimensions=\", X.shape, \" True Class labels dimensions\", Y.shape   "
   ]
  },
  {
   "cell_type": "code",
   "execution_count": 180,
   "metadata": {
    "slideshow": {
     "slide_type": "-"
    }
   },
   "outputs": [
    {
     "name": "stdout",
     "output_type": "stream",
     "text": [
      " Training Data Set Dimensions= (105, 4) Training True Class labels dimensions (105,)\n",
      " Test Data Set Dimensions= (45, 4) Test True Class labels dimensions (105,)\n"
     ]
    }
   ],
   "source": [
    "# Split your data into training and test-set... \n",
    "# see the documentation of split_data in tools for further information...\n",
    "Xtrain,Ytrain,Xtest,Ytest=t.split_data(X,Y)\n",
    "\n",
    "print \" Training Data Set Dimensions=\", Xtrain.shape, \"Training True Class labels dimensions\", Ytrain.shape   \n",
    "print \" Test Data Set Dimensions=\", Xtest.shape, \"Test True Class labels dimensions\", Ytrain.shape   "
   ]
  },
  {
   "cell_type": "markdown",
   "metadata": {},
   "source": [
    "# Training Time"
   ]
  },
  {
   "cell_type": "code",
   "execution_count": 181,
   "metadata": {
    "collapsed": true,
    "slideshow": {
     "slide_type": "slide"
    }
   },
   "outputs": [],
   "source": [
    "# Lets train a Decision Tree Classifier on Petal Length and Width\n",
    "feat=[0,1]\n",
    "knn=KNearestNeighbor(3) # train a 3-nearest neighbour classifier...\n",
    "knn.train(Xtrain[:,feat],Ytrain)"
   ]
  },
  {
   "cell_type": "markdown",
   "metadata": {},
   "source": [
    "### Testing Your Distance Implementation and Timing (Profiling it)"
   ]
  },
  {
   "cell_type": "code",
   "execution_count": 182,
   "metadata": {},
   "outputs": [],
   "source": [
    "#first lets compute distance of each test example from all the training examples using two loops \n",
    "dists = knn.compute_distances_two_loops(Xtest[:,feat])"
   ]
  },
  {
   "cell_type": "code",
   "execution_count": 183,
   "metadata": {},
   "outputs": [
    {
     "name": "stdout",
     "output_type": "stream",
     "text": [
      "(45, 105)\n"
     ]
    },
    {
     "data": {
      "image/png": "[encoded data removed]",
      "text/plain": [
       "<matplotlib.figure.Figure at 0x7f2804a98050>"
      ]
     },
     "metadata": {},
     "output_type": "display_data"
    }
   ],
   "source": [
    "print dists.shape\n",
    "# We can visualize the distance matrix: each row is a single test example and its distances to training examples\",\n",
    "plt.imshow(dists, interpolation='none')\n",
    "plt.gray()\n",
    "#here dark means less distance and light means high distance..."
   ]
  },
  {
   "cell_type": "markdown",
   "metadata": {},
   "source": [
    "#### Optimization time\n",
    "If you find spending too much time on these two steps skip them and come back later to speed up your implementation"
   ]
  },
  {
   "cell_type": "code",
   "execution_count": 184,
   "metadata": {
    "deletable": false,
    "editable": false,
    "nbgrader": {
     "checksum": "300f70ef9c215a5baa6a2dfe507a11cd",
     "grade": true,
     "grade_id": "dist_tests",
     "locked": true,
     "points": 5,
     "schema_version": 1,
     "solution": false
    }
   },
   "outputs": [],
   "source": [
    "from nose.tools import assert_less_equal\n",
    "feat=[0,1]\n",
    "knn=KNearestNeighbor(3)\n",
    "knn.train(Xtrain[:,feat],Ytrain)\n",
    "\n",
    "dists = knn.compute_distances_two_loops(Xtest[:,feat])\n",
    "one_loop_dists = knn.compute_distances_one_loop(Xtest[:,feat])\n",
    "no_loop_dists = knn.compute_distances_no_loops(Xtest[:,feat])\n",
    "\n",
    "difference = np.linalg.norm(dists - one_loop_dists, ord='fro')\n",
    "difference_1 = np.linalg.norm(dists - no_loop_dists, ord='fro')\n",
    "\n",
    "assert_less_equal(difference, 0.001, \"Two loops and one loop distance varies\")\n",
    "assert_less_equal(difference_1, 0.001, \"Two loops and no loop distance varies\")"
   ]
  },
  {
   "cell_type": "code",
   "execution_count": 185,
   "metadata": {
    "deletable": false,
    "editable": false,
    "nbgrader": {
     "checksum": "d0818833671408129430944090dad13b",
     "grade": true,
     "grade_id": "time_tests",
     "locked": true,
     "points": 5,
     "schema_version": 1,
     "solution": false
    }
   },
   "outputs": [
    {
     "name": "stdout",
     "output_type": "stream",
     "text": [
      "Two loops took :  0.0648469924927\n",
      "One loops took :  0.00153398513794\n",
      "No loops took  :  0.000363111495972\n"
     ]
    }
   ],
   "source": [
    "from nose.tools import assert_less_equal\n",
    "import time\n",
    "\n",
    "feat=[0,1]\n",
    "knn=KNearestNeighbor(3)\n",
    "knn.train(Xtrain[:,feat],Ytrain)\n",
    "\n",
    "start = time.time()\n",
    "knn.compute_distances_two_loops(Xtest[:,feat])\n",
    "end = time.time()\n",
    "two_loops = (end - start)\n",
    "print \"Two loops took : \",(end - start)\n",
    "\n",
    "start = time.time()\n",
    "one_loop = knn.compute_distances_one_loop(Xtest[:,feat])\n",
    "end = time.time()\n",
    "one_loop = (end - start)\n",
    "print \"One loops took : \",(end - start)\n",
    "\n",
    "start = time.time()\n",
    "no_loop = knn.compute_distances_no_loops(Xtest[:,feat])\n",
    "end = time.time()\n",
    "no_loop = (end - start)\n",
    "print \"No loops took  : \",(end - start)\n",
    "\n",
    "assert_less_equal(one_loop, two_loops/10.0)\n",
    "assert_less_equal(no_loop, one_loop)"
   ]
  },
  {
   "cell_type": "code",
   "execution_count": 186,
   "metadata": {
    "collapsed": true
   },
   "outputs": [],
   "source": [
    "knn=KNearestNeighbor(3)\n",
    "knn.train(Xtrain[:,feat],Ytrain)\n",
    "#Lets test it on the set of unseen examples...\n",
    "pclasses=knn.predict(Xtest[:,feat])"
   ]
  },
  {
   "cell_type": "markdown",
   "metadata": {},
   "source": [
    "# Testing"
   ]
  },
  {
   "cell_type": "code",
   "execution_count": 187,
   "metadata": {
    "slideshow": {
     "slide_type": "slide"
    }
   },
   "outputs": [],
   "source": [
    "#Lets test it on the set of unseen examples...\n",
    "pclasses=knn.predict(Xtest[:,feat])"
   ]
  },
  {
   "cell_type": "code",
   "execution_count": 188,
   "metadata": {},
   "outputs": [
    {
     "name": "stdout",
     "output_type": "stream",
     "text": [
      "['Iris-setosa', 'Iris-setosa', 'Iris-setosa', 'Iris-setosa', 'Iris-setosa', 'Iris-setosa', 'Iris-setosa', 'Iris-setosa', 'Iris-setosa', 'Iris-setosa', 'Iris-setosa', 'Iris-setosa', 'Iris-setosa', 'Iris-setosa', 'Iris-setosa', 'Iris-versicolor', 'Iris-versicolor', 'Iris-versicolor', 'Iris-virginica', 'Iris-versicolor', 'Iris-versicolor', 'Iris-virginica', 'Iris-versicolor', 'Iris-versicolor', 'Iris-virginica', 'Iris-versicolor', 'Iris-versicolor', 'Iris-versicolor', 'Iris-virginica', 'Iris-virginica', 'Iris-virginica', 'Iris-versicolor', 'Iris-virginica', 'Iris-virginica', 'Iris-versicolor', 'Iris-virginica', 'Iris-versicolor', 'Iris-virginica', 'Iris-virginica', 'Iris-virginica', 'Iris-versicolor', 'Iris-virginica', 'Iris-virginica', 'Iris-versicolor', 'Iris-versicolor']\n"
     ]
    }
   ],
   "source": [
    "print pclasses"
   ]
  },
  {
   "cell_type": "markdown",
   "metadata": {
    "slideshow": {
     "slide_type": "slide"
    }
   },
   "source": [
    "Lets see how good we are doing...\n",
    "=================="
   ]
  },
  {
   "cell_type": "code",
   "execution_count": 189,
   "metadata": {},
   "outputs": [
    {
     "name": "stdout",
     "output_type": "stream",
     "text": [
      "34\n",
      "Accuracy =  0.755555555556\n"
     ]
    }
   ],
   "source": [
    "#Lets see how good we are doing, by finding the accuracy on the test set..\n",
    "print np.sum(pclasses==Ytest)\n",
    "print \"Accuracy = \", np.sum(pclasses==Ytest)/float(Ytest.shape[0])"
   ]
  },
  {
   "cell_type": "code",
   "execution_count": 190,
   "metadata": {
    "collapsed": true,
    "deletable": false,
    "editable": false,
    "nbgrader": {
     "checksum": "3bb48430330048b0f13463ef4cf88000",
     "grade": true,
     "grade_id": "acc_tests",
     "locked": true,
     "points": 2,
     "schema_version": 1,
     "solution": false
    }
   },
   "outputs": [],
   "source": [
    "from nose.tools import assert_greater_equal\n",
    "\n",
    "eat=[0,1]\n",
    "knn=KNearestNeighbor(3)\n",
    "knn.train(Xtrain[:,feat],Ytrain)\n",
    "pclasses=knn.predict(Xtest[:,feat])\n",
    "acc = np.sum(pclasses==Ytest)/float(Ytest.shape[0])\n",
    "\n",
    "assert_greater_equal(acc, 0.64)"
   ]
  },
  {
   "cell_type": "code",
   "execution_count": 191,
   "metadata": {},
   "outputs": [
    {
     "name": "stdout",
     "output_type": "stream",
     "text": [
      " Plotting the Decision Surface of Training Set... \n"
     ]
    },
    {
     "name": "stderr",
     "output_type": "stream",
     "text": [
      "/home/sharan/anaconda2/lib/python2.7/site-packages/ipykernel_launcher.py:92: RuntimeWarning: invalid value encountered in sqrt\n"
     ]
    },
    {
     "data": {
      "image/png": "[encoded data removed]",
      "text/plain": [
       "<matplotlib.figure.Figure at 0x7f2804c67d50>"
      ]
     },
     "metadata": {},
     "output_type": "display_data"
    }
   ],
   "source": [
    "#Lets plot the decision surface\n",
    "#%debug\n",
    "print \" Plotting the Decision Surface of Training Set... \"\n",
    "t.plot_decision_regions(Xtrain[:,feat],Ytrain,clf=knn, res=0.02, cycle_marker=True, legend=1)"
   ]
  },
  {
   "cell_type": "code",
   "execution_count": 192,
   "metadata": {
    "slideshow": {
     "slide_type": "slide"
    }
   },
   "outputs": [
    {
     "name": "stdout",
     "output_type": "stream",
     "text": [
      " Plotting the Decision Surface of Test Set... \n"
     ]
    },
    {
     "name": "stderr",
     "output_type": "stream",
     "text": [
      "/home/sharan/anaconda2/lib/python2.7/site-packages/ipykernel_launcher.py:92: RuntimeWarning: invalid value encountered in sqrt\n"
     ]
    },
    {
     "data": {
      "image/png": "[encoded data removed]",
      "text/plain": [
       "<matplotlib.figure.Figure at 0x7f2804a242d0>"
      ]
     },
     "metadata": {},
     "output_type": "display_data"
    }
   ],
   "source": [
    "print \" Plotting the Decision Surface of Test Set... \"\n",
    "t.plot_decision_regions(Xtest[:,feat],Ytest,clf=knn, res=0.02, cycle_marker=True, legend=1)"
   ]
  },
  {
   "cell_type": "markdown",
   "metadata": {},
   "source": [
    "# Feature Scaling (or Normalization)\n",
    "\n",
    "Since we are using Euclidean distance to find the nearest neighbours, which is (as we have seen in the lectures) is heavily influenced by differently scaled features (that features having different scales and ranges). So to make best of K Nearest Neigbhour classifier we will be needed to first scale each feature dimension. Now lets go and write code for the feature scaling in KNearestNeighbour..."
   ]
  },
  {
   "cell_type": "code",
   "execution_count": 193,
   "metadata": {},
   "outputs": [
    {
     "name": "stdout",
     "output_type": "stream",
     "text": [
      "34\n",
      "Accuracy =  0.755555555556\n"
     ]
    }
   ],
   "source": [
    "# Lets train a KNN Classifier on Normalized Petal Length and Width\n",
    "feat=[0,1]\n",
    "knn=KNearestNeighbor(3,scalefeatures=True) # train a 3-nearest neighbour classifier...\n",
    "\n",
    "knn.train(Xtrain[:,feat],Ytrain)\n",
    "#Lets test it on the set of unseen examples...\n",
    "pclasses=knn.predict(Xtest[:,feat], methodtype='twoloop')\n",
    "\n",
    "print np.sum(pclasses==Ytest)\n",
    "print \"Accuracy = \", np.sum(pclasses==Ytest)/float(Ytest.shape[0])"
   ]
  },
  {
   "cell_type": "code",
   "execution_count": 194,
   "metadata": {},
   "outputs": [
    {
     "name": "stdout",
     "output_type": "stream",
     "text": [
      " Plotting the Decision Surface of Test Set... \n"
     ]
    },
    {
     "name": "stderr",
     "output_type": "stream",
     "text": [
      "/home/sharan/anaconda2/lib/python2.7/site-packages/ipykernel_launcher.py:92: RuntimeWarning: invalid value encountered in sqrt\n"
     ]
    },
    {
     "data": {
      "image/png": "[encoded data removed]",
      "text/plain": [
       "<matplotlib.figure.Figure at 0x7f2804b18cd0>"
      ]
     },
     "metadata": {},
     "output_type": "display_data"
    }
   ],
   "source": [
    "print \" Plotting the Decision Surface of Test Set... \"\n",
    "t.plot_decision_regions(Xtest[:,feat],Ytest,clf=knn, res=0.02, cycle_marker=True, legend=1)"
   ]
  },
  {
   "cell_type": "markdown",
   "metadata": {},
   "source": [
    "# Comment on the effect of feature scaling and normalization. \n",
    "\n",
    "What is the difference between the results of normalized features and non-normalized features. Why we are seeing the improvement (or decrease) in the accuracy."
   ]
  },
  {
   "cell_type": "markdown",
   "metadata": {},
   "source": [
    "#### We are not seeing significant changes after normalization due to the current data set."
   ]
  },
  {
   "cell_type": "markdown",
   "metadata": {},
   "source": [
    "# Lets Train on all four features...."
   ]
  },
  {
   "cell_type": "code",
   "execution_count": 195,
   "metadata": {},
   "outputs": [
    {
     "name": "stdout",
     "output_type": "stream",
     "text": [
      "43\n",
      "Accuracy =  0.955555555556\n"
     ]
    }
   ],
   "source": [
    "#Lets Train on all four features....\n",
    "\n",
    "# Lets train a Decision Tree Classifier on Petal Length and Width\n",
    "feat=[0, 1, 2, 3]\n",
    "knn=KNearestNeighbor(3)#\n",
    "knn.train(Xtrain[:,feat],Ytrain)\n",
    "pclasses=knn.predict(Xtest[:,feat], methodtype='twoloop')\n",
    "#Lets see how good we are doing, by finding the accuracy on the test set..\n",
    "print np.sum(pclasses==Ytest)\n",
    "print \"Accuracy = \", np.sum(pclasses==Ytest)/float(Ytest.shape[0])"
   ]
  },
  {
   "cell_type": "code",
   "execution_count": 196,
   "metadata": {
    "collapsed": true,
    "deletable": false,
    "editable": false,
    "nbgrader": {
     "checksum": "c78af43c10fcf700d5c8df3011005274",
     "grade": true,
     "grade_id": "acc_all_tests",
     "locked": true,
     "points": 2,
     "schema_version": 1,
     "solution": false
    }
   },
   "outputs": [],
   "source": [
    "from nose.tools import assert_greater_equal\n",
    "\n",
    "feat=[0, 1, 2, 3]\n",
    "knn=KNearestNeighbor(3)\n",
    "knn.train(Xtrain[:,feat],Ytrain)\n",
    "pclasses=knn.predict(Xtest[:,feat],  methodtype='twoloop')\n",
    "acc = np.sum(pclasses==Ytest)/float(Ytest.shape[0])\n",
    "\n",
    "assert_greater_equal(acc, 0.90)"
   ]
  },
  {
   "cell_type": "markdown",
   "metadata": {
    "slideshow": {
     "slide_type": "slide"
    }
   },
   "source": [
    "What can you conclude ?\n",
    "====================\n",
    "Please write your observation....\n",
    "Vectorization of code is important thus for loops should be removed. Normalzing sometimes does not improve accuracy and best features should be selected with best k.\n"
   ]
  },
  {
   "cell_type": "markdown",
   "metadata": {},
   "source": [
    "# Cross-Validation\n",
    "\n",
    "Until now we have been splitting the dataset into a training and test set rather randomly and were reporting a rather artifical performance. Now we are going to test our system exhaustively by making use of k-fold [cross validation](http://en.wikipedia.org/wiki/Cross-validation_%28statistics%29). \n",
    "\n",
    "Now go and tune your hyper-parameters (K in this case) to opitmize the performance for only first two parameters."
   ]
  },
  {
   "cell_type": "code",
   "execution_count": 197,
   "metadata": {
    "collapsed": true
   },
   "outputs": [],
   "source": [
    "import time"
   ]
  },
  {
   "cell_type": "code",
   "execution_count": 198,
   "metadata": {
    "deletable": false,
    "nbgrader": {
     "checksum": "a32c1d1ef5b93f6e8d8bc367c83e9e35",
     "grade": false,
     "grade_id": "kfold",
     "locked": false,
     "schema_version": 1,
     "solution": true
    }
   },
   "outputs": [
    {
     "name": "stdout",
     "output_type": "stream",
     "text": [
      "Generating CV data for 3 classes\n",
      "[Fold  0 ] Accuracy =  1.0\n",
      "[Fold  1 ] Accuracy =  0.916666666667\n",
      "[Fold  2 ] Accuracy =  0.944444444444\n",
      "[Fold  3 ] Accuracy =  0.972222222222\n",
      "For K=  1 , Mean Accuracy,  0.958333333333\n",
      "[Fold  0 ] Accuracy =  1.0\n",
      "[Fold  1 ] Accuracy =  0.916666666667\n",
      "[Fold  2 ] Accuracy =  0.944444444444\n",
      "[Fold  3 ] Accuracy =  0.972222222222\n",
      "For K=  3 , Mean Accuracy,  0.958333333333\n",
      "[Fold  0 ] Accuracy =  1.0\n",
      "[Fold  1 ] Accuracy =  0.916666666667\n",
      "[Fold  2 ] Accuracy =  0.944444444444\n",
      "[Fold  3 ] Accuracy =  0.972222222222\n",
      "For K=  5 , Mean Accuracy,  0.958333333333\n",
      "[Fold  0 ] Accuracy =  1.0\n",
      "[Fold  1 ] Accuracy =  0.972222222222\n",
      "[Fold  2 ] Accuracy =  0.972222222222\n",
      "[Fold  3 ] Accuracy =  0.972222222222\n",
      "For K=  7 , Mean Accuracy,  0.979166666667\n",
      "[Fold  0 ] Accuracy =  1.0\n",
      "[Fold  1 ] Accuracy =  0.944444444444\n",
      "[Fold  2 ] Accuracy =  0.972222222222\n",
      "[Fold  3 ] Accuracy =  0.972222222222\n",
      "For K=  9 , Mean Accuracy,  0.972222222222\n",
      "[Fold  0 ] Accuracy =  1.0\n",
      "[Fold  1 ] Accuracy =  0.972222222222\n",
      "[Fold  2 ] Accuracy =  0.972222222222\n",
      "[Fold  3 ] Accuracy =  0.972222222222\n",
      "For K=  11 , Mean Accuracy,  0.979166666667\n",
      "[Fold  0 ] Accuracy =  1.0\n",
      "[Fold  1 ] Accuracy =  0.972222222222\n",
      "[Fold  2 ] Accuracy =  0.972222222222\n",
      "[Fold  3 ] Accuracy =  0.972222222222\n",
      "For K=  13 , Mean Accuracy,  0.979166666667\n",
      "[Fold  0 ] Accuracy =  1.0\n",
      "[Fold  1 ] Accuracy =  0.944444444444\n",
      "[Fold  2 ] Accuracy =  0.972222222222\n",
      "[Fold  3 ] Accuracy =  0.972222222222\n",
      "For K=  15 , Mean Accuracy,  0.972222222222\n",
      "[Fold  0 ] Accuracy =  1.0\n",
      "[Fold  1 ] Accuracy =  0.944444444444\n",
      "[Fold  2 ] Accuracy =  0.944444444444\n",
      "[Fold  3 ] Accuracy =  0.972222222222\n",
      "For K=  17 , Mean Accuracy,  0.965277777778\n",
      "[Fold  0 ] Accuracy =  1.0\n",
      "[Fold  1 ] Accuracy =  0.944444444444\n",
      "[Fold  2 ] Accuracy =  0.972222222222\n",
      "[Fold  3 ] Accuracy =  0.944444444444\n",
      "For K=  19 , Mean Accuracy,  0.965277777778\n",
      "Best value for the K= 7 and gives the following mean accuracy= 0.979166666667\n",
      "Total time taken = 2.235257864\n"
     ]
    }
   ],
   "source": [
    "# Now lets cross validate for best paramters, and test the result...\n",
    "# We will be training four different models on four different partitions of data set and \n",
    "# then will be reporting the mean accuracy of the four classifiers.\n",
    "stime=time.time()\n",
    "\n",
    "\n",
    "nfolds=4 # lets use four folds..\n",
    "folds=t.generate_folds(X,Y,nfolds)\n",
    "features=[0,1] # features to use for our system\n",
    "#now lets train and test on these folds...\n",
    "\n",
    "#Lets perform the grid search...\n",
    "ks=np.arange(1,20,2) # search the k in the range one to 20...\n",
    "foldacc=[]          \n",
    "dict_k = {}\n",
    "# YOUR CODE HERE\n",
    "start = time.time()\n",
    "for ks_ in ks:\n",
    "    total_acc = 0.0\n",
    "    mean_acc = 0.0\n",
    "    for nfolds_ in range(nfolds):\n",
    "        X_train, Y_train, X_test, Y_test = folds[nfolds_]\n",
    "        feat=[0, 1, 2, 3]\n",
    "        knn=KNearestNeighbor(ks_)#\n",
    "        knn.train(X_train[:,feat],Y_train)\n",
    "        pclasses=knn.predict(X_test[:,feat], methodtype='noloop') \n",
    "        acc = np.sum(pclasses==Y_test)/float(Y_test.shape[0])\n",
    "        total_acc+=acc\n",
    "        print \"[Fold \",nfolds_,\"] Accuracy = \",acc\n",
    "    mean_acc = total_acc/float(nfolds)\n",
    "    print \"For K= \",ks_,\", Mean Accuracy, \",mean_acc\n",
    "    foldacc.append(mean_acc)\n",
    "    dict_k[ks_]=mean_acc\n",
    "bestk = max(dict_k, key=dict_k.get)\n",
    "end = time.time()\n",
    "print \"Best value for the K=\",bestk, \"and gives the following mean accuracy=\",dict_k[bestk]\n",
    "print \"Total time taken =\",(end-start)"
   ]
  },
  {
   "cell_type": "code",
   "execution_count": 199,
   "metadata": {},
   "outputs": [
    {
     "data": {
      "text/plain": [
       "Text(0.5,1,u'Cross Validation Accuracy for different Values of K')"
      ]
     },
     "execution_count": 199,
     "metadata": {},
     "output_type": "execute_result"
    },
    {
     "data": {
      "image/png": "[encoded data removed]",
      "text/plain": [
       "<matplotlib.figure.Figure at 0x7f2804b18890>"
      ]
     },
     "metadata": {},
     "output_type": "display_data"
    }
   ],
   "source": [
    "#Lets plot the accuracy w.r.t K\n",
    "plt.plot(ks,foldacc)\n",
    "plt.xlabel('K Neigbhours (Value of K\\'s)')\n",
    "plt.ylabel('Accuracy')\n",
    "plt.title('Cross Validation Accuracy for different Values of K')"
   ]
  },
  {
   "cell_type": "markdown",
   "metadata": {},
   "source": [
    "# Lets retrain the classifier with best-k and see its accuracy using only first two features..."
   ]
  },
  {
   "cell_type": "code",
   "execution_count": 200,
   "metadata": {},
   "outputs": [
    {
     "name": "stdout",
     "output_type": "stream",
     "text": [
      "7\n"
     ]
    }
   ],
   "source": [
    "print bestk"
   ]
  },
  {
   "cell_type": "code",
   "execution_count": 201,
   "metadata": {},
   "outputs": [
    {
     "name": "stdout",
     "output_type": "stream",
     "text": [
      "37\n",
      "KNN Accuracy (for best K=7) =0.822222222222 \n"
     ]
    },
    {
     "name": "stderr",
     "output_type": "stream",
     "text": [
      "/home/sharan/anaconda2/lib/python2.7/site-packages/ipykernel_launcher.py:92: RuntimeWarning: invalid value encountered in sqrt\n"
     ]
    }
   ],
   "source": [
    "feat=[0,1]\n",
    "knn=KNearestNeighbor(bestk,scalefeatures=True) # train a kbest-nearest neighbour classifier...\n",
    "knn.train(Xtrain[:,feat],Ytrain)\n",
    "\n",
    "#Lets test it on the set of unseen examples...\n",
    "pclasses=knn.predict(Xtest[:,feat])\n",
    "#Lets see how good we are doing, by finding the accuracy on the test set..\n",
    "print np.sum(pclasses==Ytest)\n",
    "print \"KNN Accuracy (for best K={}) ={} \".format(bestk,np.sum(pclasses==Ytest)/float(Ytest.shape[0]))"
   ]
  },
  {
   "cell_type": "code",
   "execution_count": 202,
   "metadata": {},
   "outputs": [
    {
     "name": "stdout",
     "output_type": "stream",
     "text": [
      " Plotting the Decision Surface of Test Set... \n"
     ]
    },
    {
     "name": "stderr",
     "output_type": "stream",
     "text": [
      "/home/sharan/anaconda2/lib/python2.7/site-packages/ipykernel_launcher.py:92: RuntimeWarning: invalid value encountered in sqrt\n"
     ]
    },
    {
     "data": {
      "image/png": "[encoded data removed]",
      "text/plain": [
       "<matplotlib.figure.Figure at 0x7f28049b7bd0>"
      ]
     },
     "metadata": {},
     "output_type": "display_data"
    }
   ],
   "source": [
    "print \" Plotting the Decision Surface of Test Set... \"\n",
    "t.plot_decision_regions(Xtest[:,feat],Ytest,clf=knn, res=0.02, cycle_marker=True, legend=1)"
   ]
  },
  {
   "cell_type": "markdown",
   "metadata": {},
   "source": [
    "### Note the improvement of properly configured classifier w.r.t. to the classifier trained using only 3 Neigbours\n",
    "\n",
    "Comment on your experience."
   ]
  },
  {
   "cell_type": "markdown",
   "metadata": {},
   "source": [
    "#### Selection of hyper parameter of k is very random. Different times k is better."
   ]
  },
  {
   "cell_type": "code",
   "execution_count": null,
   "metadata": {
    "collapsed": true
   },
   "outputs": [],
   "source": []
  }
 ],
 "metadata": {
  "kernelspec": {
   "display_name": "Python 2",
   "language": "python",
   "name": "python2"
  },
  "language_info": {
   "codemirror_mode": {
    "name": "ipython",
    "version": 2
   },
   "file_extension": ".py",
   "mimetype": "text/x-python",
   "name": "python",
   "nbconvert_exporter": "python",
   "pygments_lexer": "ipython2",
   "version": "2.7.14"
  }
 },
 "nbformat": 4,
 "nbformat_minor": 1
}
