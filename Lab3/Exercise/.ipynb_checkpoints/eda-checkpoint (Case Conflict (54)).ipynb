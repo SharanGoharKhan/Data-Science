{
 "cells": [
  {
   "cell_type": "markdown",
   "metadata": {},
   "source": [
    "# Excercise Exploratory Data Analysis"
   ]
  },
  {
   "cell_type": "markdown",
   "metadata": {},
   "source": [
    "For this lab, we'll explore some data from a very useful source, the UC Irvine machine learning data repository.\n",
    "\n",
    "Especially, we will be using this dataset, https://archive.ics.uci.edu/ml/datasets/Heart+Disease. Here our goal is to know whether a disease is present or not.\n",
    "\n",
    "This database contains 76 attributes, but all published experiments refer to using a subset of 14 of them. In particular, the Cleveland database is the only one that has been used by ML researchers to this date. The \"goal\" field refers to the presence of heart disease in the patient. It is integer valued from 0 (no presence) to 4. Experiments with the Cleveland database have concentrated on simply attempting to distinguish presence (values 1,2,3,4) from absence (value 0). \n",
    "\n",
    "**Goal: Can you find nice relationships, and do exploratory analysis to come up some data supported conclusions**"
   ]
  },
  {
   "cell_type": "code",
   "execution_count": 51,
   "metadata": {
    "collapsed": true
   },
   "outputs": [],
   "source": [
    "import matplotlib.pyplot as plt\n",
    "plt.style.use('ggplot')\n",
    "plt.rcParams['figure.figsize'] = (10.0, 8.0)"
   ]
  },
  {
   "cell_type": "code",
   "execution_count": 2,
   "metadata": {
    "collapsed": true
   },
   "outputs": [],
   "source": [
    "%matplotlib inline"
   ]
  },
  {
   "cell_type": "code",
   "execution_count": 3,
   "metadata": {
    "collapsed": true
   },
   "outputs": [],
   "source": [
    "import pandas as pd\n",
    "import numpy as np"
   ]
  },
  {
   "cell_type": "code",
   "execution_count": 46,
   "metadata": {},
   "outputs": [],
   "source": [
    "df=pd.read_csv('./Data/processed.cleveland.data')  \n",
    "df.columns=['age', 'sex', 'cp', 'trestbps', 'chol', 'fbs', 'restecg', 'thalach', 'exang', 'oldpeak', 'slope', 'ca', 'thal', 'num']  "
   ]
  },
  {
   "cell_type": "markdown",
   "metadata": {},
   "source": [
    "> TODO: How many rows are there in the dataset?\n",
    "> df.size 4228"
   ]
  },
  {
   "cell_type": "code",
   "execution_count": 5,
   "metadata": {},
   "outputs": [
    {
     "name": "stdout",
     "output_type": "stream",
     "text": [
      "age         float64\n",
      "sex         float64\n",
      "cp          float64\n",
      "trestbps    float64\n",
      "chol        float64\n",
      "fbs         float64\n",
      "restecg     float64\n",
      "thalach     float64\n",
      "exang       float64\n",
      "oldpeak     float64\n",
      "slope       float64\n",
      "ca           object\n",
      "thal         object\n",
      "num           int64\n",
      "dtype: object\n"
     ]
    }
   ],
   "source": [
    "print df.dtypes # what can you conclude... All the data types can be converted into float"
   ]
  },
  {
   "cell_type": "markdown",
   "metadata": {},
   "source": [
    "## Data Cleaning"
   ]
  },
  {
   "cell_type": "markdown",
   "metadata": {},
   "source": [
    "First we have to clean and sanitize the data. This data is pretty clean and is mostly numeric but contains some '?' in some fields.  To make it easier to handle, we convert those fields to ```None```. For convenience, you should define a function \"safefloat\" that takes a string argument, and returns None if the argument is '?', otherwise the float value of the string. "
   ]
  },
  {
   "cell_type": "code",
   "execution_count": 36,
   "metadata": {},
   "outputs": [
    {
     "ename": "TypeError",
     "evalue": "invalid type comparison",
     "output_type": "error",
     "traceback": [
      "\u001b[0;31m---------------------------------------------------------------------------\u001b[0m",
      "\u001b[0;31mTypeError\u001b[0m                                 Traceback (most recent call last)",
      "\u001b[0;32m<ipython-input-36-064ad80de98b>\u001b[0m in \u001b[0;36m<module>\u001b[0;34m()\u001b[0m\n\u001b[1;32m      6\u001b[0m         \u001b[0mdf\u001b[0m\u001b[0;34m[\u001b[0m\u001b[0mdf\u001b[0m\u001b[0;34m[\u001b[0m\u001b[0mx\u001b[0m\u001b[0;34m]\u001b[0m \u001b[0;34m!=\u001b[0m \u001b[0;34m'?'\u001b[0m\u001b[0;34m]\u001b[0m\u001b[0;34m[\u001b[0m\u001b[0mx\u001b[0m\u001b[0;34m]\u001b[0m\u001b[0;34m.\u001b[0m\u001b[0mastype\u001b[0m\u001b[0;34m(\u001b[0m\u001b[0;34m'float'\u001b[0m\u001b[0;34m)\u001b[0m\u001b[0;34m\u001b[0m\u001b[0m\n\u001b[1;32m      7\u001b[0m \u001b[0;32mfor\u001b[0m \u001b[0mitr\u001b[0m \u001b[0;32min\u001b[0m \u001b[0mdf\u001b[0m\u001b[0;34m.\u001b[0m\u001b[0mcolumns\u001b[0m\u001b[0;34m:\u001b[0m\u001b[0;34m\u001b[0m\u001b[0m\n\u001b[0;32m----> 8\u001b[0;31m     \u001b[0msafefloat\u001b[0m\u001b[0;34m(\u001b[0m\u001b[0mitr\u001b[0m\u001b[0;34m)\u001b[0m\u001b[0;34m\u001b[0m\u001b[0m\n\u001b[0m",
      "\u001b[0;32m<ipython-input-36-064ad80de98b>\u001b[0m in \u001b[0;36msafefloat\u001b[0;34m(x)\u001b[0m\n\u001b[1;32m      1\u001b[0m \u001b[0;31m# TODO write safefloat\u001b[0m\u001b[0;34m\u001b[0m\u001b[0;34m\u001b[0m\u001b[0m\n\u001b[1;32m      2\u001b[0m \u001b[0;32mdef\u001b[0m \u001b[0msafefloat\u001b[0m\u001b[0;34m(\u001b[0m\u001b[0mx\u001b[0m\u001b[0;34m)\u001b[0m\u001b[0;34m:\u001b[0m\u001b[0;34m\u001b[0m\u001b[0m\n\u001b[0;32m----> 3\u001b[0;31m     \u001b[0;32mif\u001b[0m \u001b[0mdf\u001b[0m\u001b[0;34m[\u001b[0m\u001b[0mdf\u001b[0m\u001b[0;34m[\u001b[0m\u001b[0mx\u001b[0m\u001b[0;34m]\u001b[0m \u001b[0;34m==\u001b[0m \u001b[0;34m'?'\u001b[0m\u001b[0;34m]\u001b[0m\u001b[0;34m.\u001b[0m\u001b[0msize\u001b[0m \u001b[0;34m>\u001b[0m \u001b[0;36m0\u001b[0m\u001b[0;34m:\u001b[0m\u001b[0;34m\u001b[0m\u001b[0m\n\u001b[0m\u001b[1;32m      4\u001b[0m         \u001b[0mdf\u001b[0m\u001b[0;34m[\u001b[0m\u001b[0mdf\u001b[0m\u001b[0;34m[\u001b[0m\u001b[0mx\u001b[0m\u001b[0;34m]\u001b[0m \u001b[0;34m==\u001b[0m\u001b[0;34m'?'\u001b[0m\u001b[0;34m]\u001b[0m \u001b[0;34m=\u001b[0m \u001b[0mNone\u001b[0m\u001b[0;34m\u001b[0m\u001b[0m\n\u001b[1;32m      5\u001b[0m     \u001b[0;32mif\u001b[0m \u001b[0mdf\u001b[0m\u001b[0;34m[\u001b[0m\u001b[0mdf\u001b[0m\u001b[0;34m[\u001b[0m\u001b[0mx\u001b[0m\u001b[0;34m]\u001b[0m \u001b[0;34m!=\u001b[0m \u001b[0;34m'?'\u001b[0m\u001b[0;34m]\u001b[0m\u001b[0;34m.\u001b[0m\u001b[0msize\u001b[0m \u001b[0;34m>\u001b[0m \u001b[0;36m0\u001b[0m\u001b[0;34m:\u001b[0m\u001b[0;34m\u001b[0m\u001b[0m\n",
      "\u001b[0;32m/home/sharan/anaconda2/lib/python2.7/site-packages/pandas/core/ops.pyc\u001b[0m in \u001b[0;36mwrapper\u001b[0;34m(self, other, axis)\u001b[0m\n\u001b[1;32m    859\u001b[0m \u001b[0;34m\u001b[0m\u001b[0m\n\u001b[1;32m    860\u001b[0m             \u001b[0;32mwith\u001b[0m \u001b[0mnp\u001b[0m\u001b[0;34m.\u001b[0m\u001b[0merrstate\u001b[0m\u001b[0;34m(\u001b[0m\u001b[0mall\u001b[0m\u001b[0;34m=\u001b[0m\u001b[0;34m'ignore'\u001b[0m\u001b[0;34m)\u001b[0m\u001b[0;34m:\u001b[0m\u001b[0;34m\u001b[0m\u001b[0m\n\u001b[0;32m--> 861\u001b[0;31m                 \u001b[0mres\u001b[0m \u001b[0;34m=\u001b[0m \u001b[0mna_op\u001b[0m\u001b[0;34m(\u001b[0m\u001b[0mvalues\u001b[0m\u001b[0;34m,\u001b[0m \u001b[0mother\u001b[0m\u001b[0;34m)\u001b[0m\u001b[0;34m\u001b[0m\u001b[0m\n\u001b[0m\u001b[1;32m    862\u001b[0m             \u001b[0;32mif\u001b[0m \u001b[0mis_scalar\u001b[0m\u001b[0;34m(\u001b[0m\u001b[0mres\u001b[0m\u001b[0;34m)\u001b[0m\u001b[0;34m:\u001b[0m\u001b[0;34m\u001b[0m\u001b[0m\n\u001b[1;32m    863\u001b[0m                 raise TypeError('Could not compare %s type with Series' %\n",
      "\u001b[0;32m/home/sharan/anaconda2/lib/python2.7/site-packages/pandas/core/ops.pyc\u001b[0m in \u001b[0;36mna_op\u001b[0;34m(x, y)\u001b[0m\n\u001b[1;32m    798\u001b[0m                     \u001b[0mresult\u001b[0m \u001b[0;34m=\u001b[0m \u001b[0mgetattr\u001b[0m\u001b[0;34m(\u001b[0m\u001b[0mx\u001b[0m\u001b[0;34m,\u001b[0m \u001b[0mname\u001b[0m\u001b[0;34m)\u001b[0m\u001b[0;34m(\u001b[0m\u001b[0my\u001b[0m\u001b[0;34m)\u001b[0m\u001b[0;34m\u001b[0m\u001b[0m\n\u001b[1;32m    799\u001b[0m                 \u001b[0;32mif\u001b[0m \u001b[0mresult\u001b[0m \u001b[0;32mis\u001b[0m \u001b[0mNotImplemented\u001b[0m\u001b[0;34m:\u001b[0m\u001b[0;34m\u001b[0m\u001b[0m\n\u001b[0;32m--> 800\u001b[0;31m                     \u001b[0;32mraise\u001b[0m \u001b[0mTypeError\u001b[0m\u001b[0;34m(\u001b[0m\u001b[0;34m\"invalid type comparison\"\u001b[0m\u001b[0;34m)\u001b[0m\u001b[0;34m\u001b[0m\u001b[0m\n\u001b[0m\u001b[1;32m    801\u001b[0m             \u001b[0;32mexcept\u001b[0m \u001b[0mAttributeError\u001b[0m\u001b[0;34m:\u001b[0m\u001b[0;34m\u001b[0m\u001b[0m\n\u001b[1;32m    802\u001b[0m                 \u001b[0mresult\u001b[0m \u001b[0;34m=\u001b[0m \u001b[0mop\u001b[0m\u001b[0;34m(\u001b[0m\u001b[0mx\u001b[0m\u001b[0;34m,\u001b[0m \u001b[0my\u001b[0m\u001b[0;34m)\u001b[0m\u001b[0;34m\u001b[0m\u001b[0m\n",
      "\u001b[0;31mTypeError\u001b[0m: invalid type comparison"
     ]
    }
   ],
   "source": [
    "# TODO write safefloat\n",
    "def safefloat(x):\n",
    "    if df[df[x] == '?'].size > 0:\n",
    "        df[df[x] =='?'] = None\n",
    "    if df[df[x] != '?'].size > 0:\n",
    "        df[df[x] != '?'][x].astype('float')\n",
    "for itr in df.columns:\n",
    "    safefloat(itr)"
   ]
  },
  {
   "cell_type": "markdown",
   "metadata": {},
   "source": [
    "Find which fields contain '?' and try applying safefloat to fields containing '?' to make sure it is working. After that it can be used, when required."
   ]
  },
  {
   "cell_type": "code",
   "execution_count": 45,
   "metadata": {},
   "outputs": [
    {
     "name": "stdout",
     "output_type": "stream",
     "text": [
      "      age  sex   cp  trestbps   chol  fbs  restecg  thalach  exang  oldpeak  \\\n",
      "165  52.0  1.0  3.0     138.0  223.0  0.0      0.0    169.0    0.0      0.0   \n",
      "191  43.0  1.0  4.0     132.0  247.0  1.0      2.0    143.0    1.0      0.1   \n",
      "286  58.0  1.0  2.0     125.0  220.0  0.0      0.0    144.0    0.0      0.4   \n",
      "301  38.0  1.0  3.0     138.0  175.0  0.0      0.0    173.0    0.0      0.0   \n",
      "\n",
      "     slope ca thal  num  \n",
      "165    1.0  ?  3.0    0  \n",
      "191    2.0  ?  7.0    1  \n",
      "286    2.0  ?  7.0    0  \n",
      "301    1.0  ?  3.0    0  \n"
     ]
    }
   ],
   "source": [
    "# for itr in df.columns:\n",
    "print df[df['ca'] == '?']\n",
    "#     if df[df[itr] == '?'].size > 0:\n",
    "#         print 'yes ,',itr"
   ]
  },
  {
   "cell_type": "markdown",
   "metadata": {},
   "source": [
    "#### Column names "
   ]
  },
  {
   "cell_type": "code",
   "execution_count": 7,
   "metadata": {
    "collapsed": true
   },
   "outputs": [],
   "source": [
    "headers = ['age', 'sex', 'cp', 'trestbps', 'chol', 'fbs', 'restecg', 'thalach', 'exang', 'oldpeak', 'slope', 'ca', 'thal', 'num']"
   ]
  },
  {
   "cell_type": "markdown",
   "metadata": {},
   "source": [
    "Define a function \"getcol\" that takes a column name and returns the data in that column as a list of numbers."
   ]
  },
  {
   "cell_type": "code",
   "execution_count": 49,
   "metadata": {},
   "outputs": [
    {
     "data": {
      "text/plain": [
       "[67.0,\n",
       " 67.0,\n",
       " 37.0,\n",
       " 41.0,\n",
       " 56.0,\n",
       " 62.0,\n",
       " 57.0,\n",
       " 63.0,\n",
       " 53.0,\n",
       " 57.0,\n",
       " 56.0,\n",
       " 56.0,\n",
       " 44.0,\n",
       " 52.0,\n",
       " 57.0,\n",
       " 48.0,\n",
       " 54.0,\n",
       " 48.0,\n",
       " 49.0,\n",
       " 64.0,\n",
       " 58.0,\n",
       " 58.0,\n",
       " 58.0,\n",
       " 60.0,\n",
       " 50.0,\n",
       " 58.0,\n",
       " 66.0,\n",
       " 43.0,\n",
       " 40.0,\n",
       " 69.0,\n",
       " 60.0,\n",
       " 64.0,\n",
       " 59.0,\n",
       " 44.0,\n",
       " 42.0,\n",
       " 43.0,\n",
       " 57.0,\n",
       " 55.0,\n",
       " 61.0,\n",
       " 65.0,\n",
       " 40.0,\n",
       " 71.0,\n",
       " 59.0,\n",
       " 61.0,\n",
       " 58.0,\n",
       " 51.0,\n",
       " 50.0,\n",
       " 65.0,\n",
       " 53.0,\n",
       " 41.0,\n",
       " 65.0,\n",
       " 44.0,\n",
       " 44.0,\n",
       " 60.0,\n",
       " 54.0,\n",
       " 50.0,\n",
       " 41.0,\n",
       " 54.0,\n",
       " 51.0,\n",
       " 51.0,\n",
       " 46.0,\n",
       " 58.0,\n",
       " 54.0,\n",
       " 54.0,\n",
       " 60.0,\n",
       " 60.0,\n",
       " 54.0,\n",
       " 59.0,\n",
       " 46.0,\n",
       " 65.0,\n",
       " 67.0,\n",
       " 62.0,\n",
       " 65.0,\n",
       " 44.0,\n",
       " 65.0,\n",
       " 60.0,\n",
       " 51.0,\n",
       " 48.0,\n",
       " 58.0,\n",
       " 45.0,\n",
       " 53.0,\n",
       " 39.0,\n",
       " 68.0,\n",
       " 52.0,\n",
       " 44.0,\n",
       " 47.0,\n",
       " 53.0,\n",
       " 53.0,\n",
       " 51.0,\n",
       " 66.0,\n",
       " 62.0,\n",
       " 62.0,\n",
       " 44.0,\n",
       " 63.0,\n",
       " 52.0,\n",
       " 59.0,\n",
       " 60.0,\n",
       " 52.0,\n",
       " 48.0,\n",
       " 45.0,\n",
       " 34.0,\n",
       " 57.0,\n",
       " 71.0,\n",
       " 49.0,\n",
       " 54.0,\n",
       " 59.0,\n",
       " 57.0,\n",
       " 61.0,\n",
       " 39.0,\n",
       " 61.0,\n",
       " 56.0,\n",
       " 52.0,\n",
       " 43.0,\n",
       " 62.0,\n",
       " 41.0,\n",
       " 58.0,\n",
       " 35.0,\n",
       " 63.0,\n",
       " 65.0,\n",
       " 48.0,\n",
       " 63.0,\n",
       " 51.0,\n",
       " 55.0,\n",
       " 65.0,\n",
       " 45.0,\n",
       " 56.0,\n",
       " 54.0,\n",
       " 44.0,\n",
       " 62.0,\n",
       " 54.0,\n",
       " 51.0,\n",
       " 29.0,\n",
       " 51.0,\n",
       " 43.0,\n",
       " 55.0,\n",
       " 70.0,\n",
       " 62.0,\n",
       " 35.0,\n",
       " 51.0,\n",
       " 59.0,\n",
       " 59.0,\n",
       " 52.0,\n",
       " 64.0,\n",
       " 58.0,\n",
       " 47.0,\n",
       " 57.0,\n",
       " 41.0,\n",
       " 45.0,\n",
       " 60.0,\n",
       " 52.0,\n",
       " 42.0,\n",
       " 67.0,\n",
       " 55.0,\n",
       " 64.0,\n",
       " 70.0,\n",
       " 51.0,\n",
       " 58.0,\n",
       " 60.0,\n",
       " 68.0,\n",
       " 46.0,\n",
       " 77.0,\n",
       " 54.0,\n",
       " 58.0,\n",
       " 48.0,\n",
       " 57.0,\n",
       " 52.0,\n",
       " 54.0,\n",
       " 35.0,\n",
       " 45.0,\n",
       " 70.0,\n",
       " 53.0,\n",
       " 59.0,\n",
       " 62.0,\n",
       " 64.0,\n",
       " 57.0,\n",
       " 52.0,\n",
       " 56.0,\n",
       " 43.0,\n",
       " 53.0,\n",
       " 48.0,\n",
       " 56.0,\n",
       " 42.0,\n",
       " 59.0,\n",
       " 60.0,\n",
       " 63.0,\n",
       " 42.0,\n",
       " 66.0,\n",
       " 54.0,\n",
       " 69.0,\n",
       " 50.0,\n",
       " 51.0,\n",
       " 43.0,\n",
       " 62.0,\n",
       " 68.0,\n",
       " 67.0,\n",
       " 69.0,\n",
       " 45.0,\n",
       " 50.0,\n",
       " 59.0,\n",
       " 50.0,\n",
       " 64.0,\n",
       " 57.0,\n",
       " 64.0,\n",
       " 43.0,\n",
       " 45.0,\n",
       " 58.0,\n",
       " 50.0,\n",
       " 55.0,\n",
       " 62.0,\n",
       " 37.0,\n",
       " 38.0,\n",
       " 41.0,\n",
       " 66.0,\n",
       " 52.0,\n",
       " 56.0,\n",
       " 46.0,\n",
       " 46.0,\n",
       " 64.0,\n",
       " 59.0,\n",
       " 41.0,\n",
       " 54.0,\n",
       " 39.0,\n",
       " 53.0,\n",
       " 63.0,\n",
       " 34.0,\n",
       " 47.0,\n",
       " 67.0,\n",
       " 54.0,\n",
       " 66.0,\n",
       " 52.0,\n",
       " 55.0,\n",
       " 49.0,\n",
       " 74.0,\n",
       " 54.0,\n",
       " 54.0,\n",
       " 56.0,\n",
       " 46.0,\n",
       " 49.0,\n",
       " 42.0,\n",
       " 41.0,\n",
       " 41.0,\n",
       " 49.0,\n",
       " 61.0,\n",
       " 60.0,\n",
       " 67.0,\n",
       " 58.0,\n",
       " 47.0,\n",
       " 52.0,\n",
       " 62.0,\n",
       " 57.0,\n",
       " 58.0,\n",
       " 64.0,\n",
       " 51.0,\n",
       " 43.0,\n",
       " 42.0,\n",
       " 67.0,\n",
       " 76.0,\n",
       " 70.0,\n",
       " 57.0,\n",
       " 44.0,\n",
       " 58.0,\n",
       " 60.0,\n",
       " 44.0,\n",
       " 61.0,\n",
       " 42.0,\n",
       " 52.0,\n",
       " 59.0,\n",
       " 40.0,\n",
       " 42.0,\n",
       " 61.0,\n",
       " 66.0,\n",
       " 46.0,\n",
       " 71.0,\n",
       " 59.0,\n",
       " 64.0,\n",
       " 66.0,\n",
       " 39.0,\n",
       " 57.0,\n",
       " 58.0,\n",
       " 57.0,\n",
       " 47.0,\n",
       " 55.0,\n",
       " 35.0,\n",
       " 61.0,\n",
       " 58.0,\n",
       " 58.0,\n",
       " 58.0,\n",
       " 56.0,\n",
       " 56.0,\n",
       " 67.0,\n",
       " 55.0,\n",
       " 44.0,\n",
       " 63.0,\n",
       " 63.0,\n",
       " 41.0,\n",
       " 59.0,\n",
       " 57.0,\n",
       " 45.0,\n",
       " 68.0,\n",
       " 57.0,\n",
       " 57.0,\n",
       " 38.0]"
      ]
     },
     "execution_count": 49,
     "metadata": {},
     "output_type": "execute_result"
    }
   ],
   "source": [
    "def getcol(name): # TODO write getcol\n",
    "    return df[name].values.tolist()\n",
    "getcol('age')"
   ]
  },
  {
   "cell_type": "markdown",
   "metadata": {},
   "source": [
    "## Basic Statistics"
   ]
  },
  {
   "cell_type": "markdown",
   "metadata": {},
   "source": [
    "What is the minimum, maximum, mean and standard deviation of the age of this set of subjects? Use the numpy package with contains the mean() and std() functions. "
   ]
  },
  {
   "cell_type": "code",
   "execution_count": 75,
   "metadata": {
    "collapsed": true
   },
   "outputs": [],
   "source": [
    "def stats(col):\n",
    "        return (np.min(df[col].values),np.max(df[col].values),np.mean(df[col].values),np.std(df[col].values))"
   ]
  },
  {
   "cell_type": "code",
   "execution_count": 77,
   "metadata": {},
   "outputs": [
    {
     "name": "stdout",
     "output_type": "stream",
     "text": [
      "(29.0, 77.0, 54.410596026490069, 9.0251829598807554)\n"
     ]
    }
   ],
   "source": [
    "print stats('age');"
   ]
  },
  {
   "cell_type": "markdown",
   "metadata": {},
   "source": [
    "## Histograms of Data Fields"
   ]
  },
  {
   "cell_type": "markdown",
   "metadata": {},
   "source": [
    "Implement the function ```plot_hist``` that:\n",
    "\n",
    "    Takes two strings, col name and it's unit as arguments\n",
    "    Get the data of col using the function get_col implemented above\n",
    "    Create a figure with one subplot\n",
    "    Plot the histogram of the coloumn\n",
    "    Set the unit as ylabel\n",
    "    Set the col name as title\n",
    "    Show the figure"
   ]
  },
  {
   "cell_type": "code",
   "execution_count": 57,
   "metadata": {
    "collapsed": true
   },
   "outputs": [],
   "source": [
    "# Write your code here\n",
    "def plot_hist(col, unit):\n",
    "    x =  getcol(col);\n",
    "    fig, axes = plt.subplots()\n",
    "    axes.hist(x,10)\n",
    "    axes.set_title(col)\n",
    "    axes.set_ylabel(unit)\n",
    "    "
   ]
  },
  {
   "cell_type": "code",
   "execution_count": 59,
   "metadata": {},
   "outputs": [
    {
     "data": {
      "image/png": "[encoded data removed]",
      "text/plain": [
       "<matplotlib.figure.Figure at 0x7f523b949910>"
      ]
     },
     "metadata": {},
     "output_type": "display_data"
    }
   ],
   "source": [
    "# Write your code here\n",
    "plot_hist('trestbps', 'meters');"
   ]
  },
  {
   "cell_type": "markdown",
   "metadata": {},
   "source": [
    "> TODO\n",
    "Describe the rough shape of the distribution of bps.\n",
    "Is it skewed? "
   ]
  },
  {
   "cell_type": "code",
   "execution_count": 60,
   "metadata": {
    "collapsed": true
   },
   "outputs": [],
   "source": [
    "# Write your answer here\n",
    "# It is more bell shaped curved a bit skewed to left"
   ]
  },
  {
   "cell_type": "markdown",
   "metadata": {},
   "source": [
    "## Scatter Plots"
   ]
  },
  {
   "cell_type": "markdown",
   "metadata": {},
   "source": [
    "Implement the function ```plot_scatter``` that:\n",
    "\n",
    "    Takes four strings, col1 , col2 , unit1 and unit2 as arguments\n",
    "    Get the data of cols using the function get_col implemented above\n",
    "    Create a figure with one subplot\n",
    "    Plot the histogram of the coloumn\n",
    "    Set the appropriate units as x and y labels\n",
    "    Set the title by concatinating col names\n",
    "    Show the figure"
   ]
  },
  {
   "cell_type": "code",
   "execution_count": 64,
   "metadata": {
    "collapsed": true
   },
   "outputs": [],
   "source": [
    "# Write your code here\n",
    "def plot_scatter(col1, col2, unit1, unit2):\n",
    "    fig, axes = plt.subplots()\n",
    "    x = getcol(col1)\n",
    "    y = getcol(col2)\n",
    "    axes.scatter(x,y)\n",
    "    axes.set_title((col1+col2))\n",
    "    axes.set_ylabel(unit1)\n",
    "    axes.set_xlabel(unit2)\n",
    "    return"
   ]
  },
  {
   "cell_type": "markdown",
   "metadata": {},
   "source": [
    "Make scatter plots of:\n",
    "*    age vs bp (resting blood pressure) \n",
    "*    age vs thalach (max heart rate)\n",
    "    "
   ]
  },
  {
   "cell_type": "code",
   "execution_count": 65,
   "metadata": {},
   "outputs": [
    {
     "data": {
      "image/png": "[encoded data removed]",
      "text/plain": [
       "<matplotlib.figure.Figure at 0x7f523b88a710>"
      ]
     },
     "metadata": {},
     "output_type": "display_data"
    }
   ],
   "source": [
    "# Write your code here\n",
    "plot_scatter('age','trestbps', 'uni1','unit2' )"
   ]
  },
  {
   "cell_type": "code",
   "execution_count": 16,
   "metadata": {
    "collapsed": true
   },
   "outputs": [],
   "source": [
    "# Write your code here\n"
   ]
  },
  {
   "cell_type": "markdown",
   "metadata": {},
   "source": []
  },
  {
   "cell_type": "markdown",
   "metadata": {},
   "source": [
    "## Critical Thinking with Data"
   ]
  },
  {
   "cell_type": "markdown",
   "metadata": {},
   "source": [
    "Think about relationship between blood pressure and heart disease"
   ]
  },
  {
   "cell_type": "code",
   "execution_count": 17,
   "metadata": {
    "collapsed": true
   },
   "outputs": [],
   "source": [
    "#plot the relationshiop"
   ]
  },
  {
   "cell_type": "markdown",
   "metadata": {},
   "source": [
    "> TODO: Based on this plot, do you think blood pressure influences heart disease?"
   ]
  },
  {
   "cell_type": "code",
   "execution_count": 18,
   "metadata": {
    "collapsed": true
   },
   "outputs": [],
   "source": [
    "# write your answer here"
   ]
  },
  {
   "cell_type": "markdown",
   "metadata": {},
   "source": [
    "Now repeat this plot of age versus num:"
   ]
  },
  {
   "cell_type": "markdown",
   "metadata": {},
   "source": [
    "> TODO: Based on this plot of Age vs Num and the previous plot of Age vs BPS, what would you say now about the relation between BPS and Num?"
   ]
  },
  {
   "cell_type": "code",
   "execution_count": null,
   "metadata": {
    "collapsed": true
   },
   "outputs": [],
   "source": []
  },
  {
   "cell_type": "markdown",
   "metadata": {},
   "source": [
    "## Dimension Reduction"
   ]
  },
  {
   "cell_type": "markdown",
   "metadata": {},
   "source": [
    "Recall that dimension reduction allows you to look at the dominant factors in high-dimensional data. Matplotlib includes the PCA function for this purpose. You use it like this:"
   ]
  },
  {
   "cell_type": "code",
   "execution_count": 31,
   "metadata": {
    "collapsed": true
   },
   "outputs": [],
   "source": [
    "# you may need to sanitize the data here"
   ]
  },
  {
   "cell_type": "code",
   "execution_count": 24,
   "metadata": {},
   "outputs": [
    {
     "name": "stdout",
     "output_type": "stream",
     "text": [
      "(302, 8)\n"
     ]
    }
   ],
   "source": [
    "from matplotlib.mlab import PCA\n",
    "cleveland_matrix = np.array(df, dtype=np.float64) # First put the data in a 2D array of double-precision floats\n",
    "print cleveland_matrix[:,0:8].shape\n",
    "\n",
    "results = PCA(cleveland_matrix[:,0:8])                      # leave out columns with None in them\n",
    "yy = results.Y                                              # returns the projections of the data into the principal component directions"
   ]
  },
  {
   "cell_type": "code",
   "execution_count": 25,
   "metadata": {},
   "outputs": [
    {
     "data": {
      "text/plain": [
       "<matplotlib.collections.PathCollection at 0x7f6c97ece350>"
      ]
     },
     "execution_count": 25,
     "metadata": {},
     "output_type": "execute_result"
    },
    {
     "data": {
      "image/png": "[encoded data removed]",
      "text/plain": [
       "<matplotlib.figure.Figure at 0x7f6c97f0fdd0>"
      ]
     },
     "metadata": {},
     "output_type": "display_data"
    }
   ],
   "source": [
    "plt.scatter(yy[:,0],yy[:,1])"
   ]
  },
  {
   "cell_type": "markdown",
   "metadata": {},
   "source": [
    "> TODO: Do you see a relationship between the two main variables (X and Y axes of this plot)?"
   ]
  },
  {
   "cell_type": "code",
   "execution_count": null,
   "metadata": {
    "collapsed": true
   },
   "outputs": [],
   "source": []
  },
  {
   "cell_type": "markdown",
   "metadata": {},
   "source": [
    "### Get Creative\n",
    "Now it's your turn to use the tools you have learned and find out intresting insights from the data."
   ]
  },
  {
   "cell_type": "code",
   "execution_count": null,
   "metadata": {
    "collapsed": true
   },
   "outputs": [],
   "source": []
  }
 ],
 "metadata": {
  "kernelspec": {
   "display_name": "Python 2",
   "language": "python",
   "name": "python2"
  },
  "language_info": {
   "codemirror_mode": {
    "name": "ipython",
    "version": 2
   },
   "file_extension": ".py",
   "mimetype": "text/x-python",
   "name": "python",
   "nbconvert_exporter": "python",
   "pygments_lexer": "ipython2",
   "version": "2.7.14"
  }
 },
 "nbformat": 4,
 "nbformat_minor": 1
}
