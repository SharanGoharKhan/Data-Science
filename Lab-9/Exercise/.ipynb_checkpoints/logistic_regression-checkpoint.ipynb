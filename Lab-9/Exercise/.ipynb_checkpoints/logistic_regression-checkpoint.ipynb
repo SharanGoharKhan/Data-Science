{
 "cells": [
  {
   "cell_type": "markdown",
   "metadata": {
    "collapsed": true
   },
   "source": [
    "# Logistic Regression Example\n",
    "\n",
    "A logistic regression learning algorithm example using TensorFlow library.\n",
    "\n",
    "- Author: Aymeric Damien\n",
    "- Project: https://github.com/aymericdamien/TensorFlow-Examples/"
   ]
  },
  {
   "cell_type": "markdown",
   "metadata": {},
   "source": [
    "## MNIST Dataset Overview\n",
    "\n",
    "This example is using MNIST handwritten digits. The dataset contains 60,000 examples for training and 10,000 examples for testing. The digits have been size-normalized and centered in a fixed-size image (28x28 pixels) with values from 0 to 1. For simplicity, each image has been flattened and converted to a 1-D numpy array of 784 features (28*28).\n",
    "\n",
    "![MNIST Dataset](http://neuralnetworksanddeeplearning.com/images/mnist_100_digits.png)\n",
    "\n",
    "More info: http://yann.lecun.com/exdb/mnist/"
   ]
  },
  {
   "cell_type": "code",
   "execution_count": 1,
   "metadata": {},
   "outputs": [
    {
     "name": "stdout",
     "output_type": "stream",
     "text": [
      "Extracting /home/atique//data/train-images-idx3-ubyte.gz\n",
      "Extracting /home/atique//data/train-labels-idx1-ubyte.gz\n",
      "Extracting /home/atique//data/t10k-images-idx3-ubyte.gz\n",
      "Extracting /home/atique//data/t10k-labels-idx1-ubyte.gz\n"
     ]
    }
   ],
   "source": [
    "import tensorflow as tf\n",
    "\n",
    "# Import MINST data\n",
    "from tensorflow.examples.tutorials.mnist import input_data\n",
    "mnist = input_data.read_data_sets(\"/home/atique//data/\", one_hot=True)"
   ]
  },
  {
   "cell_type": "code",
   "execution_count": 2,
   "metadata": {},
   "outputs": [],
   "source": [
    "# Parameters\n",
    "learning_rate = 0.01\n",
    "training_epochs = 25\n",
    "batch_size = 100\n",
    "display_step = 1\n",
    "\n",
    "# tf Graph Input\n",
    "### YOUR CODE HERE ###\n",
    "x = # create placeholder of shape [None, 784] i.e mnist data image of shape 28*28=784\n",
    "y = # create placeholder of shape [None, 10] i.e. 0-9 digits recognition => 10 classes\n",
    "\n",
    "# Set model weights\n",
    "W = # create variable of shape [784, 10]\n",
    "b = # create variable of shape [10]\n",
    "\n",
    "# Construct model\n",
    "# using softmax as activation\n",
    "### YOUR CODE HERE ###\n",
    "pred = \n",
    "\n",
    "# Minimize error using cross entropy\n",
    "# create cost function \n",
    "### YOUR CODE HERE ###\n",
    "cost = \n",
    "\n",
    "\n",
    "# Gradient Descent\n",
    "### YOUR CODE HERE ###\n",
    "optimizer = \n",
    "\n",
    "# Initialize the variables (i.e. assign their default value)\n",
    "init = tf.global_variables_initializer()"
   ]
  },
  {
   "cell_type": "code",
   "execution_count": 3,
   "metadata": {},
   "outputs": [
    {
     "name": "stdout",
     "output_type": "stream",
     "text": [
      "Epoch: 0001 cost= 1.182138977\n",
      "Epoch: 0002 cost= 0.664841650\n",
      "Epoch: 0003 cost= 0.552767951\n",
      "Epoch: 0004 cost= 0.498606860\n",
      "Epoch: 0005 cost= 0.465423914\n",
      "Epoch: 0006 cost= 0.442522059\n",
      "Epoch: 0007 cost= 0.425506346\n",
      "Epoch: 0008 cost= 0.412173813\n",
      "Epoch: 0009 cost= 0.401366280\n",
      "Epoch: 0010 cost= 0.392352852\n",
      "Epoch: 0011 cost= 0.384728751\n",
      "Epoch: 0012 cost= 0.378160450\n",
      "Epoch: 0013 cost= 0.372407807\n",
      "Epoch: 0014 cost= 0.367286736\n",
      "Epoch: 0015 cost= 0.362704127\n",
      "Epoch: 0016 cost= 0.358595251\n",
      "Epoch: 0017 cost= 0.354879896\n",
      "Epoch: 0018 cost= 0.351448365\n",
      "Epoch: 0019 cost= 0.348298496\n",
      "Epoch: 0020 cost= 0.345409852\n",
      "Epoch: 0021 cost= 0.342726735\n",
      "Epoch: 0022 cost= 0.340235288\n",
      "Epoch: 0023 cost= 0.337920232\n",
      "Epoch: 0024 cost= 0.335715854\n",
      "Epoch: 0025 cost= 0.333727841\n",
      "Optimization Finished!\n",
      "Accuracy: 0.89\n"
     ]
    }
   ],
   "source": [
    "# Start training\n",
    "with tf.Session() as sess:\n",
    "    sess.run(init)\n",
    "\n",
    "    # Training cycle\n",
    "    for epoch in range(training_epochs):\n",
    "        avg_cost = 0.\n",
    "        total_batch = int(mnist.train.num_examples/batch_size)\n",
    "        # Loop over all batches\n",
    "        for i in range(total_batch):\n",
    "            batch_xs, batch_ys = mnist.train.next_batch(batch_size)\n",
    "            # Fit training using batch data\n",
    "            _, c = sess.run([optimizer, cost], feed_dict={x: batch_xs,\n",
    "                                                          y: batch_ys})\n",
    "            # Compute average loss\n",
    "            avg_cost += c / total_batch\n",
    "        # Display logs per epoch step\n",
    "        if (epoch+1) % display_step == 0:\n",
    "            print \"Epoch:\", '%04d' % (epoch+1), \"cost=\", \"{:.9f}\".format(avg_cost)\n",
    "\n",
    "    print \"Optimization Finished!\"\n",
    "\n",
    "    # Test model\n",
    "    correct_prediction = tf.equal(tf.argmax(pred, 1), tf.argmax(y, 1))\n",
    "    # Calculate accuracy for 3000 examples\n",
    "    accuracy = tf.reduce_mean(tf.cast(correct_prediction, tf.float32))\n",
    "    print \"Accuracy:\", accuracy.eval({x: mnist.test.images[:3000], y: mnist.test.labels[:3000]})"
   ]
  },
  {
   "cell_type": "code",
   "execution_count": null,
   "metadata": {},
   "outputs": [],
   "source": []
  }
 ],
 "metadata": {
  "anaconda-cloud": {},
  "kernelspec": {
   "display_name": "Python 2",
   "language": "python",
   "name": "python2"
  },
  "language_info": {
   "codemirror_mode": {
    "name": "ipython",
    "version": 2
   },
   "file_extension": ".py",
   "mimetype": "text/x-python",
   "name": "python",
   "nbconvert_exporter": "python",
   "pygments_lexer": "ipython2",
   "version": "2.7.14"
  }
 },
 "nbformat": 4,
 "nbformat_minor": 1
}
