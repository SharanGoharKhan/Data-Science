{
 "cells": [
  {
   "cell_type": "markdown",
   "metadata": {},
   "source": [
    "\n",
    "# Assignment No 2b\n",
    "###### *Sibt ul Hussain*\n",
    "----\n",
    "## Goal\n",
    "\n",
    "Your goal in this assigment is to implement a Gaussian **Naive** Bayes Classifier.\n"
   ]
  },
  {
   "cell_type": "markdown",
   "metadata": {
    "slideshow": {
     "slide_type": "slide"
    }
   },
   "source": [
    "Naive Bayes Rule \n",
    "==============\n",
    "*Sibt ul Hussain*\n",
    "\n",
    "There are three different flavours of (Naive) Bayes Rule\n",
    "\n",
    "- Binomial Naive Bayes (We saw last time, in case of spam classification)\n",
    "- Multinomial Naive Bayes\n",
    "- **Gaussian Naive Bayes**\n"
   ]
  },
  {
   "cell_type": "markdown",
   "metadata": {},
   "source": [
    "### Instructions\n",
    "- Do not modify the block with test cases.\n",
    "- Do not tailor your solution to only pass the test cases. We will use different data for grading so keep your solution generic.\n",
    "- Passing all the cases means you are in reight direction, but does not ensure 100% marks, there may be some other cases hidden, so carefully read the question statement and implement all the necessory functionality.\n",
    "- <p style=\"color:#ff0000\">Plagiarism of any kind, (including internet) will lead to zero marks.</p>\n",
    "\n",
    "#### Libraries\n",
    "Ther are two additional libraries used which are not included in Anaconda package, nose and seaborn. You can install them using the following commands :\n",
    "```sh\n",
    "conda install -c anaconda nose=1.3.7\n",
    "conda install -c anaconda seaborn=0.7.1\n",
    "```\n",
    "Version of different libraries used are listed below:\n",
    "- Matplotlib **1.5.1**\n",
    "- Pandas **0.18.1**\n",
    "- Numpy **1.11.1**\n",
    "- Scipy **0.17.1**\n",
    "- Seaborn **0.7.1**\n",
    "\n",
    "Code for checking version info is present in cell below.\n",
    "\n",
    "#### Dead Kernal\n",
    "In case kernel does not connect, and shows a dead kernal meggese in read : \n",
    "- Go to Kernal -> Change kernal, and choose any of the available kernels.\n",
    "- Press ctrl + s and close the tab.\n",
    "- Open the notebook again and the kernel will connect. If it still does not connect then go to Kernel -> restart.\n",
    "\n",
    "\n",
    "**Note : ** Accuracies may slightly vary due to randomness in train-text split."
   ]
  },
  {
   "cell_type": "code",
   "execution_count": 1,
   "metadata": {
    "slideshow": {
     "slide_type": "slide"
    }
   },
   "outputs": [
    {
     "name": "stdout",
     "output_type": "stream",
     "text": [
      "Populating the interactive namespace from numpy and matplotlib\n"
     ]
    }
   ],
   "source": [
    "%pylab inline\n",
    "import scipy.stats\n",
    "import pandas as pd\n",
    "from collections import defaultdict\n",
    "import seaborn as sns\n",
    "#many important functions are already written and provided in tools.py \n",
    "# please have a look at these functions....\n",
    "import tools as t\n",
    "\n",
    "\n",
    "plt.style.use('ggplot')\n",
    "matplotlib.rcParams['figure.figsize'] = (10.0, 8.0)\n",
    "%load_ext autoreload \n",
    "%autoreload 2"
   ]
  },
  {
   "cell_type": "code",
   "execution_count": 2,
   "metadata": {},
   "outputs": [
    {
     "name": "stdout",
     "output_type": "stream",
     "text": [
      "Matplotlib version :  2.1.1\n",
      "Pandas version :  0.19.2\n",
      "Numpy version :  1.13.3\n",
      "Scipy version :  1.0.0\n",
      "Seaborn version :  0.7.1\n"
     ]
    }
   ],
   "source": [
    "print \"Matplotlib version : \", matplotlib.__version__\n",
    "print \"Pandas version : \", pd.__version__\n",
    "print \"Numpy version : \", np.__version__\n",
    "print \"Scipy version : \", scipy.__version__\n",
    "print \"Seaborn version : \", sns.__version__"
   ]
  },
  {
   "cell_type": "code",
   "execution_count": 3,
   "metadata": {},
   "outputs": [
    {
     "name": "stdout",
     "output_type": "stream",
     "text": [
      "Help on method pdf in module scipy.stats._distn_infrastructure:\n",
      "\n",
      "pdf(self, x, *args, **kwds) method of scipy.stats._continuous_distns.norm_gen instance\n",
      "    Probability density function at x of the given RV.\n",
      "    \n",
      "    Parameters\n",
      "    ----------\n",
      "    x : array_like\n",
      "        quantiles\n",
      "    arg1, arg2, arg3,... : array_like\n",
      "        The shape parameter(s) for the distribution (see docstring of the\n",
      "        instance object for more information)\n",
      "    loc : array_like, optional\n",
      "        location parameter (default=0)\n",
      "    scale : array_like, optional\n",
      "        scale parameter (default=1)\n",
      "    \n",
      "    Returns\n",
      "    -------\n",
      "    pdf : ndarray\n",
      "        Probability density function evaluated at x\n",
      "\n"
     ]
    }
   ],
   "source": [
    "help(scipy.stats.norm.pdf)"
   ]
  },
  {
   "cell_type": "code",
   "execution_count": 4,
   "metadata": {
    "deletable": false,
    "nbgrader": {
     "checksum": "27c33c4a8364f945bdfb0880245d6cb5",
     "grade": false,
     "grade_id": "nieve_bayes_classifier",
     "locked": false,
     "schema_version": 1,
     "solution": true
    },
    "slideshow": {
     "slide_type": "slide"
    }
   },
   "outputs": [],
   "source": [
    "# YOUR CODE HERE\n",
    "\n",
    "\n",
    "class GaussianBayes:\n",
    "    ''' Implements the Gaussian Bayes For Classification... '''\n",
    "    \n",
    "    def __init__(self):\n",
    "        pass\n",
    "    def train(self, X, Y):\n",
    "        ''' Train the multiclass (or Binary) Bayes Rule using the given \n",
    "            X [m x n] data matrix and Y labels matrix'''\n",
    "        \n",
    "        pass\n",
    "\n",
    "\n",
    "        \n",
    "    def test(self, X):\n",
    "        \n",
    "        ''' Run the trained classifiers on the given set of examples \n",
    "            For each example, you should return probability and its assigned class\n",
    "            Input: X of m x d\n",
    "            Output:\n",
    "            pclasses: predicted class of each example\n",
    "            probability: probability of each example falling in that predicted class...\n",
    "        '''\n",
    "        pass\n",
    "    \n",
    "    def predict(self, X):\n",
    "        pass \n",
    "        "
   ]
  },
  {
   "cell_type": "code",
   "execution_count": 5,
   "metadata": {
    "slideshow": {
     "slide_type": "slide"
    }
   },
   "outputs": [
    {
     "name": "stdout",
     "output_type": "stream",
     "text": [
      "       SepalLength  SepalWidth  PetalLength  PetalWidth\n",
      "count   150.000000  150.000000   150.000000  150.000000\n",
      "mean      5.843333    3.054000     3.758667    1.198667\n",
      "std       0.828066    0.433594     1.764420    0.763161\n",
      "min       4.300000    2.000000     1.000000    0.100000\n",
      "25%       5.100000    2.800000     1.600000    0.300000\n",
      "50%       5.800000    3.000000     4.350000    1.300000\n",
      "75%       6.400000    3.300000     5.100000    1.800000\n",
      "max       7.900000    4.400000     6.900000    2.500000\n"
     ]
    }
   ],
   "source": [
    "data=pd.read_csv('./iris.data', header=None)\n",
    "data.columns=['SepalLength','SepalWidth','PetalLength','PetalWidth','Class']\n",
    "print data.describe()"
   ]
  },
  {
   "cell_type": "markdown",
   "metadata": {},
   "source": [
    "#### Get your data in matrix"
   ]
  },
  {
   "cell_type": "code",
   "execution_count": 6,
   "metadata": {
    "slideshow": {
     "slide_type": "slide"
    }
   },
   "outputs": [
    {
     "name": "stdout",
     "output_type": "stream",
     "text": [
      " Data Set Dimensions= (150, 4)  True Class labels dimensions (150,)\n"
     ]
    }
   ],
   "source": [
    "X=np.asarray(data[['SepalLength','SepalWidth','PetalLength','PetalWidth']].dropna())\n",
    "Y=np.asarray(data['Class'].dropna())\n",
    "print \" Data Set Dimensions=\", X.shape, \" True Class labels dimensions\", Y.shape"
   ]
  },
  {
   "cell_type": "markdown",
   "metadata": {},
   "source": [
    "#### Let's Plot the Data"
   ]
  },
  {
   "cell_type": "code",
   "execution_count": 7,
   "metadata": {
    "slideshow": {
     "slide_type": "-"
    }
   },
   "outputs": [
    {
     "data": {
      "image/png": "[encoded data removed]",
      "text/plain": [
       "<matplotlib.figure.Figure at 0x7f6962935c90>"
      ]
     },
     "metadata": {},
     "output_type": "display_data"
    }
   ],
   "source": [
    "#Lets plot the Complete data, with its covariance matrix...\n",
    "# Remember seeing is believing\n",
    "featnames=data.columns\n",
    "t.plotCov(X[:,2:],Y,labels=featnames.values[2:4])"
   ]
  },
  {
   "cell_type": "markdown",
   "metadata": {},
   "source": [
    "### Splitting the Data into Training and Testing Sets\n",
    "There must be a validation set but for this case we are using only two sets, training and validation sets..."
   ]
  },
  {
   "cell_type": "code",
   "execution_count": 8,
   "metadata": {},
   "outputs": [
    {
     "name": "stdout",
     "output_type": "stream",
     "text": [
      " Training Data Set Dimensions= (105, 4) Training True Class labels dimensions (105,)\n",
      " Test Data Set Dimensions= (45, 4) Test True Class labels dimensions (45,)\n"
     ]
    }
   ],
   "source": [
    "# Split your data into training and test-set... \n",
    "# see the documentation of split_data in tools for further information...\n",
    "Xtrain,Ytrain,Xtest,Ytest=t.split_data(X,Y)\n",
    "\n",
    "print \" Training Data Set Dimensions=\", Xtrain.shape, \"Training True Class labels dimensions\", Ytrain.shape   \n",
    "print \" Test Data Set Dimensions=\", Xtest.shape, \"Test True Class labels dimensions\", Ytest.shape   "
   ]
  },
  {
   "cell_type": "code",
   "execution_count": 9,
   "metadata": {
    "slideshow": {
     "slide_type": "slide"
    }
   },
   "outputs": [
    {
     "data": {
      "image/png": "[encoded data removed]",
      "text/plain": [
       "<matplotlib.figure.Figure at 0x7f696283d8d0>"
      ]
     },
     "metadata": {},
     "output_type": "display_data"
    }
   ],
   "source": [
    "#Lets plot the training data...\n",
    "t.plotCov(Xtrain[:,2:],Ytrain, labels=featnames.values[2:4])\n",
    "# so we will be estimating these covariance matrices and means..."
   ]
  },
  {
   "cell_type": "code",
   "execution_count": 10,
   "metadata": {
    "slideshow": {
     "slide_type": "-"
    }
   },
   "outputs": [
    {
     "data": {
      "image/png": "[encoded data removed]",
      "text/plain": [
       "<matplotlib.figure.Figure at 0x7f6962918b10>"
      ]
     },
     "metadata": {},
     "output_type": "display_data"
    }
   ],
   "source": [
    "#Lets plot the test data...\n",
    "t.plotCov(Xtest[:,2:],Ytest,labels=featnames.values[2:4])"
   ]
  },
  {
   "cell_type": "markdown",
   "metadata": {
    "slideshow": {
     "slide_type": "slide"
    }
   },
   "source": [
    "Training Time\n",
    "========\n",
    "Let's train a Gaussian Bayes, first using two attributes.\n",
    "- What Two Attributes to use ? Any Guess..."
   ]
  },
  {
   "cell_type": "code",
   "execution_count": 11,
   "metadata": {
    "slideshow": {
     "slide_type": "slide"
    }
   },
   "outputs": [
    {
     "name": "stdout",
     "output_type": "stream",
     "text": [
      "Training a 3-class Gaussian Naive Bayes Classifier\n",
      "\n",
      "Training a Gaussian Naive Bayes Classifier on 35 Examples of 2 dimensions on class type Iris-setosa\n",
      "Training a Gaussian Naive Bayes Classifier on 35 Examples of 2 dimensions on class type Iris-versicolor\n",
      "Training a Gaussian Naive Bayes Classifier on 35 Examples of 2 dimensions on class type Iris-virginica\n"
     ]
    }
   ],
   "source": [
    "# Lets train a Gaussian Bayes Classifier on Petal Length and Width\n",
    "gb=GaussianBayes()\n",
    "gb.train(Xtrain[:,2:],Ytrain)"
   ]
  },
  {
   "cell_type": "code",
   "execution_count": 12,
   "metadata": {
    "slideshow": {
     "slide_type": "slide"
    }
   },
   "outputs": [],
   "source": [
    "#Lets test it on the set of unseen examples...\n",
    "pclasses,res=gb.test(Xtest[:,2:])"
   ]
  },
  {
   "cell_type": "markdown",
   "metadata": {
    "slideshow": {
     "slide_type": "slide"
    }
   },
   "source": [
    "Lets see how good we are doing...\n",
    "=================="
   ]
  },
  {
   "cell_type": "code",
   "execution_count": 13,
   "metadata": {
    "slideshow": {
     "slide_type": "slide"
    }
   },
   "outputs": [
    {
     "name": "stdout",
     "output_type": "stream",
     "text": [
      "[ True  True  True  True  True  True  True  True  True  True  True  True\n",
      "  True  True  True  True  True  True  True  True  True  True  True  True\n",
      "  True  True  True  True  True  True  True  True  True  True  True  True\n",
      "  True  True  True  True  True  True  True  True  True]\n",
      "45\n"
     ]
    }
   ],
   "source": [
    "#Lets see how good we are doing...\n",
    "print pclasses==Ytest\n",
    "print Ytest.shape[0]"
   ]
  },
  {
   "cell_type": "code",
   "execution_count": 14,
   "metadata": {
    "slideshow": {
     "slide_type": "slide"
    }
   },
   "outputs": [
    {
     "name": "stdout",
     "output_type": "stream",
     "text": [
      "45\n",
      "Accuracy =  1.0\n"
     ]
    }
   ],
   "source": [
    "# Using Just two attributes, accuracy is \n",
    "print np.sum(pclasses==Ytest)\n",
    "print \"Accuracy = \", np.sum(pclasses==Ytest)/float(Ytest.shape[0])"
   ]
  },
  {
   "cell_type": "code",
   "execution_count": 15,
   "metadata": {
    "slideshow": {
     "slide_type": "slide"
    }
   },
   "outputs": [
    {
     "name": "stdout",
     "output_type": "stream",
     "text": [
      " Plotting the Decision Surface of Training Set... \n"
     ]
    },
    {
     "data": {
      "image/png": "[encoded data removed]",
      "text/plain": [
       "<matplotlib.figure.Figure at 0x7f695ef40950>"
      ]
     },
     "metadata": {},
     "output_type": "display_data"
    }
   ],
   "source": [
    "print \" Plotting the Decision Surface of Training Set... \"\n",
    "t.plot_decision_regions(Xtrain[:,2:],Ytrain,clf=gb, res=0.02, cycle_marker=True, legend=1)"
   ]
  },
  {
   "cell_type": "markdown",
   "metadata": {},
   "source": [
    "### Test Cases for your classifier"
   ]
  },
  {
   "cell_type": "code",
   "execution_count": 16,
   "metadata": {
    "deletable": false,
    "editable": false,
    "nbgrader": {
     "checksum": "4b37f54a78a7dec3dd6edd6dfac52f99",
     "grade": true,
     "grade_id": "nieve_bayes_classifier_two_features",
     "locked": true,
     "points": 5,
     "schema_version": 1,
     "solution": false
    }
   },
   "outputs": [
    {
     "name": "stdout",
     "output_type": "stream",
     "text": [
      "Training a 3-class Gaussian Naive Bayes Classifier\n",
      "\n",
      "Training a Gaussian Naive Bayes Classifier on 50 Examples of 2 dimensions on class type Iris-setosa\n",
      "Training a Gaussian Naive Bayes Classifier on 50 Examples of 2 dimensions on class type Iris-versicolor\n",
      "Training a Gaussian Naive Bayes Classifier on 50 Examples of 2 dimensions on class type Iris-virginica\n",
      "All cases passed !\n"
     ]
    }
   ],
   "source": [
    "from nose.tools import assert_greater_equal, assert_is_not_none\n",
    "import pandas as pd\n",
    "data=pd.read_csv('./iris.data', header=None)\n",
    "data.columns=['SepalLength','SepalWidth','PetalLength','PetalWidth','Class']\n",
    "X=np.asarray(data[['SepalLength','SepalWidth','PetalLength','PetalWidth']].dropna())\n",
    "Y=np.asarray(data['Class'].dropna())\n",
    "\n",
    "data_val = pd.read_csv('./iris_val.data', header=None)\n",
    "data_val.columns = ['SepalLength','SepalWidth','PetalLength','PetalWidth','Class']\n",
    "X_val = np.asarray(data_val[['SepalLength','SepalWidth','PetalLength','PetalWidth']].dropna())\n",
    "Y_val = np.asarray(data_val['Class'].dropna())\n",
    "\n",
    "gb_val=GaussianBayes()\n",
    "gb_val.train(X[:,2:],Y)\n",
    "pclasses_val, _ = gb_val.test(X_val[:,2:])\n",
    "acc_val = np.sum(pclasses_val == Y_val) / float(pclasses_val.shape[0])\n",
    "\n",
    "assert_greater_equal(acc_val, 0.90, msg=\"Acc must be greater then 90%\")\n",
    "\n",
    "cls =gb.predict(np.array([2,2]).reshape((1,2)))\n",
    "assert_is_not_none(cls, msg=\"Predict should work for single example\")\n",
    "\n",
    "print \"All cases passed !\""
   ]
  },
  {
   "cell_type": "markdown",
   "metadata": {},
   "source": [
    "## Question: What can you conclude from the above decision Region"
   ]
  },
  {
   "cell_type": "markdown",
   "metadata": {},
   "source": [
    "# K-Fold Cross Validation\n",
    "\n",
    "Since our dataset is not too big, to ensure that we are reporting true picture of our classifier, \n",
    "we will have to cross validate and report the mean accuracy across the folds to reflect the true \n",
    "picture of our classifier."
   ]
  },
  {
   "cell_type": "code",
   "execution_count": 17,
   "metadata": {},
   "outputs": [
    {
     "name": "stdout",
     "output_type": "stream",
     "text": [
      "Generating CV data for 3 classes\n",
      "Training a 3-class Gaussian Naive Bayes Classifier\n",
      "\n",
      "Training a Gaussian Naive Bayes Classifier on 38 Examples of 2 dimensions on class type Iris-setosa\n",
      "Training a Gaussian Naive Bayes Classifier on 38 Examples of 2 dimensions on class type Iris-versicolor\n",
      "Training a Gaussian Naive Bayes Classifier on 38 Examples of 2 dimensions on class type Iris-virginica\n",
      "[Info] Fold 1 Accuracy = 0.972222222222\n",
      "Training a 3-class Gaussian Naive Bayes Classifier\n",
      "\n",
      "Training a Gaussian Naive Bayes Classifier on 38 Examples of 2 dimensions on class type Iris-setosa\n",
      "Training a Gaussian Naive Bayes Classifier on 38 Examples of 2 dimensions on class type Iris-versicolor\n",
      "Training a Gaussian Naive Bayes Classifier on 38 Examples of 2 dimensions on class type Iris-virginica\n",
      "[Info] Fold 2 Accuracy = 0.972222222222\n",
      "Training a 3-class Gaussian Naive Bayes Classifier\n",
      "\n",
      "Training a Gaussian Naive Bayes Classifier on 38 Examples of 2 dimensions on class type Iris-setosa\n",
      "Training a Gaussian Naive Bayes Classifier on 38 Examples of 2 dimensions on class type Iris-versicolor\n",
      "Training a Gaussian Naive Bayes Classifier on 38 Examples of 2 dimensions on class type Iris-virginica\n",
      "[Info] Fold 3 Accuracy = 0.972222222222\n",
      "Training a 3-class Gaussian Naive Bayes Classifier\n",
      "\n",
      "Training a Gaussian Naive Bayes Classifier on 38 Examples of 2 dimensions on class type Iris-setosa\n",
      "Training a Gaussian Naive Bayes Classifier on 38 Examples of 2 dimensions on class type Iris-versicolor\n",
      "Training a Gaussian Naive Bayes Classifier on 38 Examples of 2 dimensions on class type Iris-virginica\n",
      "[Info] Fold 4 Accuracy = 0.916666666667\n",
      "[0.97222222222222221, 0.97222222222222221, 0.97222222222222221, 0.91666666666666663] Mean Accuracy = 0.958333333333\n"
     ]
    }
   ],
   "source": [
    "# Now lets cross validate, and test the result...\n",
    "nfolds=4\n",
    "folds=t.generate_folds(X,Y,nfolds)\n",
    "\n",
    "#now lets train and test on these folds...\n",
    "totacc=[]\n",
    "for k in range(nfolds):\n",
    "    gb=GaussianBayes()\n",
    "    gb.train(folds[k][0][:,2:],folds[k][1])\n",
    "    pclasses,res=gb.test(folds[k][2][:,2:])\n",
    "    acc=np.sum(pclasses==folds[k][3])/float(folds[k][3].shape[0])\n",
    "    print \"[Info] Fold {} Accuracy = {}\".format(k+1, acc)\n",
    "    totacc.append(acc)\n",
    "\n",
    "print totacc, 'Mean Accuracy =', np.mean(totacc)"
   ]
  },
  {
   "cell_type": "markdown",
   "metadata": {
    "slideshow": {
     "slide_type": "slide"
    }
   },
   "source": [
    "\n",
    "Hmm Quite Impressive...\n",
    "--------------------------------"
   ]
  },
  {
   "cell_type": "code",
   "execution_count": 18,
   "metadata": {
    "slideshow": {
     "slide_type": "slide"
    }
   },
   "outputs": [
    {
     "name": "stdout",
     "output_type": "stream",
     "text": [
      "Training a 3-class Gaussian Naive Bayes Classifier\n",
      "\n",
      "Training a Gaussian Naive Bayes Classifier on 35 Examples of 4 dimensions on class type Iris-setosa\n",
      "Training a Gaussian Naive Bayes Classifier on 35 Examples of 4 dimensions on class type Iris-versicolor\n",
      "Training a Gaussian Naive Bayes Classifier on 35 Examples of 4 dimensions on class type Iris-virginica\n"
     ]
    }
   ],
   "source": [
    "# Lets go and use all the four attributes...\n",
    "gb.train(Xtrain,Ytrain)"
   ]
  },
  {
   "cell_type": "code",
   "execution_count": 19,
   "metadata": {
    "slideshow": {
     "slide_type": "slide"
    }
   },
   "outputs": [],
   "source": [
    "pclasses,res=gb.test(Xtest)"
   ]
  },
  {
   "cell_type": "markdown",
   "metadata": {
    "slideshow": {
     "slide_type": "slide"
    }
   },
   "source": [
    "#### Do you expect your Test accuracy to increase or decrease ?"
   ]
  },
  {
   "cell_type": "code",
   "execution_count": 20,
   "metadata": {
    "slideshow": {
     "slide_type": "slide"
    }
   },
   "outputs": [
    {
     "name": "stdout",
     "output_type": "stream",
     "text": [
      "Accuracy =  0.977777777778\n"
     ]
    }
   ],
   "source": [
    "# Using all four attributes, accuracy is \n",
    "print \"Accuracy = \", np.sum(pclasses==Ytest)/float(Ytest.shape[0])"
   ]
  },
  {
   "cell_type": "markdown",
   "metadata": {},
   "source": [
    "### Test cases for all features"
   ]
  },
  {
   "cell_type": "code",
   "execution_count": 21,
   "metadata": {
    "deletable": false,
    "editable": false,
    "nbgrader": {
     "checksum": "5ac214a5bdaad08573015886a5765f31",
     "grade": true,
     "grade_id": "nieve_bayes_classifier_all_features",
     "locked": true,
     "points": 5,
     "schema_version": 1,
     "solution": false
    }
   },
   "outputs": [
    {
     "name": "stdout",
     "output_type": "stream",
     "text": [
      "Training a 3-class Gaussian Naive Bayes Classifier\n",
      "\n",
      "Training a Gaussian Naive Bayes Classifier on 50 Examples of 4 dimensions on class type Iris-setosa\n",
      "Training a Gaussian Naive Bayes Classifier on 50 Examples of 4 dimensions on class type Iris-versicolor\n",
      "Training a Gaussian Naive Bayes Classifier on 50 Examples of 4 dimensions on class type Iris-virginica\n",
      "All cases passed !\n"
     ]
    }
   ],
   "source": [
    "from nose.tools import assert_greater_equal, assert_is_not_none\n",
    "import pandas as pd\n",
    "data=pd.read_csv('./iris.data', header=None)\n",
    "data.columns=['SepalLength','SepalWidth','PetalLength','PetalWidth','Class']\n",
    "X=np.asarray(data[['SepalLength','SepalWidth','PetalLength','PetalWidth']].dropna())\n",
    "Y=np.asarray(data['Class'].dropna())\n",
    "\n",
    "data_val = pd.read_csv('./iris_val.data', header=None)\n",
    "data_val.columns = ['SepalLength','SepalWidth','PetalLength','PetalWidth','Class']\n",
    "X_val = np.asarray(data_val[['SepalLength','SepalWidth','PetalLength','PetalWidth']].dropna())\n",
    "Y_val = np.asarray(data_val['Class'].dropna())\n",
    "\n",
    "gb_val=GaussianBayes()\n",
    "gb_val.train(X,Y)\n",
    "pclasses_val, _ = gb_val.test(X_val)\n",
    "acc_val = np.sum(pclasses_val == Y_val) / float(pclasses_val.shape[0])\n",
    "\n",
    "assert_greater_equal(acc_val, 0.90, msg=\"Acc must be greater then 90%\")\n",
    "\n",
    "cls =gb.predict(np.array([2,2,2,2]).reshape((1,4)))\n",
    "assert_is_not_none(cls, msg=\"Predict should work for single example\")\n",
    "\n",
    "print \"All cases passed !\""
   ]
  },
  {
   "cell_type": "markdown",
   "metadata": {
    "slideshow": {
     "slide_type": "slide"
    }
   },
   "source": [
    "What can you conclude ?\n",
    "===================="
   ]
  },
  {
   "cell_type": "markdown",
   "metadata": {},
   "source": [
    "## Let's change the features... "
   ]
  },
  {
   "cell_type": "code",
   "execution_count": 22,
   "metadata": {
    "slideshow": {
     "slide_type": "slide"
    }
   },
   "outputs": [
    {
     "name": "stdout",
     "output_type": "stream",
     "text": [
      "Training a 3-class Gaussian Naive Bayes Classifier\n",
      "\n",
      "Training a Gaussian Naive Bayes Classifier on 35 Examples of 2 dimensions on class type Iris-setosa\n",
      "Training a Gaussian Naive Bayes Classifier on 35 Examples of 2 dimensions on class type Iris-versicolor\n",
      "Training a Gaussian Naive Bayes Classifier on 35 Examples of 2 dimensions on class type Iris-virginica\n",
      "Accuracy =  0.866666666667\n"
     ]
    }
   ],
   "source": [
    "features=[0, 1]\n",
    "gb.train(Xtrain[:,features],Ytrain)\n",
    "pclasses,res=gb.test(Xtest[:,features])\n",
    "print \"Accuracy = \", np.sum(pclasses==Ytest)/float(Ytest.shape[0])"
   ]
  },
  {
   "cell_type": "markdown",
   "metadata": {
    "slideshow": {
     "slide_type": "slide"
    }
   },
   "source": [
    "Remember Features are the important !!\n",
    "======================"
   ]
  },
  {
   "cell_type": "code",
   "execution_count": 23,
   "metadata": {
    "slideshow": {
     "slide_type": "slide"
    }
   },
   "outputs": [
    {
     "data": {
      "image/png": "[encoded data removed]",
      "text/plain": [
       "<matplotlib.figure.Figure at 0x7f695ef53090>"
      ]
     },
     "metadata": {},
     "output_type": "display_data"
    }
   ],
   "source": [
    "t.plot_decision_regions(Xtest[:,features],Ytest,clf=gb, res=0.02, cycle_marker=True, legend=1)"
   ]
  },
  {
   "cell_type": "markdown",
   "metadata": {},
   "source": [
    "## Goal: Find the best pair of features (that gives maximum mean cross-validation accuracy) from all the available pairs for the problem in hand"
   ]
  },
  {
   "cell_type": "code",
   "execution_count": null,
   "metadata": {},
   "outputs": [],
   "source": []
  }
 ],
 "metadata": {
  "kernelspec": {
   "display_name": "Python 2",
   "language": "python",
   "name": "python2"
  },
  "language_info": {
   "codemirror_mode": {
    "name": "ipython",
    "version": 2
   },
   "file_extension": ".py",
   "mimetype": "text/x-python",
   "name": "python",
   "nbconvert_exporter": "python",
   "pygments_lexer": "ipython2",
   "version": "2.7.14"
  }
 },
 "nbformat": 4,
 "nbformat_minor": 1
}
