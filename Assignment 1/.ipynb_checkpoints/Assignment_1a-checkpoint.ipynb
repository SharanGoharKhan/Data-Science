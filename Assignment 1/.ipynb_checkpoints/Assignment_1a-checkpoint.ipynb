{
 "cells": [
  {
   "cell_type": "markdown",
   "metadata": {},
   "source": [
    "# Assignment No 1a\n",
    "###### *Sibt ul Hussain*\n",
    "----\n",
    "## Goal\n",
    "\n",
    "Your goal in this assigment is to implement and refresh the concepts learned during the previous two to three weeks using the ** Pure Python language** . This will not only solidify your Python understanding but also give you strong footing for further advancement :)\n",
    "\n",
    "**Note** Please note that you are **not allowed to use any other library (numpy and scipy) whatsoever for this part**. All the tools required to complete the tasks have already been discussed in the Lab. In case you need any help you can post on Piazza.\n",
    "\n",
    "## Submission Instructions\n",
    "You are required to submit the original notebook file on the Slate (with .ipynb extension), with complete set of outputs. Students failing to do so will get zero marks. \n",
    "\n",
    "*Please read each step carefully and understand it fully before proceeding with code writing*\n",
    "\n",
    "## Plagiarism\n",
    "Any form of plagiarism will not be tolerated and result in 0 marks. No relaxation whatsoever, so avoid copying and start enjoying :)"
   ]
  },
  {
   "cell_type": "markdown",
   "metadata": {},
   "source": [
    "#### Hello IPython\n",
    "----------------\n",
    "The IPython notebook is an application to build interactive computational notebooks. You'll be using them to complete labs and homework. Once you've set up Python, please download this  ipython notebook and open it with IPython by typing\n",
    "\n",
    "ipython notebook --pylab=inline Assignment\\#1\n",
    "\n",
    "For the rest of the assignment, use your local copy of this page, running on IPython.\n",
    "\n",
    "Notebooks are composed of many \"cells\", which can contain text (like this one), or code (like the one below). Double click on the cell below, and evaluate it by clicking the \"play\" button above, or by hitting shift + enter.\n",
    "\n",
    "**So Lets Start**"
   ]
  },
  {
   "cell_type": "code",
   "execution_count": null,
   "metadata": {
    "collapsed": true
   },
   "outputs": [],
   "source": []
  },
  {
   "cell_type": "code",
   "execution_count": 4,
   "metadata": {
    "run_control": {
     "breakpoint": false
    }
   },
   "outputs": [
    {
     "name": "stdout",
     "output_type": "stream",
     "text": [
      "IPython version:      5.4.1 (need at least 1.0)\n",
      "Numpy version:        1.13.3 (need at least 1.7.1)\n",
      "SciPy version:        0.19.1 (need at least 0.12.0)\n",
      "Pandas version:       0.20.3 (need at least 0.11.0)\n",
      "Mapltolib version:    2.1.0 (need at least 1.2.1)\n",
      "Scikit-Learn version: 0.19.1 (need at least 0.13.1)\n",
      "requests version:     2.18.4 (need at least 1.2.3)\n",
      "BeautifulSoup version:4.6.0 (need at least 4.0)\n",
      "Seaborn version:      0.8.0 (need at least 0.3.1)\n",
      "Pattern version:      2.6 (need at least 2.6)\n"
     ]
    }
   ],
   "source": [
    "#Run this notebook to check for the required packages for this course.\n",
    "\n",
    "\n",
    "#IPython is what you are using now to run the notebook\n",
    "import IPython\n",
    "print \"IPython version:      {} (need at least 1.0)\".format(IPython.__version__)\n",
    "\n",
    "# Numpy is a library for working with Arrays\n",
    "import numpy as np\n",
    "print \"Numpy version:        {} (need at least 1.7.1)\".format(np.__version__)\n",
    "\n",
    "# SciPy implements many different numerical algorithms\n",
    "import scipy as sp\n",
    "print \"SciPy version:        {} (need at least 0.12.0)\".format(sp.__version__)\n",
    "\n",
    "# Pandas makes working with data tables easier\n",
    "import pandas as pd\n",
    "print \"Pandas version:       {} (need at least 0.11.0)\".format(pd.__version__)\n",
    "\n",
    "# Module for plotting\n",
    "import matplotlib\n",
    "print \"Mapltolib version:    {} (need at least 1.2.1)\".format(matplotlib.__version__)\n",
    "\n",
    "# SciKit Learn implements several Machine Learning algorithms\n",
    "import sklearn\n",
    "print \"Scikit-Learn version: {} (need at least 0.13.1)\".format(sklearn.__version__)\n",
    "\n",
    "# Requests is a library for getting data from the Web\n",
    "import requests\n",
    "print \"requests version:     {} (need at least 1.2.3)\".format(requests.__version__)\n",
    "\n",
    "#BeautifulSoup is a library to parse HTML and XML documents\n",
    "import bs4\n",
    "print \"BeautifulSoup version:{} (need at least 4.0)\".format(bs4.__version__)\n",
    "\n",
    "\n",
    "#Seaborn is a nice library for visualizations\n",
    "import seaborn\n",
    "print \"Seaborn version:      {} (need at least 0.3.1)\".format(seaborn.__version__)\n",
    "\n",
    "#Pattern has lots of tools for working with data from the internet\n",
    "import pattern\n",
    "print \"Pattern version:      {} (need at least 2.6)\".format(pattern.__version__)\n",
    "\n",
    "import math\n",
    "import matplotlib.pyplot as plt"
   ]
  },
  {
   "cell_type": "code",
   "execution_count": 2,
   "metadata": {
    "run_control": {
     "breakpoint": false
    }
   },
   "outputs": [
    {
     "name": "stdout",
     "output_type": "stream",
     "text": [
      "--2018-02-21 22:18:09--  http://archive.ics.uci.edu/ml/machine-learning-databases/iris/iris.data\n",
      "Resolving archive.ics.uci.edu (archive.ics.uci.edu)... 128.195.10.249\n",
      "Connecting to archive.ics.uci.edu (archive.ics.uci.edu)|128.195.10.249|:80... connected.\n",
      "HTTP request sent, awaiting response... 200 OK\n",
      "Length: 4551 (4.4K) [text/plain]\n",
      "Saving to: ‘iris.data.4’\n",
      "\n",
      "iris.data.4         100%[===================>]   4.44K  --.-KB/s    in 0.005s  \n",
      "\n",
      "2018-02-21 22:18:10 (950 KB/s) - ‘iris.data.4’ saved [4551/4551]\n",
      "\n"
     ]
    }
   ],
   "source": [
    "#Download the IRIS dataset\n",
    "#\"!\" means run the bash (shell) command, if you are unable to download the data, go \n",
    "# to given link and manually download the data and copy it to your current assignment folder...\n",
    "!wget http://archive.ics.uci.edu/ml/machine-learning-databases/iris/iris.data"
   ]
  },
  {
   "cell_type": "code",
   "execution_count": 5,
   "metadata": {
    "collapsed": true,
    "run_control": {
     "breakpoint": false
    }
   },
   "outputs": [],
   "source": [
    "#import pandas and name this namespace as pd\n",
    "import pandas as pd"
   ]
  },
  {
   "cell_type": "code",
   "execution_count": 6,
   "metadata": {
    "run_control": {
     "breakpoint": false
    }
   },
   "outputs": [
    {
     "name": "stdout",
     "output_type": "stream",
     "text": [
      "       SepalLength  SepalWidth  PetalLength  PetalWidth\n",
      "count   149.000000  149.000000   149.000000  149.000000\n",
      "mean      5.848322    3.051007     3.774497    1.205369\n",
      "std       0.828594    0.433499     1.759651    0.761292\n",
      "min       4.300000    2.000000     1.000000    0.100000\n",
      "25%       5.100000    2.800000     1.600000    0.300000\n",
      "50%       5.800000    3.000000     4.400000    1.300000\n",
      "75%       6.400000    3.300000     5.100000    1.800000\n",
      "max       7.900000    4.400000     6.900000    2.500000\n"
     ]
    }
   ],
   "source": [
    "#Load data and name the columns\n",
    "data=pd.read_csv('iris.data')\n",
    "data.columns=['SepalLength','SepalWidth','PetalLength','PetalWidth','Class']\n",
    "print data.describe()"
   ]
  },
  {
   "cell_type": "code",
   "execution_count": 7,
   "metadata": {
    "run_control": {
     "breakpoint": false
    }
   },
   "outputs": [
    {
     "name": "stdout",
     "output_type": "stream",
     "text": [
      "PetalLength= [1.3999999999999999, 1.3, 1.5, 1.3999999999999999, 1.7, 1.3999999999999999, 1.5, 1.3999999999999999, 1.5, 1.5, 1.6000000000000001, 1.3999999999999999, 1.1000000000000001, 1.2, 1.5, 1.3, 1.3999999999999999, 1.7, 1.5, 1.7, 1.5, 1.0, 1.7, 1.8999999999999999, 1.6000000000000001, 1.6000000000000001, 1.5, 1.3999999999999999, 1.6000000000000001, 1.6000000000000001, 1.5, 1.5, 1.3999999999999999, 1.5, 1.2, 1.3, 1.5, 1.3, 1.5, 1.3, 1.3, 1.3, 1.6000000000000001, 1.8999999999999999, 1.3999999999999999, 1.6000000000000001, 1.3999999999999999, 1.5, 1.3999999999999999, 4.7000000000000002, 4.5, 4.9000000000000004, 4.0, 4.5999999999999996, 4.5, 4.7000000000000002, 3.2999999999999998, 4.5999999999999996, 3.8999999999999999, 3.5, 4.2000000000000002, 4.0, 4.7000000000000002, 3.6000000000000001, 4.4000000000000004, 4.5, 4.0999999999999996, 4.5, 3.8999999999999999, 4.7999999999999998, 4.0, 4.9000000000000004, 4.7000000000000002, 4.2999999999999998, 4.4000000000000004, 4.7999999999999998, 5.0, 4.5, 3.5, 3.7999999999999998, 3.7000000000000002, 3.8999999999999999, 5.0999999999999996, 4.5, 4.5, 4.7000000000000002, 4.4000000000000004, 4.0999999999999996, 4.0, 4.4000000000000004, 4.5999999999999996, 4.0, 3.2999999999999998, 4.2000000000000002, 4.2000000000000002, 4.2000000000000002, 4.2999999999999998, 3.0, 4.0999999999999996, 6.0, 5.0999999999999996, 5.9000000000000004, 5.5999999999999996, 5.7999999999999998, 6.5999999999999996, 4.5, 6.2999999999999998, 5.7999999999999998, 6.0999999999999996, 5.0999999999999996, 5.2999999999999998, 5.5, 5.0, 5.0999999999999996, 5.2999999999999998, 5.5, 6.7000000000000002, 6.9000000000000004, 5.0, 5.7000000000000002, 4.9000000000000004, 6.7000000000000002, 4.9000000000000004, 5.7000000000000002, 6.0, 4.7999999999999998, 4.9000000000000004, 5.5999999999999996, 5.7999999999999998, 6.0999999999999996, 6.4000000000000004, 5.5999999999999996, 5.0999999999999996, 5.5999999999999996, 6.0999999999999996, 5.5999999999999996, 5.5, 4.7999999999999998, 5.4000000000000004, 5.5999999999999996, 5.0999999999999996, 5.0999999999999996, 5.9000000000000004, 5.7000000000000002, 5.2000000000000002, 5.0, 5.2000000000000002, 5.4000000000000004, 5.0999999999999996]\n",
      "PetalWidth= [0.20000000000000001, 0.20000000000000001, 0.20000000000000001, 0.20000000000000001, 0.40000000000000002, 0.29999999999999999, 0.20000000000000001, 0.20000000000000001, 0.10000000000000001, 0.20000000000000001, 0.20000000000000001, 0.10000000000000001, 0.10000000000000001, 0.20000000000000001, 0.40000000000000002, 0.40000000000000002, 0.29999999999999999, 0.29999999999999999, 0.29999999999999999, 0.20000000000000001, 0.40000000000000002, 0.20000000000000001, 0.5, 0.20000000000000001, 0.20000000000000001, 0.40000000000000002, 0.20000000000000001, 0.20000000000000001, 0.20000000000000001, 0.20000000000000001, 0.40000000000000002, 0.10000000000000001, 0.20000000000000001, 0.10000000000000001, 0.20000000000000001, 0.20000000000000001, 0.10000000000000001, 0.20000000000000001, 0.20000000000000001, 0.29999999999999999, 0.29999999999999999, 0.20000000000000001, 0.59999999999999998, 0.40000000000000002, 0.29999999999999999, 0.20000000000000001, 0.20000000000000001, 0.20000000000000001, 0.20000000000000001, 1.3999999999999999, 1.5, 1.5, 1.3, 1.5, 1.3, 1.6000000000000001, 1.0, 1.3, 1.3999999999999999, 1.0, 1.5, 1.0, 1.3999999999999999, 1.3, 1.3999999999999999, 1.5, 1.0, 1.5, 1.1000000000000001, 1.8, 1.3, 1.5, 1.2, 1.3, 1.3999999999999999, 1.3999999999999999, 1.7, 1.5, 1.0, 1.1000000000000001, 1.0, 1.2, 1.6000000000000001, 1.5, 1.6000000000000001, 1.5, 1.3, 1.3, 1.3, 1.2, 1.3999999999999999, 1.2, 1.0, 1.3, 1.2, 1.3, 1.3, 1.1000000000000001, 1.3, 2.5, 1.8999999999999999, 2.1000000000000001, 1.8, 2.2000000000000002, 2.1000000000000001, 1.7, 1.8, 1.8, 2.5, 2.0, 1.8999999999999999, 2.1000000000000001, 2.0, 2.3999999999999999, 2.2999999999999998, 1.8, 2.2000000000000002, 2.2999999999999998, 1.5, 2.2999999999999998, 2.0, 2.0, 1.8, 2.1000000000000001, 1.8, 1.8, 1.8, 2.1000000000000001, 1.6000000000000001, 1.8999999999999999, 2.0, 2.2000000000000002, 1.5, 1.3999999999999999, 2.2999999999999998, 2.3999999999999999, 1.8, 1.8, 2.1000000000000001, 2.3999999999999999, 2.2999999999999998, 1.8999999999999999, 2.2999999999999998, 2.5, 2.2999999999999998, 1.8999999999999999, 2.0, 2.2999999999999998, 1.8]\n"
     ]
    }
   ],
   "source": [
    "#Code for generating data....\n",
    "datalist=[] #create an empty list\n",
    "# data list is a list of two elements, where index=0 contains data corresponding to petal \n",
    "# length and index=1 contains data corresponding to petal width\n",
    "datalist.append(list(data['PetalLength'].dropna()))\n",
    "datalist.append(list(data['PetalWidth'].dropna()))\n",
    "\n",
    "print \"PetalLength=\", datalist[0]\n",
    "print \"PetalWidth=\", datalist[1]\n",
    "\n",
    "#This and above code are both same...\n",
    "# datalist=[0]*2#create a list of 2 elements\n",
    "# datalist[0]=(list(data['PetalLength'].dropna()))\n",
    "# datalist[1]=(list(data['PetalWidth'].dropna()))\n",
    "#data list is a list of two elements, where index=0 contains data corresponding to petal \n",
    "# length and index=1 contains data corresponding to petal width\n",
    "# print(\"PetalLength=\", datalist[0])\n",
    "# print(\"PetalWidth=\", datalist[1])"
   ]
  },
  {
   "cell_type": "markdown",
   "metadata": {},
   "source": [
    "*In all the tasks given below use the list variable `datalist` (defined above) to answer all the questions.*\n",
    "\n",
    "#### Task1\n",
    "----------------\n",
    "Write code to find the mean and variance of the both the attributes vector (petal length and petal Width) "
   ]
  },
  {
   "cell_type": "code",
   "execution_count": 17,
   "metadata": {
    "run_control": {
     "breakpoint": false
    }
   },
   "outputs": [
    {
     "data": {
      "text/plain": [
       "(3.7744966442953043,\n",
       " 1.2053691275167793,\n",
       " 3.0755911895860546,\n",
       " 0.5756758704562863)"
      ]
     },
     "execution_count": 17,
     "metadata": {},
     "output_type": "execute_result"
    }
   ],
   "source": [
    "#Write your code here\n",
    "def MeanVar():\n",
    "    petal_length_mean = sum(datalist[0])/len(datalist[0])\n",
    "    petal_width_mean = sum(datalist[1])/len(datalist[1])\n",
    "    petal_length_variance = sum(math.pow((a-petal_length_mean),2) for a in datalist[0])/len(datalist[0])\n",
    "    petal_width_variance = sum(math.pow((a-petal_width_mean),2) for a in datalist[1])/len(datalist[1])\n",
    "    return (petal_length_mean,petal_width_mean,petal_length_variance,petal_width_variance)\n",
    "MeanVar()"
   ]
  },
  {
   "cell_type": "markdown",
   "metadata": {},
   "source": [
    "#### Task2\n",
    "----------------\n",
    "Write code to unit normalize both (feature) vectors and compute the cosine similarity among them. Please comment does it make sense to compute the cosine similarity among the feature vectors.\n",
    "#### Answer\n",
    "Yes makes sense similarity approaching one so they are similar both features have dependence on one another"
   ]
  },
  {
   "cell_type": "code",
   "execution_count": 149,
   "metadata": {
    "run_control": {
     "breakpoint": false
    }
   },
   "outputs": [
    {
     "name": "stdout",
     "output_type": "stream",
     "text": [
      "0.983506230585\n"
     ]
    }
   ],
   "source": [
    "petal_length = datalist[0]\n",
    "petal_width = datalist[1]\n",
    "#Write your code here\n",
    "def dotproduct(v1,v2):\n",
    "    return sum((a*b) for a ,b in zip(v1,v2))\n",
    "def length(v):\n",
    "    return math.sqrt(dotproduct(v,v))\n",
    "def angle(v1,v2):\n",
    "    return dotproduct(v1,v2)/(length(v1) * length(v2))\n",
    "print angle(petal_length,petal_width)\n"
   ]
  },
  {
   "cell_type": "markdown",
   "metadata": {},
   "source": [
    "#### Task3: Univariate Analysis\n",
    "----------------\n",
    "Lets model the petal length as a univariate bernoulli random variable by categorizing the petal length as short(< 4.9cm) and long(>=4.9cm). Write the code for finding the probability of a short petal length flower."
   ]
  },
  {
   "cell_type": "code",
   "execution_count": 8,
   "metadata": {
    "run_control": {
     "breakpoint": false
    }
   },
   "outputs": [
    {
     "name": "stdout",
     "output_type": "stream",
     "text": [
      "0.657718120805\n"
     ]
    }
   ],
   "source": [
    "#Write your code here\n",
    "def probability_short():\n",
    "    univariate_petal_length=[]\n",
    "    count_petal_short = 0\n",
    "    probability_petal_short = 0\n",
    "    for itr in petal_length:\n",
    "        if itr < 4.9:\n",
    "            count_petal_short +=1\n",
    "            univariate_petal_length.append(0)\n",
    "        else:\n",
    "            univariate_petal_length.append(1)\n",
    "    probability_petal_short = float(count_petal_short)/len(univariate_petal_length)\n",
    "    return probability_petal_short\n",
    "print probability_short()"
   ]
  },
  {
   "cell_type": "markdown",
   "metadata": {},
   "source": [
    "#### Task4: Univariate Analysis\n",
    "----------------\n",
    "Lets consider that we randomly choose 20 flower, whats the probability that 15 among them will be short petal lenght ones ?"
   ]
  },
  {
   "cell_type": "code",
   "execution_count": 9,
   "metadata": {
    "run_control": {
     "breakpoint": false
    }
   },
   "outputs": [
    {
     "name": "stdout",
     "output_type": "stream",
     "text": [
      "0.135818962094\n"
     ]
    }
   ],
   "source": [
    "#Write your code here\n",
    "prob_short = probability_short()\n",
    "not_prob_short = 1 - prob_short\n",
    "m_trials = 15\n",
    "k_total = 20\n",
    "combination_petal = (math.factorial(k_total))/(math.factorial(m_trials)*math.factorial((k_total-m_trials)))\n",
    "print combination_petal * math.pow(prob_short,m_trials)*math.pow(not_prob_short,(k_total-m_trials))\n"
   ]
  },
  {
   "cell_type": "markdown",
   "metadata": {},
   "source": [
    "#### Task5: Univariate Analysis\n",
    "----------------\n",
    "Lets model the petal Width as a univariate Bernoulli random variable by categorizing the petal width as short(< 1.6cm) and long(>=1.6cm). Write the code for finding the probability of a short petal width flower."
   ]
  },
  {
   "cell_type": "code",
   "execution_count": 10,
   "metadata": {
    "run_control": {
     "breakpoint": false
    }
   },
   "outputs": [
    {
     "name": "stdout",
     "output_type": "stream",
     "text": [
      "0.651006711409\n"
     ]
    }
   ],
   "source": [
    "#Write your code here\n",
    "def probability_short():\n",
    "    univariate_petal_length=[]\n",
    "    count_petal_short = 0\n",
    "    probability_petal_short = 0\n",
    "    for itr in petal_width:\n",
    "        if itr < 1.6:\n",
    "            count_petal_short +=1\n",
    "            univariate_petal_length.append(0)\n",
    "        else:\n",
    "            univariate_petal_length.append(1)\n",
    "    probability_petal_short = float(count_petal_short)/len(univariate_petal_length)\n",
    "    return probability_petal_short\n",
    "print probability_short()"
   ]
  },
  {
   "cell_type": "markdown",
   "metadata": {},
   "source": [
    "#### Task6: Univariate Analysis\n",
    "----------------\n",
    "Lets model the petal length as a univariate continuous Gaussian random variable. What is the probability of seeing a flower with the petal lenght in the range $\\in [5.6,\\; 5.7]$. Recall that a gaussian pdf is\n",
    "$$f(x) = \\frac{1}{\\sigma \\sqrt{2\\pi} } e^{ -\\frac{(x-\\mu)^2}{2\\sigma^2} }$$"
   ]
  },
  {
   "cell_type": "code",
   "execution_count": 29,
   "metadata": {
    "run_control": {
     "breakpoint": false
    }
   },
   "outputs": [
    {
     "data": {
      "text/plain": [
       "0.006853107785419168"
      ]
     },
     "execution_count": 29,
     "metadata": {},
     "output_type": "execute_result"
    }
   ],
   "source": [
    "#Write your code here, use summation instead of integral, \n",
    "# you are not authorized to use scipy.stats function for this and later parts...\n",
    "def ConGuasRand():\n",
    "    mean_var = MeanVar();\n",
    "    variance_petal_length = mean_var[2]\n",
    "    mean_petal_length = mean_var[0]\n",
    "    first_term = 1/(variance_petal_length*math.sqrt(2*3.14))\n",
    "    second_term = math.exp(-1*math.pow((5.6-mean_petal_length),2))/2*math.pow(variance_petal_length,2)\n",
    "    first_value = first_term*second_term\n",
    "    second_term = math.exp(-1*math.pow((5.7-mean_petal_length),2))/2*math.pow(variance_petal_length,2)\n",
    "    second_value = first_term*second_term\n",
    "    return first_value-second_value\n",
    "ConGuasRand()"
   ]
  },
  {
   "cell_type": "markdown",
   "metadata": {},
   "source": [
    "#### Task7: Univariate Analysis\n",
    "----------------\n",
    "Lets model the petal length as a univariate continuous Gaussian random variable. What is the probability of seeing a flower with the petal lenght in the range $\\in [5.6,\\; 5.7]$. Recall that a gaussian pdf is"
   ]
  },
  {
   "cell_type": "code",
   "execution_count": 30,
   "metadata": {
    "run_control": {
     "breakpoint": false
    }
   },
   "outputs": [
    {
     "data": {
      "text/plain": [
       "0.006853107785419168"
      ]
     },
     "execution_count": 30,
     "metadata": {},
     "output_type": "execute_result"
    }
   ],
   "source": [
    "#Write your code here\n",
    "ConGuasRand()"
   ]
  },
  {
   "cell_type": "markdown",
   "metadata": {},
   "source": [
    "#### Task8: Univariate Analysis\n",
    "----------------\n",
    "Lets model the petal length as a univariate continuous Gaussian random variable. What is the relative probability of seeing a flower with the petal length 5.4 to a flower with petal length 3.9."
   ]
  },
  {
   "cell_type": "code",
   "execution_count": 37,
   "metadata": {
    "run_control": {
     "breakpoint": false
    }
   },
   "outputs": [
    {
     "data": {
      "text/plain": [
       "0.5603656161802602"
      ]
     },
     "execution_count": 37,
     "metadata": {},
     "output_type": "execute_result"
    }
   ],
   "source": [
    "#Write your code here\n",
    "def ConGuasRand1():\n",
    "    mean_var = MeanVar();\n",
    "    variance_petal_length = mean_var[2]\n",
    "    mean_petal_length = mean_var[0]\n",
    "    first_term = 1/(variance_petal_length*math.sqrt(2*3.14))\n",
    "    second_term = math.exp(-1*math.pow((5.4-mean_petal_length),2))/2*math.pow(variance_petal_length,2)\n",
    "    first_value = first_term*second_term\n",
    "    second_term = math.exp(-1*math.pow((3.9-mean_petal_length),2))/2*math.pow(variance_petal_length,2)\n",
    "    second_value = first_term*second_term\n",
    "    return second_value-first_value\n",
    "ConGuasRand1()"
   ]
  },
  {
   "cell_type": "markdown",
   "metadata": {},
   "source": [
    "#### Task9: Univariate Analysis\n",
    "Write a function to build a histogarm of the given feature vector (list). Your function should receive two arguments a feature vector (a list) and number of bins and return the built histogram. "
   ]
  },
  {
   "cell_type": "code",
   "execution_count": 37,
   "metadata": {
    "run_control": {
     "breakpoint": false
    }
   },
   "outputs": [
    {
     "name": "stdout",
     "output_type": "stream",
     "text": [
      "7.9 4.3\n",
      "{4.5: 1, 5.5: 7, 4.3: 1, 5.0: 10, 6.0: 6, 7.0: 1, 7.3: 1, 7.6: 1, 5.1: 8, 6.1: 6, 5.6: 6, 6.8: 3, 6.4: 7, 4.6: 4, 6.2: 4, 5.8: 7, 5.2: 4, 6.9: 4, 6.7: 8, 7.2: 3, 7.7: 4, 6.3: 9, 4.7: 2, 5.4: 6, 4.8: 5, 5.3: 1, 5.9: 3, 6.6: 2, 7.4: 1, 7.9: 1, 4.4: 3, 4.9: 6, 5.7: 8, 7.1: 1, 6.5: 5}\n"
     ]
    }
   ],
   "source": [
    "def buildHistogram(feature, nbins):\n",
    "    \"\"\" Histogram the feature into number of bins \"\"\"\n",
    "    max_sepal_length = max(data[feature[0]])\n",
    "    min_sepal_length = min(data[feature[0]])\n",
    "    print max_sepal_length,min_sepal_length\n",
    "    fig, ax = plt.subplots()\n",
    "    sepal_length_x = data[feature[0]]\n",
    "    sepal_length_x = sorted(data[feature[0]].values.tolist())\n",
    "    sepal_length_y = data[feature[0]].values.tolist()\n",
    "    count_dictionary = {}\n",
    "    for itr in sepal_length_x:\n",
    "        if count_dictionary.get(itr) == None:\n",
    "            count_dictionary[itr] = 1\n",
    "        else:\n",
    "            count_dictionary[itr] += 1\n",
    "    sortedDict = ()\n",
    "#     print sepal_length_x\n",
    "    #Write your code here    \n",
    "buildHistogram(['SepalLength','SepalWidth','PetalLength','PetalWidth','Class'],5)    \n",
    "    "
   ]
  },
  {
   "cell_type": "markdown",
   "metadata": {},
   "source": [
    "#### Task10: Univariate Analysis\n",
    "Write a function that returns a list containing all the four quantile of the given feature vector."
   ]
  },
  {
   "cell_type": "code",
   "execution_count": 25,
   "metadata": {
    "run_control": {
     "breakpoint": false
    }
   },
   "outputs": [
    {
     "data": {
      "text/plain": [
       "[5.1, 5.8, 6.4, 7.9]"
      ]
     },
     "execution_count": 25,
     "metadata": {},
     "output_type": "execute_result"
    }
   ],
   "source": [
    "def getQuantile(features):\n",
    "    \"\"\" Function returns the four quantile of the given feature vector in a list \"\"\"    \n",
    "    quartile=[0]*4\n",
    "    #Write your code here    \n",
    "    sepal_length_x = sorted(data[features].values.tolist())\n",
    "    median_quartile = len(sepal_length_x)/2\n",
    "    quartile[0] = sepal_length_x[:median_quartile/2]\n",
    "    quartile[1] = sepal_length_x[median_quartile/2:median_quartile]\n",
    "    upper_quartile = len(sepal_length_x[median_quartile:])/2\n",
    "    upper_quartile = upper_quartile+median_quartile\n",
    "    quartile[2] = sepal_length_x[median_quartile:upper_quartile]\n",
    "    quartile[3] = sepal_length_x[upper_quartile:]\n",
    "    return ([quartile[0][-1],quartile[1][-1],quartile[2][-1],quartile[3][-1]])\n",
    "getQuantile('SepalLength')"
   ]
  },
  {
   "cell_type": "markdown",
   "metadata": {},
   "source": [
    "#### Task11: Univariate Analysis\n",
    "Find the outliers in the features petal length and width. Comment on how you have decided on the features which are outliers.\n",
    "#### Answer\n",
    "I use the method if values greater than Q3 + 1.5(IQR) is outlier \n",
    "or\n",
    "if values lower than Q1 - 1.5(IQR) is outlier"
   ]
  },
  {
   "cell_type": "code",
   "execution_count": 79,
   "metadata": {
    "run_control": {
     "breakpoint": false
    }
   },
   "outputs": [
    {
     "name": "stdout",
     "output_type": "stream",
     "text": [
      "Outlier range petal length:  10.35 -3.65\n",
      "No outlier in petal length\n",
      "Outlier range petal width:  4.05 -1.95\n",
      "No outlier in petal width\n"
     ]
    }
   ],
   "source": [
    "#Write your code here  \n",
    "quartiles_petal_length = getQuantile('PetalLength')\n",
    "quartile_one_petal_length = quartiles_petal_length[0][-1]\n",
    "quartile_three_petal_length = quartiles_petal_length[3][0]\n",
    "iqr_petal_length = quartile_three_petal_length - quartile_one_petal_length\n",
    "great_iqr_petal_length = quartile_three_petal_length +1.5*iqr_petal_length\n",
    "lower_iqr_petal_length = quartile_one_petal_length -1.5*iqr_petal_length\n",
    "print 'Outlier range petal length: ',great_iqr_petal_length,lower_iqr_petal_length\n",
    "outlier_petal_length = []\n",
    "for itr in data['PetalLength']:\n",
    "    if itr >= great_iqr_petal_length:\n",
    "        outlier_petal_length.append(itr)\n",
    "    elif itr <= lower_iqr_petal_length:\n",
    "        lower_iqr_petal_length.append(itr)\n",
    "if len(outlier_petal_length) == 0:\n",
    "    print \"No outlier in petal length\"\n",
    "else:\n",
    "    print outlier_petal_length\n",
    "quartiles_petal_length = getQuantile('PetalWidth')\n",
    "quartile_one_petal_length = quartiles_petal_length[0][-1]\n",
    "quartile_three_petal_length = quartiles_petal_length[3][0]\n",
    "iqr_petal_length = quartile_three_petal_length - quartile_one_petal_length\n",
    "great_iqr_petal_length = quartile_three_petal_length +1.5*iqr_petal_length\n",
    "lower_iqr_petal_length = quartile_one_petal_length -1.5*iqr_petal_length\n",
    "print 'Outlier range petal width: ',great_iqr_petal_length,lower_iqr_petal_length\n",
    "outlier_petal_width = []\n",
    "for itr in data['PetalWidth']:\n",
    "    if itr >= great_iqr_petal_length:\n",
    "        outlier_petal_width.append(itr)\n",
    "    elif itr <= lower_iqr_petal_length:\n",
    "        outlier_petal_width.append(itr)\n",
    "if len(outlier_petal_width) == 0:\n",
    "    print \"No outlier in petal width\"\n",
    "else:\n",
    "    print outlier_petal_width"
   ]
  },
  {
   "cell_type": "markdown",
   "metadata": {},
   "source": [
    "#### Task12: Multivariate Analysis\n",
    "Lets model the petal length and width as a bivariate Bernoulli random variable by categorizing the petal length (< 4.9cm) and petal width as short(< 1.6cm) and vice versa. Suppose that petal length is represented by random variable $x$ and petal width by random variable $y$. Now write the code for finding the probability of following cases:\n",
    "$$P(x=0, y=0)= ?$$\n",
    "$$P(x=0, y=1)= ?$$\n",
    "$$P(x=1, y=0)= ?$$\n",
    "$$P(x=1, y=1)= ?$$\n",
    "\n",
    "Here $x=0$ represent the flowers with short petal length and $x=1$ represent the flower with long petal length..\n"
   ]
  },
  {
   "cell_type": "code",
   "execution_count": 27,
   "metadata": {
    "run_control": {
     "breakpoint": false
    }
   },
   "outputs": [
    {
     "name": "stdout",
     "output_type": "stream",
     "text": [
      "0.241610738255\n",
      "0.369127516779\n",
      "0.0\n",
      "0.308724832215\n"
     ]
    }
   ],
   "source": [
    "#Write your code here\n",
    "petal_length_original = data['PetalLength'].values.tolist()\n",
    "petal_width_original = data['PetalWidth'].values.tolist()\n",
    "probability_cases=[0]*4\n",
    "data_size = len(petal_length_original)\n",
    "for item in zip(petal_length_original,petal_length_original):\n",
    "    if item[0] < 4.9 and item[1] < 1.6:\n",
    "        probability_cases[0]+=1\n",
    "    elif item[0] < 4.9 and item[1] > 1.6:\n",
    "        probability_cases[1]+=1\n",
    "    elif item[0] > 4.9 and item[1] < 1.6:\n",
    "        probability_cases[2]+=1\n",
    "    elif item[0] > 4.9 and item[1] > 1.6:\n",
    "        probability_cases[3]+=1\n",
    "for prob in probability_cases:\n",
    "    print prob/float(data_size)"
   ]
  },
  {
   "cell_type": "markdown",
   "metadata": {},
   "source": [
    "#### Task13: Multivariate Analysis\n",
    "What will be probability of seeing of flower with long petal length ? Find the result using marginalization principle."
   ]
  },
  {
   "cell_type": "code",
   "execution_count": 126,
   "metadata": {
    "run_control": {
     "breakpoint": false
    }
   },
   "outputs": [
    {
     "name": "stdout",
     "output_type": "stream",
     "text": [
      "0.308724832215\n"
     ]
    }
   ],
   "source": [
    "petal_length_original = data['PetalLength'].values.tolist()\n",
    "print len([elem for elem in petal_length_original if elem > 4.9])/float(len(petal_length_original))"
   ]
  },
  {
   "cell_type": "markdown",
   "metadata": {},
   "source": [
    "#### Task14: Multivariate Analysis\n",
    "Lets model the sepal length, sepal width, petal length and width as a multivariate Bernoulli random variable by categorizing the sepal length  as (short< 7.1cm), sepal width (short< 3.1cm), petal length (short< 4.9cm) and petal width (short< 1.6cm) and vice versa. Suppose that all four measures are represented by random variables $x_1, x_2, x_3, x_4$ respectively. Now write the code for finding the probability of the following cases:\n",
    "$$p(x_1=1, x_2=1, x_3=0, x_4=1)$$\n",
    "$$p(x_1=0, x_2=1, x_3=0, x_4=1)$$\n",
    "$$p(x_1=0, x_2=0, x_3=0, x_4=1)$$\n",
    "$$p(x_1=1, x_2=1, x_3=1, x_4=1)$$\n",
    "\n",
    "Here $x_i=0$ represent the flowers with short featuers and $x_i=1$ represent the flower with long feature.\n"
   ]
  },
  {
   "cell_type": "code",
   "execution_count": 8,
   "metadata": {
    "run_control": {
     "breakpoint": false
    }
   },
   "outputs": [
    {
     "name": "stdout",
     "output_type": "stream",
     "text": [
      "0.0872483221477\n",
      "0.0201342281879\n",
      "0.302013422819\n",
      "0.0268456375839\n"
     ]
    }
   ],
   "source": [
    "#Write your code here\n",
    "petal_length = data['PetalLength'].values.tolist()\n",
    "petal_width = data['PetalWidth'].values.tolist()\n",
    "sepal_length = data['SepalLength'].values.tolist()\n",
    "sepal_width = data['SepalWidth'].values.tolist()\n",
    "probabilities=[0]*4\n",
    "lenData = len(sepal_length)\n",
    "for items in zip(petal_length,petal_width,sepal_length,sepal_width):\n",
    "    if items[0] >= 4.9 and items[1] >= 1.6 and items[2] < 7.1 and items[3] >= 3.1:\n",
    "        probabilities[0]+=1\n",
    "    elif items[0] < 4.9 and items[1] >= 1.6 and items[2] < 7.1 and items[3] >= 3.1:\n",
    "        probabilities[1]+=1\n",
    "    elif items[0] < 4.9 and items[1] < 1.6 and items[2] < 7.1 and items[3] >= 3.1:\n",
    "        probabilities[2]+=1\n",
    "    elif items[0] >= 4.9 and items[1] >= 1.6 and items[2] >= 7.1 and items[3] >= 3.1:\n",
    "        probabilities[3]+=1\n",
    "for prob in probabilities:\n",
    "    print prob/float(lenData)"
   ]
  },
  {
   "cell_type": "markdown",
   "metadata": {},
   "source": [
    "#### Task15: Multivariate Analysis\n",
    "Find the following probabilities using marginalization principle:\n",
    "$$p(x_1=1, x_2=1,  x_4=1)$$\n",
    "$$p(x_1=0, x_4=1)$$"
   ]
  },
  {
   "cell_type": "code",
   "execution_count": 15,
   "metadata": {
    "run_control": {
     "breakpoint": false
    }
   },
   "outputs": [
    {
     "name": "stdout",
     "output_type": "stream",
     "text": [
      "0.114093959732\n",
      "0.322147651007\n"
     ]
    }
   ],
   "source": [
    "#Write your code here\n",
    "print (probabilities[3]/float(lenData))+(probabilities[0]/float(lenData))\n",
    "print (probabilities[1]/float(lenData))+(probabilities[2]/float(lenData))"
   ]
  },
  {
   "cell_type": "code",
   "execution_count": null,
   "metadata": {
    "collapsed": true
   },
   "outputs": [],
   "source": []
  }
 ],
 "metadata": {
  "kernelspec": {
   "display_name": "Python 2",
   "language": "python",
   "name": "python2"
  },
  "language_info": {
   "codemirror_mode": {
    "name": "ipython",
    "version": 2
   },
   "file_extension": ".py",
   "mimetype": "text/x-python",
   "name": "python",
   "nbconvert_exporter": "python",
   "pygments_lexer": "ipython2",
   "version": "2.7.14"
  }
 },
 "nbformat": 4,
 "nbformat_minor": 1
}
