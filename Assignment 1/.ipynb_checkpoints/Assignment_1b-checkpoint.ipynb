{
 "cells": [
  {
   "cell_type": "markdown",
   "metadata": {
    "collapsed": true
   },
   "source": [
    "# Assignment No 1b\n",
    "###### *Sibt ul Hussain*\n",
    "----\n",
    "## Goal\n",
    "\n",
    "Your goal in this assigment is to implement and refresh the multivariate concepts learned during the previous weeks using the Python language. This will not only solidify your Python understanding but also give you strong footing for further advancement :)\n",
    "\n",
    "**Note** Please note that can use *numpy and scipy* to complete the tasks. In case you need any help you can post on Piazza.\n",
    "\n",
    "## Submission Instructions\n",
    "You are required to submit the original notebook file on the Slate (with .ipynb extension), with complete set of outputs. Students failing to do so will get zero marks. \n",
    "\n",
    "*Please read each step carefully and understand it fully before proceeding with code writing*\n",
    "\n",
    "## Plagiarism\n",
    "Any form of plagiarism will not be tolerated and result in 0 marks."
   ]
  },
  {
   "cell_type": "markdown",
   "metadata": {},
   "source": [
    "**So Lets Start**"
   ]
  },
  {
   "cell_type": "code",
   "execution_count": 1,
   "metadata": {},
   "outputs": [
    {
     "name": "stdout",
     "output_type": "stream",
     "text": [
      "Populating the interactive namespace from numpy and matplotlib\n"
     ]
    }
   ],
   "source": [
    "# magic command to include all the necessary libraries\n",
    "%pylab inline "
   ]
  },
  {
   "cell_type": "code",
   "execution_count": 2,
   "metadata": {
    "run_control": {
     "breakpoint": false
    }
   },
   "outputs": [
    {
     "name": "stdout",
     "output_type": "stream",
     "text": [
      "--2018-02-22 19:10:58--  http://archive.ics.uci.edu/ml/machine-learning-databases/iris/iris.data\n",
      "Resolving archive.ics.uci.edu (archive.ics.uci.edu)... 128.195.10.249\n",
      "Connecting to archive.ics.uci.edu (archive.ics.uci.edu)|128.195.10.249|:80... connected.\n",
      "HTTP request sent, awaiting response... 200 OK\n",
      "Length: 4551 (4.4K) [text/plain]\n",
      "Saving to: ‘iris.data.5’\n",
      "\n",
      "iris.data.5         100%[===================>]   4.44K  --.-KB/s    in 0.002s  \n",
      "\n",
      "2018-02-22 19:10:58 (2.65 MB/s) - ‘iris.data.5’ saved [4551/4551]\n",
      "\n"
     ]
    }
   ],
   "source": [
    "#Download the IRIS dataset\n",
    "#\"!\" means run the bash (shell) command\n",
    "!wget http://archive.ics.uci.edu/ml/machine-learning-databases/iris/iris.data"
   ]
  },
  {
   "cell_type": "code",
   "execution_count": 7,
   "metadata": {
    "collapsed": true,
    "run_control": {
     "breakpoint": false
    }
   },
   "outputs": [],
   "source": [
    "#import pandas and name this namespace as pd\n",
    "import pandas as pd\n",
    "from scipy.stats import multivariate_normal\n",
    "import numpy as np"
   ]
  },
  {
   "cell_type": "code",
   "execution_count": 3,
   "metadata": {
    "run_control": {
     "breakpoint": false
    }
   },
   "outputs": [
    {
     "name": "stdout",
     "output_type": "stream",
     "text": [
      "       SepalLength  SepalWidth  PetalLength  PetalWidth\n",
      "count   149.000000  149.000000   149.000000  149.000000\n",
      "mean      5.848322    3.051007     3.774497    1.205369\n",
      "std       0.828594    0.433499     1.759651    0.761292\n",
      "min       4.300000    2.000000     1.000000    0.100000\n",
      "25%       5.100000    2.800000     1.600000    0.300000\n",
      "50%       5.800000    3.000000     4.400000    1.300000\n",
      "75%       6.400000    3.300000     5.100000    1.800000\n",
      "max       7.900000    4.400000     6.900000    2.500000\n"
     ]
    }
   ],
   "source": [
    "#Load data and name the columns\n",
    "data=pd.read_csv('iris.data')\n",
    "data.columns=['SepalLength','SepalWidth','PetalLength','PetalWidth','Class']\n",
    "print data.describe()"
   ]
  },
  {
   "cell_type": "code",
   "execution_count": 4,
   "metadata": {
    "run_control": {
     "breakpoint": false
    }
   },
   "outputs": [
    {
     "name": "stdout",
     "output_type": "stream",
     "text": [
      "PetalLength= [1.3999999999999999, 1.3, 1.5, 1.3999999999999999, 1.7, 1.3999999999999999, 1.5, 1.3999999999999999, 1.5, 1.5, 1.6000000000000001, 1.3999999999999999, 1.1000000000000001, 1.2, 1.5, 1.3, 1.3999999999999999, 1.7, 1.5, 1.7, 1.5, 1.0, 1.7, 1.8999999999999999, 1.6000000000000001, 1.6000000000000001, 1.5, 1.3999999999999999, 1.6000000000000001, 1.6000000000000001, 1.5, 1.5, 1.3999999999999999, 1.5, 1.2, 1.3, 1.5, 1.3, 1.5, 1.3, 1.3, 1.3, 1.6000000000000001, 1.8999999999999999, 1.3999999999999999, 1.6000000000000001, 1.3999999999999999, 1.5, 1.3999999999999999, 4.7000000000000002, 4.5, 4.9000000000000004, 4.0, 4.5999999999999996, 4.5, 4.7000000000000002, 3.2999999999999998, 4.5999999999999996, 3.8999999999999999, 3.5, 4.2000000000000002, 4.0, 4.7000000000000002, 3.6000000000000001, 4.4000000000000004, 4.5, 4.0999999999999996, 4.5, 3.8999999999999999, 4.7999999999999998, 4.0, 4.9000000000000004, 4.7000000000000002, 4.2999999999999998, 4.4000000000000004, 4.7999999999999998, 5.0, 4.5, 3.5, 3.7999999999999998, 3.7000000000000002, 3.8999999999999999, 5.0999999999999996, 4.5, 4.5, 4.7000000000000002, 4.4000000000000004, 4.0999999999999996, 4.0, 4.4000000000000004, 4.5999999999999996, 4.0, 3.2999999999999998, 4.2000000000000002, 4.2000000000000002, 4.2000000000000002, 4.2999999999999998, 3.0, 4.0999999999999996, 6.0, 5.0999999999999996, 5.9000000000000004, 5.5999999999999996, 5.7999999999999998, 6.5999999999999996, 4.5, 6.2999999999999998, 5.7999999999999998, 6.0999999999999996, 5.0999999999999996, 5.2999999999999998, 5.5, 5.0, 5.0999999999999996, 5.2999999999999998, 5.5, 6.7000000000000002, 6.9000000000000004, 5.0, 5.7000000000000002, 4.9000000000000004, 6.7000000000000002, 4.9000000000000004, 5.7000000000000002, 6.0, 4.7999999999999998, 4.9000000000000004, 5.5999999999999996, 5.7999999999999998, 6.0999999999999996, 6.4000000000000004, 5.5999999999999996, 5.0999999999999996, 5.5999999999999996, 6.0999999999999996, 5.5999999999999996, 5.5, 4.7999999999999998, 5.4000000000000004, 5.5999999999999996, 5.0999999999999996, 5.0999999999999996, 5.9000000000000004, 5.7000000000000002, 5.2000000000000002, 5.0, 5.2000000000000002, 5.4000000000000004, 5.0999999999999996]\n",
      "PetalWidth= [0.20000000000000001, 0.20000000000000001, 0.20000000000000001, 0.20000000000000001, 0.40000000000000002, 0.29999999999999999, 0.20000000000000001, 0.20000000000000001, 0.10000000000000001, 0.20000000000000001, 0.20000000000000001, 0.10000000000000001, 0.10000000000000001, 0.20000000000000001, 0.40000000000000002, 0.40000000000000002, 0.29999999999999999, 0.29999999999999999, 0.29999999999999999, 0.20000000000000001, 0.40000000000000002, 0.20000000000000001, 0.5, 0.20000000000000001, 0.20000000000000001, 0.40000000000000002, 0.20000000000000001, 0.20000000000000001, 0.20000000000000001, 0.20000000000000001, 0.40000000000000002, 0.10000000000000001, 0.20000000000000001, 0.10000000000000001, 0.20000000000000001, 0.20000000000000001, 0.10000000000000001, 0.20000000000000001, 0.20000000000000001, 0.29999999999999999, 0.29999999999999999, 0.20000000000000001, 0.59999999999999998, 0.40000000000000002, 0.29999999999999999, 0.20000000000000001, 0.20000000000000001, 0.20000000000000001, 0.20000000000000001, 1.3999999999999999, 1.5, 1.5, 1.3, 1.5, 1.3, 1.6000000000000001, 1.0, 1.3, 1.3999999999999999, 1.0, 1.5, 1.0, 1.3999999999999999, 1.3, 1.3999999999999999, 1.5, 1.0, 1.5, 1.1000000000000001, 1.8, 1.3, 1.5, 1.2, 1.3, 1.3999999999999999, 1.3999999999999999, 1.7, 1.5, 1.0, 1.1000000000000001, 1.0, 1.2, 1.6000000000000001, 1.5, 1.6000000000000001, 1.5, 1.3, 1.3, 1.3, 1.2, 1.3999999999999999, 1.2, 1.0, 1.3, 1.2, 1.3, 1.3, 1.1000000000000001, 1.3, 2.5, 1.8999999999999999, 2.1000000000000001, 1.8, 2.2000000000000002, 2.1000000000000001, 1.7, 1.8, 1.8, 2.5, 2.0, 1.8999999999999999, 2.1000000000000001, 2.0, 2.3999999999999999, 2.2999999999999998, 1.8, 2.2000000000000002, 2.2999999999999998, 1.5, 2.2999999999999998, 2.0, 2.0, 1.8, 2.1000000000000001, 1.8, 1.8, 1.8, 2.1000000000000001, 1.6000000000000001, 1.8999999999999999, 2.0, 2.2000000000000002, 1.5, 1.3999999999999999, 2.2999999999999998, 2.3999999999999999, 1.8, 1.8, 2.1000000000000001, 2.3999999999999999, 2.2999999999999998, 1.8999999999999999, 2.2999999999999998, 2.5, 2.2999999999999998, 1.8999999999999999, 2.0, 2.2999999999999998, 1.8]\n"
     ]
    }
   ],
   "source": [
    "#Code for generating data....\n",
    "datalist=[] #create an empty list\n",
    "# data list is a list of two elements, where index=0 contains data corresponding to petal \n",
    "# length and index=1 contains data corresponding to petal width\n",
    "datalist.append(list(data['PetalLength'].dropna()))\n",
    "datalist.append(list(data['PetalWidth'].dropna()))\n",
    "datalist.append(list(data['SepalLength'].dropna()))\n",
    "datalist.append(list(data['SepalWidth'].dropna()))\n",
    "\n",
    "#If you want you build a numpy array from this list.\n",
    "\n",
    "print \"PetalLength=\", datalist[0]\n",
    "print \"PetalWidth=\", datalist[1]\n",
    "\n",
    "#This and above code are both same...\n",
    "# datalist=[0]*2#create a list of 2 elements\n",
    "# datalist[0]=(list(data['PetalLength'].dropna()))\n",
    "# datalist[1]=(list(data['PetalWidth'].dropna()))\n",
    "#data list is a list of two elements, where index=0 contains data corresponding to petal \n",
    "# length and index=1 contains data corresponding to petal width\n",
    "# print(\"PetalLength=\", datalist[0])\n",
    "# print(\"PetalWidth=\", datalist[1])"
   ]
  },
  {
   "cell_type": "markdown",
   "metadata": {},
   "source": [
    "*In all the tasks given below use the list variable `datalist` (defined above) to answer all the questions.*\n",
    "\n",
    "#### Task1\n",
    "----------------\n",
    "Lets model the petal length and width as continuous random variable $X=(x_1,x_2)$. Find the empirical mean of this random variable. Here $x_1$ specifies the petal length and $x_2$ its width."
   ]
  },
  {
   "cell_type": "code",
   "execution_count": 9,
   "metadata": {
    "run_control": {
     "breakpoint": false
    }
   },
   "outputs": [
    {
     "name": "stdout",
     "output_type": "stream",
     "text": [
      "3.7744966443\n",
      "1.20536912752\n"
     ]
    }
   ],
   "source": [
    "#Write your code here\n",
    "print data.PetalLength.mean()\n",
    "print data.PetalWidth.mean()"
   ]
  },
  {
   "cell_type": "markdown",
   "metadata": {},
   "source": [
    "#### Task2\n",
    "----------------\n",
    "Compute the covariance matrix $X$ using outper product formula, i.e. $\\Sigma=\\frac{1}{n}Z^T\\;Z$, where $Z$ is centered data matrix (mean = 0)"
   ]
  },
  {
   "cell_type": "code",
   "execution_count": 53,
   "metadata": {
    "run_control": {
     "breakpoint": false
    }
   },
   "outputs": [
    {
     "data": {
      "text/plain": [
       "array([[ 3.07559119,  1.2804725 ],\n",
       "       [ 1.2804725 ,  0.57567587]])"
      ]
     },
     "execution_count": 53,
     "metadata": {},
     "output_type": "execute_result"
    }
   ],
   "source": [
    "#Write your code here\n",
    "def getCov():\n",
    "    np_petal_length = np.array(data.PetalLength)\n",
    "    mean_petal_length = np.mean(np_petal_length)\n",
    "    z_petal_length = np_petal_length - mean_petal_length\n",
    "    np_petal_width = np.array(data.PetalWidth)\n",
    "    mean_petal_width = np.mean(np_petal_width)\n",
    "    z_petal_width = np_petal_width - mean_petal_width\n",
    "    n = len(np_petal_length)\n",
    "    bii = sum(p*q for p,q in zip(z_petal_length,z_petal_length))/n\n",
    "    bij = sum(p*q for p,q in zip(z_petal_length,z_petal_width))/n\n",
    "    bjj = sum(p*q for p,q in zip(z_petal_width,z_petal_width))/n\n",
    "    cov_mat=np.array([bii,bij,bij,bjj]).reshape(2,2)\n",
    "    return cov_mat\n",
    "getCov()"
   ]
  },
  {
   "cell_type": "markdown",
   "metadata": {},
   "source": [
    "#### Task3: Multivariate Gaussian\n",
    "----------------\n",
    "Let's model $X$ with multivariate Gaussian. Find the probability of having flowers with petal width and height in the following range $P(3.5 < x_1 < 3.7,5.5 < x_2 <5.6)$.\n",
    "Recall that \n",
    "$$f_{\\mathbf x}(x_1,\\ldots,x_k) = \\frac{1}{\\sqrt{(2\\pi)^k|\\boldsymbol\\Sigma|}} \\exp\\left(-\\frac{1}{2}({\\mathbf x}-{\\boldsymbol\\mu})^\\mathrm{T}{\\boldsymbol\\Sigma}^{-1}({\\mathbf x}-{\\boldsymbol\\mu}) \\right)$$\n",
    "\n",
    "where ${\\mathbf x}$ is a real k-dimensional column vector and $|\\boldsymbol\\Sigma|$ is the determinant of $\\boldsymbol\\Sigma$. For our this case $k=2$ "
   ]
  },
  {
   "cell_type": "code",
   "execution_count": 102,
   "metadata": {
    "run_control": {
     "breakpoint": false
    },
    "scrolled": true
   },
   "outputs": [
    {
     "name": "stdout",
     "output_type": "stream",
     "text": [
      "0.00495388652675\n"
     ]
    }
   ],
   "source": [
    "#Write your code here, you are not allowed to use scipy and numpy function here... \n",
    "k=2\n",
    "co_var = getCov()\n",
    "x1 = np.array([3.5,5.5])\n",
    "x2 = np.array([3.7,5.6])\n",
    "mu = [data.PetalLength.mean(),data.PetalWidth.mean()]\n",
    "first_statement = 1/(math.sqrt(math.pow((2*3.14),k) * np.linalg.det(co_var)))\n",
    "second_statement = math.exp((-0.5)*np.dot((x1-mu).T,(np.dot((x2 - mu),co_var))))\n",
    "print first_statement*second_statement\n"
   ]
  },
  {
   "cell_type": "code",
   "execution_count": 92,
   "metadata": {
    "collapsed": true
   },
   "outputs": [],
   "source": [
    "#Now go and use the function to find the pdf value and compares these newly computed value\n",
    "#with the earlier value and compute the difference...\n"
   ]
  },
  {
   "cell_type": "markdown",
   "metadata": {},
   "source": [
    "#### Task4: Multivariate Gaussian\n",
    "\n",
    "Now consider that both the attributes are statistically independent and normally distributed then what will be the probability of $P(3.5 < x_1 < 3.7,5.5 < x_2 <5.6)$\n"
   ]
  },
  {
   "cell_type": "code",
   "execution_count": 61,
   "metadata": {
    "run_control": {
     "breakpoint": false
    }
   },
   "outputs": [
    {
     "name": "stdout",
     "output_type": "stream",
     "text": [
      "0.00671140939597\n"
     ]
    }
   ],
   "source": [
    "#Write your code here, you are not allowed to use scipy and numpy function here... \n",
    "# k=2\n",
    "# co_var = getCov()\n",
    "# x1 = np.array([3.5,3.7])\n",
    "# x2 = np.array([5.5,5.6])\n",
    "# mu = [data.PetalLength.mean(),data.PetalWidth.mean()]\n",
    "# first_statement = 1/(math.sqrt(math.pow((2*3.14),k) * np.linalg.det(co_var)))\n",
    "# second_statement = math.exp((-0.5)*np.dot((x1[0]-mu).T,(np.dot((x1[1] - mu),co_var))))\n",
    "# print first_statement*second_statement\n",
    "# second_statement = math.exp((-0.5)*np.dot((x2[0]-mu).T,(np.dot((x2[1] - mu),co_var))))\n",
    "# print first_statement*second_statement\n",
    "count_petal_length = 0\n",
    "count_petal_width = 0\n",
    "for items in zip(data.PetalLength,data.PetalWidth):\n",
    "    if items[0] > 3.5 and items[0] < 3.7:\n",
    "        count_petal_length += 1\n",
    "    elif items[1] > 5.5 and items[1] < 5.6:\n",
    "        count_petal_width += 1\n",
    "print count_petal_length/149.0 + count_petal_width/149.0"
   ]
  },
  {
   "cell_type": "markdown",
   "metadata": {},
   "source": [
    "#### Task5: Categorical Random Variables.\n",
    "----------------\n",
    "Lets categorize the petal length variable to four categories, i.e very short $\\in[1,1.6]$, short $\\in(1.6,4.4]$, long $\\in(4.4,5.1]$, very long $\\in(5.1,6.9]$ and model this varible using random variable $x$\n",
    "\n",
    "Find the probability of this cateogrical random variable."
   ]
  },
  {
   "cell_type": "code",
   "execution_count": 39,
   "metadata": {
    "run_control": {
     "breakpoint": false
    }
   },
   "outputs": [
    {
     "name": "stdout",
     "output_type": "stream",
     "text": [
      "[0.28859060402684567, 0.28187919463087246, 0.2751677852348993, 0.28187919463087246]\n"
     ]
    }
   ],
   "source": [
    "#Write your code here\n",
    "probabilities = [0]*4\n",
    "np_petal_length = np.array(data.PetalLength)\n",
    "categorical_petal_length=np.array(data.PetalLength)\n",
    "size_petal_length = len(np_petal_length)\n",
    "mask = (np_petal_length >=1) * (np_petal_length <= 1.6)\n",
    "probabilities[0] = len(np_petal_length[mask])\n",
    "categorical_petal_length[mask] = 1 \n",
    "mask = (np_petal_length >=1.6) * (np_petal_length <= 4.4)\n",
    "probabilities[1] = len(np_petal_length[mask])\n",
    "categorical_petal_length[mask] = 2 \n",
    "mask = (np_petal_length >=4.4) * (np_petal_length <= 5.1)\n",
    "probabilities[2] = len(np_petal_length[mask])\n",
    "categorical_petal_length[mask] = 3 \n",
    "mask = (np_petal_length >=5.1) * (np_petal_length <= 6.9)\n",
    "probabilities[3] = len(np_petal_length[mask])\n",
    "categorical_petal_length[mask] = 4 \n",
    "for itr in enumerate(probabilities):\n",
    "    probabilities[itr[0]] = itr[1]/float(size_petal_length)\n",
    "print probabilities"
   ]
  },
  {
   "cell_type": "markdown",
   "metadata": {},
   "source": [
    "#### Task6: Categorical Random Variables.\n",
    "Find the mean and covariance matrix of categorical variable $x$."
   ]
  },
  {
   "cell_type": "code",
   "execution_count": 52,
   "metadata": {
    "run_control": {
     "breakpoint": false
    }
   },
   "outputs": [
    {
     "name": "stdout",
     "output_type": "stream",
     "text": [
      "Mean:  2.54362416107\n",
      "Covariance Matrix: \n",
      "[[ 0.20669327 -0.06824778 -0.07214765 -0.06629784]\n",
      " [-0.06824778  0.18093597 -0.05872483 -0.05396336]\n",
      " [-0.07214765 -0.05872483  0.18791946 -0.05704698]\n",
      " [-0.06629784 -0.05396336 -0.05704698  0.17730818]]\n"
     ]
    }
   ],
   "source": [
    "#Write your code here\n",
    "print \"Mean: \", sum(categorical_petal_length)/len(categorical_petal_length)\n",
    "matrix_c = np.zeros((149,4))\n",
    "for itr in enumerate(data.PetalLength):\n",
    "    if itr[1] >=1 and itr[1] <= 1.6:\n",
    "        matrix_c[itr[0]][0] = 1\n",
    "    elif itr[1] >=1.6 and itr[1] <= 4.4:\n",
    "        matrix_c[itr[0]][1] = 1\n",
    "    elif itr[1] >=4.4 and itr[1] <= 5.1:\n",
    "        matrix_c[itr[0]][2] = 1\n",
    "    elif itr[1] >=5.1 and itr[1] <= 6.9:\n",
    "        matrix_c[itr[0]][3] = 1\n",
    "print \"Covariance Matrix: \\n\", np.cov(np.transpose(matrix_c))"
   ]
  },
  {
   "cell_type": "markdown",
   "metadata": {},
   "source": [
    "#### Task7: Categorical Random Variables.\n",
    "\n",
    "If we select 10 random flowers what will be the probability of picking 3 very short length, 2 short length, 4 long length and 1 very long petal length flowers."
   ]
  },
  {
   "cell_type": "code",
   "execution_count": 72,
   "metadata": {
    "run_control": {
     "breakpoint": false
    }
   },
   "outputs": [
    {
     "name": "stdout",
     "output_type": "stream",
     "text": [
      "0.836634565831\n"
     ]
    }
   ],
   "source": [
    "#Write your code here\n",
    "import math\n",
    "prob = probabilities[0]\n",
    "not_prob = 1 - prob\n",
    "m_trials = 3\n",
    "k_total = 10\n",
    "combination_petal = (math.factorial(k_total))/(math.factorial(m_trials)*math.factorial((k_total-m_trials)))\n",
    "p1 = combination_petal * math.pow(prob,m_trials)*math.pow(not_prob,(k_total-m_trials))\n",
    "prob = probabilities[1]\n",
    "not_prob = 1 - prob\n",
    "m_trials = 2\n",
    "k_total = 10\n",
    "combination_petal = (math.factorial(k_total))/(math.factorial(m_trials)*math.factorial((k_total-m_trials)))\n",
    "p2 = combination_petal * math.pow(prob,m_trials)*math.pow(not_prob,(k_total-m_trials))\n",
    "prob = probabilities[2]\n",
    "not_prob = 1 - prob\n",
    "m_trials = 4\n",
    "k_total = 10\n",
    "combination_petal = (math.factorial(k_total))/(math.factorial(m_trials)*math.factorial((k_total-m_trials)))\n",
    "p3 = combination_petal * math.pow(prob,m_trials)*math.pow(not_prob,(k_total-m_trials))\n",
    "prob = probabilities[3]\n",
    "not_prob = 1 - prob\n",
    "m_trials = 1\n",
    "k_total = 10\n",
    "combination_petal = (math.factorial(k_total))/(math.factorial(m_trials)*math.factorial((k_total-m_trials)))\n",
    "p4 = combination_petal * math.pow(prob,m_trials)*math.pow(not_prob,(k_total-m_trials))\n",
    "print p1 + p2 + p3 + p4"
   ]
  },
  {
   "cell_type": "markdown",
   "metadata": {},
   "source": [
    "#### Task8: Bivariate Categorical Random Variables.\n",
    "----------------\n",
    "Lets also categorize the petal width variable to three categories, i.e short $\\in[0.1,1.0]$, medium  $\\in(1.0,1.75)$, long $\\in(1.75,2.5]$.\n",
    "\n",
    "Now lets model both the petal length and width as bivariate categorical random variable $X$.\n",
    "Find the probability for following cases.\n",
    "\n",
    "$$p(x_1=[1000], x_2=[000])$$\n",
    "$$p(x_1=[1000], x_2=[001])$$\n",
    "\n",
    "$$p(x_1=[0010], x_2=[010])$$\n",
    "$$p(x_1=[0001], x_2=[100])$$\n"
   ]
  },
  {
   "cell_type": "code",
   "execution_count": 14,
   "metadata": {
    "collapsed": true,
    "run_control": {
     "breakpoint": false
    }
   },
   "outputs": [],
   "source": [
    "#Write your code here"
   ]
  },
  {
   "cell_type": "markdown",
   "metadata": {},
   "source": [
    "#### Task9: Normalization\n",
    "----------------\n",
    "Normalize both the attributes (petal length and petal width) such that after normalization their values must lie in the interval [-2, 5]"
   ]
  },
  {
   "cell_type": "code",
   "execution_count": 79,
   "metadata": {
    "run_control": {
     "breakpoint": false
    }
   },
   "outputs": [
    {
     "name": "stdout",
     "output_type": "stream",
     "text": [
      "Previous Petal Lenght Max,Min:  [6.9000000000000004, 1.0]\n",
      "New Petal Lenght Max,Min:  [5.0, -2.0]\n",
      "Previous Petal Width Max,Min:  [6.9000000000000004, 1.0]\n",
      "New Petal Lenght Max,Min:  [5.0, -2.0]\n"
     ]
    }
   ],
   "source": [
    "#Write your code here\n",
    "max_petal_length = data.PetalLength.max()\n",
    "min_petal_length = data.PetalLength.min()\n",
    "max_petal_width = data.PetalWidth.max()\n",
    "min_petal_width = data.PetalWidth.min()\n",
    "new_max = 5\n",
    "new_min = -2\n",
    "normalize_petal_length = [(new_max-new_min)*(a-min_petal_length)/(max_petal_length-min_petal_length) + new_min for a in data.PetalLength]\n",
    "normalize_petal_width = [(new_max-new_min)*(a-min_petal_width)/(max_petal_width-min_petal_width) + new_min for a in data.PetalWidth]\n",
    "print \"Previous Petal Lenght Max,Min: \",[max_petal_length,min_petal_length]\n",
    "print \"New Petal Lenght Max,Min: \",[max(normalize_petal_length),min(normalize_petal_length)]\n",
    "print \"Previous Petal Width Max,Min: \",[max_petal_length,min_petal_length]\n",
    "print \"New Petal Lenght Max,Min: \",[max(normalize_petal_length),min(normalize_petal_length)]"
   ]
  },
  {
   "cell_type": "markdown",
   "metadata": {},
   "source": [
    "#### Task10: Class wise mean vector and covariance matrix...\n",
    "Iris dataset have three different classes, now go and compute the class-wise (setosa, versicolor and virginica) mean vector and covariance matrix."
   ]
  },
  {
   "cell_type": "code",
   "execution_count": 90,
   "metadata": {},
   "outputs": [
    {
     "name": "stdout",
     "output_type": "stream",
     "text": [
      "[[ 4.42063029  3.1792381   2.78297143]\n",
      " [ 3.1792381   3.91651867  4.14704133]\n",
      " [ 2.78297143  4.14704133  4.57696667]]\n"
     ]
    }
   ],
   "source": [
    "#Write your code here\n",
    "print np.cov([data[data[\"Class\"] == 'Iris-setosa'].mean().values.tolist(),data[data[\"Class\"] == 'Iris-versicolor'].mean().values.tolist(),data[data[\"Class\"] == 'Iris-virginica'].mean().values.tolist()])"
   ]
  },
  {
   "cell_type": "markdown",
   "metadata": {},
   "source": [
    "#### Task11: Caclulating the Probability of a flower belonging to a particular class\n",
    "Using above information, lets model each class to be modeled by continuous multivariate Gaussian Random varible. Now we have recorded a flower with following attributes (sepal lenght=4, petal length=6, sepal width=4, sepal length=5.5) in the field, which class it belongs. "
   ]
  },
  {
   "cell_type": "code",
   "execution_count": 91,
   "metadata": {
    "collapsed": true
   },
   "outputs": [],
   "source": [
    "#Write your code here\n",
    "#I could iterate through all of it but that's not right\n",
    "#How should i use covariance matrix"
   ]
  },
  {
   "cell_type": "markdown",
   "metadata": {},
   "source": [
    "\n",
    "#### Task12:  X is a normally distributed variable with mean μ = 30 and standard deviation σ = 4. Find \n",
    "\n",
    "a) P(x < 40)\n",
    "\n",
    "b) P(x > 21)\n",
    "\n",
    "c) P(30 < x < 35)\n",
    "\n",
    "You can use scipy.stats.norm functions to answer these questions. These problems are contributed by an anonymous source."
   ]
  },
  {
   "cell_type": "code",
   "execution_count": 95,
   "metadata": {},
   "outputs": [
    {
     "name": "stdout",
     "output_type": "stream",
     "text": [
      "0.977249868052\n",
      "0.998650101968\n",
      "0.341344746069\n"
     ]
    }
   ],
   "source": [
    "#Write your code here\n",
    "from scipy import stats\n",
    "mean = 30\n",
    "std = 4\n",
    "z_score_one = (40 - mean)/std\n",
    "z_score_two = (21 - mean)/std\n",
    "z_score_three = (30 - mean)/std\n",
    "z_score_four = (35 - mean)/std\n",
    "print stats.norm.cdf(z_score_one)\n",
    "print 1 - stats.norm.cdf(z_score_two)\n",
    "print stats.norm.cdf(z_score_four)-stats.norm.cdf(z_score_three)"
   ]
  },
  {
   "cell_type": "markdown",
   "metadata": {},
   "source": [
    "#### Task13: \n",
    "The time taken to assemble a car in a certain plant is a random variable having a normal distribution with a mean of 20 hours and a standard deviation of 2 hours. What is the probability that a car can be assembled at this plant in:\n",
    "\n",
    "a) less than 19.5 hours?\n",
    "\n",
    "b) between 20 and 22 hours?"
   ]
  },
  {
   "cell_type": "code",
   "execution_count": 97,
   "metadata": {},
   "outputs": [
    {
     "name": "stdout",
     "output_type": "stream",
     "text": [
      "0.401293674317\n",
      "0.341344746069\n"
     ]
    }
   ],
   "source": [
    "#Write your code here\n",
    "mean = 20\n",
    "std = 2\n",
    "z_score_one =(19.5 - mean)/std\n",
    "z_score_two = (20 - mean)/std\n",
    "z_score_three = (22 - mean)/std\n",
    "print stats.norm.cdf(z_score_one)\n",
    "print stats.norm.cdf(z_score_three)-stats.norm.cdf(z_score_two)"
   ]
  },
  {
   "cell_type": "markdown",
   "metadata": {},
   "source": [
    "#### Task14:\n",
    "A manufacturer of metal pistons finds that on average, 12% of his pistons are rejected because they are either oversized or undersized. What is the probability that a batch of 10 pistons will contain\n",
    "\n",
    "(a) no more than 2 rejects?\n",
    "\n",
    "(b) at least 2 rejects?"
   ]
  },
  {
   "cell_type": "code",
   "execution_count": 98,
   "metadata": {},
   "outputs": [
    {
     "name": "stdout",
     "output_type": "stream",
     "text": [
      "0.891318206278\n",
      "0.341724965796\n"
     ]
    }
   ],
   "source": [
    "#Write your code here\n",
    "print stats.binom.cdf(2,10,0.12)\n",
    "print 1-stats.binom.cdf(1,10,0.12)"
   ]
  },
  {
   "cell_type": "code",
   "execution_count": null,
   "metadata": {
    "collapsed": true
   },
   "outputs": [],
   "source": []
  }
 ],
 "metadata": {
  "kernelspec": {
   "display_name": "Python 2",
   "language": "python",
   "name": "python2"
  },
  "language_info": {
   "codemirror_mode": {
    "name": "ipython",
    "version": 2
   },
   "file_extension": ".py",
   "mimetype": "text/x-python",
   "name": "python",
   "nbconvert_exporter": "python",
   "pygments_lexer": "ipython2",
   "version": "2.7.14"
  }
 },
 "nbformat": 4,
 "nbformat_minor": 1
}
