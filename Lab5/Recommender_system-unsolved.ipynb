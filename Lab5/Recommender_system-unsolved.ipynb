{
 "cells": [
  {
   "cell_type": "markdown",
   "metadata": {},
   "source": [
    "## Recommender systems\n",
    "\n",
    "Nowadays, recommender systems are used to personalize your experience on the web, telling you what to buy, where to eat or even who you should be friends with. People’s tastes vary, but generally follow patterns. People tend to like things that are similar to other things they like, and they tend to have similar taste as other people they are close with. Recommender systems try to capture these patterns to help predict what else you might like."
   ]
  },
  {
   "cell_type": "markdown",
   "metadata": {},
   "source": [
    "### Types\n",
    "- Content-Based (Similarity between items)\n",
    "- Collaborative Filtering (Similarity between user's behaviers)\n",
    "    - Model-Based Collaborative filtering (SVD)\n",
    "    - Memory-Based Collaborative Filtering (cosine similarity)\n",
    "        - user-item filtering\n",
    "        - item-item filtering\n",
    " \n",
    "### Data\n",
    "- [MovieLens 100K Dataset](https://grouplens.org/datasets/movielens/100k/)\n",
    "- 100k movie ratings\n",
    "- 943 users\n",
    "- 1682 movies"
   ]
  },
  {
   "cell_type": "code",
   "execution_count": 1,
   "metadata": {},
   "outputs": [],
   "source": [
    "import numpy as np\n",
    "import pandas as pd\n",
    "import tools as t\n",
    "from sklearn.metrics.pairwise import pairwise_distances"
   ]
  },
  {
   "cell_type": "code",
   "execution_count": 2,
   "metadata": {},
   "outputs": [],
   "source": [
    "#reading\n",
    "header = ['user_id', 'item_id', 'rating', 'timestamp']\n",
    "df = pd.read_csv('u.data', sep='\\t', names=header)"
   ]
  },
  {
   "cell_type": "code",
   "execution_count": 3,
   "metadata": {},
   "outputs": [
    {
     "name": "stdout",
     "output_type": "stream",
     "text": [
      "Number of users = 943 | Number of movies = 1682\n"
     ]
    }
   ],
   "source": [
    "n_users = df.user_id.unique().shape[0]\n",
    "n_items = df.item_id.unique().shape[0]\n",
    "print 'Number of users = ' + str(n_users) + ' | Number of movies = ' + str(n_items)  "
   ]
  },
  {
   "cell_type": "code",
   "execution_count": 59,
   "metadata": {},
   "outputs": [],
   "source": [
    "from sklearn import cross_validation as cv\n",
    "train_data, test_data = cv.train_test_split(df, test_size=0.25)"
   ]
  },
  {
   "cell_type": "code",
   "execution_count": 56,
   "metadata": {},
   "outputs": [
    {
     "data": {
      "text/html": [
       "<div>\n",
       "<style>\n",
       "    .dataframe thead tr:only-child th {\n",
       "        text-align: right;\n",
       "    }\n",
       "\n",
       "    .dataframe thead th {\n",
       "        text-align: left;\n",
       "    }\n",
       "\n",
       "    .dataframe tbody tr th {\n",
       "        vertical-align: top;\n",
       "    }\n",
       "</style>\n",
       "<table border=\"1\" class=\"dataframe\">\n",
       "  <thead>\n",
       "    <tr style=\"text-align: right;\">\n",
       "      <th></th>\n",
       "      <th>user_id</th>\n",
       "      <th>item_id</th>\n",
       "      <th>rating</th>\n",
       "      <th>timestamp</th>\n",
       "    </tr>\n",
       "  </thead>\n",
       "  <tbody>\n",
       "    <tr>\n",
       "      <th>78949</th>\n",
       "      <td>927</td>\n",
       "      <td>763</td>\n",
       "      <td>4</td>\n",
       "      <td>879181749</td>\n",
       "    </tr>\n",
       "    <tr>\n",
       "      <th>14895</th>\n",
       "      <td>59</td>\n",
       "      <td>71</td>\n",
       "      <td>3</td>\n",
       "      <td>888205574</td>\n",
       "    </tr>\n",
       "    <tr>\n",
       "      <th>39149</th>\n",
       "      <td>144</td>\n",
       "      <td>500</td>\n",
       "      <td>4</td>\n",
       "      <td>888105419</td>\n",
       "    </tr>\n",
       "    <tr>\n",
       "      <th>35031</th>\n",
       "      <td>389</td>\n",
       "      <td>181</td>\n",
       "      <td>4</td>\n",
       "      <td>879915806</td>\n",
       "    </tr>\n",
       "    <tr>\n",
       "      <th>5843</th>\n",
       "      <td>194</td>\n",
       "      <td>511</td>\n",
       "      <td>4</td>\n",
       "      <td>879520991</td>\n",
       "    </tr>\n",
       "  </tbody>\n",
       "</table>\n",
       "</div>"
      ],
      "text/plain": [
       "       user_id  item_id  rating  timestamp\n",
       "78949      927      763       4  879181749\n",
       "14895       59       71       3  888205574\n",
       "39149      144      500       4  888105419\n",
       "35031      389      181       4  879915806\n",
       "5843       194      511       4  879520991"
      ]
     },
     "execution_count": 56,
     "metadata": {},
     "output_type": "execute_result"
    }
   ],
   "source": [
    "train_data.describe()\n",
    "train_data.head()"
   ]
  },
  {
   "cell_type": "markdown",
   "metadata": {},
   "source": [
    "### Create a user-item rating matrix"
   ]
  },
  {
   "cell_type": "markdown",
   "metadata": {},
   "source": [
    "<img src=\"user-item.png\">"
   ]
  },
  {
   "cell_type": "code",
   "execution_count": 57,
   "metadata": {
    "collapsed": true
   },
   "outputs": [],
   "source": [
    "def user_item_rating(data):\n",
    "    rowIDs = df['user_id']\n",
    "    colIDs = df['item_id']\n",
    "    A = np.zeros((rowIDs.max(),colIDs.max()))\n",
    "    A[rowIDs-1,colIDs-1] = df['rating']\n",
    "    return A"
   ]
  },
  {
   "cell_type": "code",
   "execution_count": 60,
   "metadata": {},
   "outputs": [
    {
     "name": "stdout",
     "output_type": "stream",
     "text": [
      "(943, 1682) (943, 1682)\n",
      "Train Matrix  [[ 5.  3.  4. ...,  0.  0.  0.]\n",
      " [ 4.  0.  0. ...,  0.  0.  0.]\n",
      " [ 0.  0.  0. ...,  0.  0.  0.]\n",
      " ..., \n",
      " [ 0.  0.  0. ...,  0.  0.  0.]\n",
      " [ 0.  0.  0. ...,  0.  0.  0.]\n",
      " [ 4.  0.  0. ...,  0.  0.  0.]]\n",
      "\n",
      "Test Matrix  [[ 5.  3.  4. ...,  0.  0.  0.]\n",
      " [ 4.  0.  0. ...,  0.  0.  0.]\n",
      " [ 0.  0.  0. ...,  0.  0.  0.]\n",
      " ..., \n",
      " [ 0.  0.  0. ...,  0.  0.  0.]\n",
      " [ 0.  0.  0. ...,  0.  0.  0.]\n",
      " [ 4.  0.  0. ...,  0.  0.  0.]]\n"
     ]
    }
   ],
   "source": [
    "train_data_matrix = user_item_rating(train_data)\n",
    "test_data_matrix = user_item_rating(test_data)\n",
    "\n",
    "print train_data_matrix.shape, test_data_matrix.shape\n",
    "print \"Train Matrix \", train_data_matrix[:10]\n",
    "print\n",
    "print \"Test Matrix \", test_data_matrix[:10]"
   ]
  },
  {
   "cell_type": "markdown",
   "metadata": {},
   "source": [
    "### Calculate Cosine Similarity\n",
    "<img src=\"user_sim.gif\">\n",
    "<img src=\"item_sim.gif\">"
   ]
  },
  {
   "cell_type": "markdown",
   "metadata": {},
   "source": [
    "#### Hint: look for pairwise_distances"
   ]
  },
  {
   "cell_type": "code",
   "execution_count": 89,
   "metadata": {},
   "outputs": [],
   "source": [
    "def cosine_similarity_user(data):\n",
    "    return cosine_similarity(data)"
   ]
  },
  {
   "cell_type": "code",
   "execution_count": 90,
   "metadata": {
    "collapsed": true
   },
   "outputs": [],
   "source": [
    "def cosine_similarity_item(data):\n",
    "    return cosine_similarity(data)"
   ]
  },
  {
   "cell_type": "code",
   "execution_count": 217,
   "metadata": {},
   "outputs": [],
   "source": [
    "from sklearn.metrics.pairwise import cosine_similarity\n",
    "user_similarity = cosine_similarity_user(train_data_matrix)\n",
    "item_similarity = cosine_similarity_item(train_data_matrix.T)"
   ]
  },
  {
   "cell_type": "code",
   "execution_count": 97,
   "metadata": {},
   "outputs": [
    {
     "name": "stdout",
     "output_type": "stream",
     "text": [
      "(943, 943) (1682, 1682)\n",
      "0.166930983869\n",
      "0.4023821783\n"
     ]
    }
   ],
   "source": [
    "print user_similarity.shape, item_similarity.shape\n",
    "print user_similarity[0][1]\n",
    "print item_similarity[0][1]"
   ]
  },
  {
   "cell_type": "markdown",
   "metadata": {},
   "source": [
    "### Predictions\n",
    "- user-item filtering\n",
    "- item-item filtering"
   ]
  },
  {
   "cell_type": "markdown",
   "metadata": {},
   "source": [
    "<img src=\"user_predict.gif\">\n",
    "<img src=\"item_predict.gif\">"
   ]
  },
  {
   "cell_type": "code",
   "execution_count": 226,
   "metadata": {},
   "outputs": [],
   "source": [
    "def predict(ratings, similarity, type='item'):\n",
    "    if type == 'item':\n",
    "#         result = np.dot(ratings,similarity)/ np.array([np.abs(similarity).sum(axis=1)])\n",
    "        print np.shape(ratings)\n",
    "        print np.shape(similarity)\n",
    "        result = np.dot(ratings,similarity)\n",
    "    if type == 'user':\n",
    "        rating_mean = np.mean(ratings,axis=1)\n",
    "        rating_diff = (ratings - rating_mean[:,np.newaxis])\n",
    "        result = rating_mean[:,np.newaxis] + np.dot(similarity,rating_diff) / np.array([np.abs(similarity).sum(axis=1)]).T\n",
    "    return result"
   ]
  },
  {
   "cell_type": "code",
   "execution_count": 227,
   "metadata": {},
   "outputs": [
    {
     "name": "stdout",
     "output_type": "stream",
     "text": [
      "(943, 1682)\n",
      "(1682, 1682)\n"
     ]
    },
    {
     "data": {
      "text/plain": [
       "array([[ 2513.62295555,  2436.79369503,  2314.54464929, ...,\n",
       "         2618.84922329,  2618.68126852,  2618.23078906],\n",
       "       [ 1078.94141117,  1034.33102824,   985.94514636, ...,\n",
       "         1125.46379592,  1125.48930533,  1125.3408924 ],\n",
       "       [  854.74437862,   821.39808256,   782.37893219, ...,\n",
       "          895.51459334,   895.55562691,   895.43551464],\n",
       "       ..., \n",
       "       [ 4756.54211025,  4597.12612512,  4369.72513806, ...,\n",
       "         5103.34579456,  5103.12166657,  5102.37909277],\n",
       "       [ 5331.82083275,  5155.30396766,  4898.1087534 , ...,\n",
       "         5712.67882335,  5712.41250438,  5711.59255174],\n",
       "       [ 5678.98220959,  5495.3368623 ,  5221.06791887, ...,\n",
       "         6081.46298093,  6081.1612561 ,  6080.25628339]])"
      ]
     },
     "execution_count": 227,
     "metadata": {},
     "output_type": "execute_result"
    }
   ],
   "source": [
    "item_prediction = predict(train_data_matrix, item_similarity, type='item')\n",
    "# user_prediction = predict(train_data_matrix, user_similarity, type='user')\n",
    "# print train_data_matrix[1,1] == 1\n",
    "# print np.shape(train_data_matrix)\n",
    "# print np.shape(train_data_matrix[:,1681])\n",
    "# print np.shape(user_similarity[0,:])\n",
    "# print np.mean(train_data_matrix[2,:])\n",
    "item_prediction"
   ]
  },
  {
   "cell_type": "code",
   "execution_count": 213,
   "metadata": {},
   "outputs": [
    {
     "name": "stdout",
     "output_type": "stream",
     "text": [
      "[ 2.12156153  2.03402604  2.05774686 ...,  1.35864862  2.08447116\n",
      "  2.34978973]\n",
      "[ 3.08952651  1.29865335  0.89410707 ...,  2.77339047  2.77594018\n",
      "  2.77632291]\n"
     ]
    }
   ],
   "source": [
    "print item_prediction[0]\n",
    "print user_prediction[0]"
   ]
  },
  {
   "cell_type": "markdown",
   "metadata": {},
   "source": [
    "### Evatuate"
   ]
  },
  {
   "cell_type": "code",
   "execution_count": 214,
   "metadata": {
    "collapsed": true
   },
   "outputs": [],
   "source": [
    "from sklearn.metrics import mean_squared_error\n",
    "from math import sqrt\n",
    "def rmse(prediction, ground_truth):\n",
    "    prediction = prediction[ground_truth.nonzero()].flatten() \n",
    "#     print prediction\n",
    "    ground_truth = ground_truth[ground_truth.nonzero()].flatten()\n",
    "#     print ground_truth\n",
    "    return sqrt(mean_squared_error(prediction, ground_truth))"
   ]
  },
  {
   "cell_type": "code",
   "execution_count": 216,
   "metadata": {},
   "outputs": [
    {
     "name": "stdout",
     "output_type": "stream",
     "text": [
      "Item-based CF RMSE: 1.76137179504\n",
      "User-based CF RMSE: 1.67722221628\n"
     ]
    }
   ],
   "source": [
    "print 'Item-based CF RMSE: ' + str(rmse(item_prediction, test_data_matrix))\n",
    "print 'User-based CF RMSE: ' + str(rmse(user_prediction, test_data_matrix))\n"
   ]
  }
 ],
 "metadata": {
  "anaconda-cloud": {},
  "kernelspec": {
   "display_name": "Python 2",
   "language": "python",
   "name": "python2"
  },
  "language_info": {
   "codemirror_mode": {
    "name": "ipython",
    "version": 2
   },
   "file_extension": ".py",
   "mimetype": "text/x-python",
   "name": "python",
   "nbconvert_exporter": "python",
   "pygments_lexer": "ipython2",
   "version": "2.7.14"
  }
 },
 "nbformat": 4,
 "nbformat_minor": 1
}
